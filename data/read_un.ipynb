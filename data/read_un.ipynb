{
 "cells": [
  {
   "cell_type": "code",
   "execution_count": 7,
   "metadata": {},
   "outputs": [
    {
     "name": "stderr",
     "output_type": "stream",
     "text": [
      "C:\\Users\\juan9\\AppData\\Roaming\\Python\\Python38\\site-packages\\pandas\\core\\computation\\expressions.py:20: UserWarning: Pandas requires version '2.7.3' or newer of 'numexpr' (version '2.7.1' currently installed).\n",
      "  from pandas.core.computation.check import NUMEXPR_INSTALLED\n"
     ]
    }
   ],
   "source": [
    "import pandas as pd\n"
   ]
  },
  {
   "cell_type": "code",
   "execution_count": 2,
   "metadata": {},
   "outputs": [],
   "source": [
    "import xmltodict\n",
    "from gzip import GzipFile\n",
    "\n",
    "\n",
    "language_pairs = []\n",
    "\n",
    "def get_lang_pair(_, tree):\n",
    "    lang_pair = {}\n",
    "    for elem in tree['tuv']:\n",
    "        language = elem['@xml:lang']\n",
    "        text = elem['seg']\n",
    "        lang_pair[language] = text\n",
    "\n",
    "    language_pairs.append(lang_pair)\n",
    "    return True\n",
    "\n",
    "# <tmx>\n",
    "# <body>\n",
    "# <tu>\n",
    "xmltodict.parse(\n",
    "    GzipFile('en-es.tmx.gz'),\n",
    "    item_depth=3, item_callback=get_lang_pair,\n",
    ")"
   ]
  },
  {
   "cell_type": "code",
   "execution_count": 5,
   "metadata": {},
   "outputs": [],
   "source": [
    "lens = list()\n",
    "for p in language_pairs:\n",
    "    lens.append(len(p[\"en\"].split(\" \")))"
   ]
  },
  {
   "cell_type": "code",
   "execution_count": 9,
   "metadata": {},
   "outputs": [
    {
     "data": {
      "text/plain": [
       "count    4793394\n",
       "mean          24\n",
       "std           17\n",
       "min            1\n",
       "25%           12\n",
       "50%           21\n",
       "75%           32\n",
       "max         1820\n",
       "dtype: int32"
      ]
     },
     "execution_count": 9,
     "metadata": {},
     "output_type": "execute_result"
    }
   ],
   "source": [
    "pd.Series(lens).describe().astype(int)"
   ]
  },
  {
   "cell_type": "code",
   "execution_count": 18,
   "metadata": {},
   "outputs": [
    {
     "data": {
      "text/plain": [
       "19816"
      ]
     },
     "execution_count": 18,
     "metadata": {},
     "output_type": "execute_result"
    }
   ],
   "source": [
    "lens_series = pd.Series(lens)\n",
    "over_100 =  (lens_series[lens_series >= 100]).index.values.tolist()\n",
    "to_save = [language_pairs[i] for i in over_100]\n",
    "len(to_save)"
   ]
  },
  {
   "cell_type": "code",
   "execution_count": 19,
   "metadata": {},
   "outputs": [],
   "source": [
    "pd.DataFrame(to_save).to_csv(\"parallel_UN_100w.csv\",index=False)"
   ]
  },
  {
   "cell_type": "code",
   "execution_count": 20,
   "metadata": {},
   "outputs": [
    {
     "data": {
      "text/plain": [
       "360136"
      ]
     },
     "execution_count": 20,
     "metadata": {},
     "output_type": "execute_result"
    }
   ],
   "source": [
    "lens_series = pd.Series(lens)\n",
    "over_50 =  (lens_series[lens_series >= 50]).index.values.tolist()\n",
    "to_save = [language_pairs[i] for i in over_50]\n",
    "len(to_save)"
   ]
  },
  {
   "cell_type": "code",
   "execution_count": 21,
   "metadata": {},
   "outputs": [],
   "source": [
    "pd.DataFrame(to_save).to_csv(\"parallel_UN_50w.csv\",index=False)"
   ]
  },
  {
   "cell_type": "code",
   "execution_count": null,
   "metadata": {},
   "outputs": [],
   "source": []
  }
 ],
 "metadata": {
  "kernelspec": {
   "display_name": "base",
   "language": "python",
   "name": "python3"
  },
  "language_info": {
   "codemirror_mode": {
    "name": "ipython",
    "version": 3
   },
   "file_extension": ".py",
   "mimetype": "text/x-python",
   "name": "python",
   "nbconvert_exporter": "python",
   "pygments_lexer": "ipython3",
   "version": "3.8.5"
  }
 },
 "nbformat": 4,
 "nbformat_minor": 2
}
