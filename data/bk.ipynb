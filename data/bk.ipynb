{
 "cells": [
  {
   "cell_type": "code",
   "execution_count": 1,
   "metadata": {},
   "outputs": [],
   "source": [
    "import json \n",
    "data = [json.loads(line) for line in open('subset_well_parsed.json', 'r')]"
   ]
  },
  {
   "cell_type": "code",
   "execution_count": 2,
   "metadata": {},
   "outputs": [
    {
     "data": {
      "text/plain": [
       "996"
      ]
     },
     "execution_count": 2,
     "metadata": {},
     "output_type": "execute_result"
    }
   ],
   "source": [
    "spanish_compatible_data = [d for d in data if d[\"fulltext_html_es\"] is not None]\n",
    "len(spanish_compatible_data)"
   ]
  },
  {
   "cell_type": "code",
   "execution_count": 3,
   "metadata": {},
   "outputs": [
    {
     "data": {
      "text/plain": [
       "dict_keys(['_id', 'ab_pt', 'fulltext_html_es', 'fulltext_pdf_en', 'ab', 'ti_en', 'journal_title', 'wok_subject_categories', 'keyword_es', 'fulltext_html_pt', 'da', 'subject_area', 'au', 'sponsor', 'available_languages', 'keyword_en', 'ti_es', 'arquivo', 'fulltext_html_en', 'fulltext_pdf_es', 'ti_pt', 'doi', 'ab_es', 'la', 'fulltext_pdf_pt', 'ur', 'wok_citation_index', 'keyword_pt', 'version', 'ti', 'ab_en', 'type', 'use_license', 'ta', 'body_content_en', 'body_content_es', 'body_content_pt'])"
      ]
     },
     "execution_count": 3,
     "metadata": {},
     "output_type": "execute_result"
    }
   ],
   "source": [
    "spanish_compatible_data[0].keys()"
   ]
  },
  {
   "cell_type": "code",
   "execution_count": 4,
   "metadata": {},
   "outputs": [
    {
     "data": {
      "text/plain": [
       "{'en': '{\\'Description of evidence collection method\\': [\\'We conducted searches in multiple databases (Medline 1965-2012; Cochrane Library,               Lilacs) and cross-references with the collected material to identify studies with               better methodological design, followed by a critical evaluation of their contents and               classification according to the strength of evidence.\\', \\'We conducted searches between August and December 2012. The following strategies were               used for searches in PubMed:\\', \\'\"regional anaesthesia\" OR \"anesthesia, conduction\" OR \"anesthesia\" AND                     \"conduction\" OR \"conduction anesthesia\" OR \"regional\" AND \"anesthesia\" OR                     \"regional anesthesia\" AND \"antithrombotic\";\\', \\'\"regional anaesthesia\" OR \"anesthesia, conduction\" [MeSH Terms] AND \"infection\"                     [MeSH Terms] AND \"thromboembolism\" [MeSH Terms] OR \"thromboembolism\" [All                     Fields];\\', \\'\"thromboembolism\" [MeSH Terms] OR \"thromboembolism\" [All Fields] AND \"regional                     anaesthesia\" [All Fields] OR \"anesthesia, conduction\" [MeSH Terms] OR                     \"anesthesia\" [All Fields] AND \"conduction\" [All Fields]) OR \"conduction                     anesthesia\" [All Fields] OR \"regional\" [All Fields] AND \"anesthesia\" [All                     Fields] OR \"regional anesthesia\" [All Fields].\\', \\'In the field of regional anesthesia, we selected studies addressing managements of               different types of regional anesthesia in individuals taking drugs that modify the               blood coagulation status. We focused on risk factors, etiology, prevention,               diagnosis, and treatment. We also included studies assessing the risk of               complications in patients after regional blockade and studies that clarify the               management and safe handling of drugs to be administered.\\'], \\'Level of evidence and strength of recommendation\\': [\\'Experimental or observational studies with better consistency.\\', \\'Experimental or observational studies with less consistency.\\', \\'Case reports or case series (non-controlled studies).\\', \\'Opinion without critical evaluation, based on consensus, expert opinions,                     physiological studies, or animal models.\\'], \\'Objective\\': [\"To assess the safety aspects of regional anesthesia and analgesia, such as the               possible technique\\'s complications; risk factors associated with spinal hematoma,               prevention strategies, diagnosis, and treatment; and safe interval for drug               suspension and resumption after regional block in patients taking antithrombotic               drugs.\"], \\'Introduction\\': [\\'The current incidence of neurological dysfunction resulting from bleeding               complications associated with neuraxial block is unknown. Its occurrence is estimated to be less than 1:150,000 epidural               punctures and 1:220,000 subarachnoid punctures. After neuraxial anesthesia, the use of anticoagulants is the risk factor               most often associated with spinal hematoma.               Because spinal hematoma is rare, recommendations regarding regional anesthesia and               concomitant use of thromboprophylaxis or antithrombotic therapy, which would be of               greater predictive value if reported by prospective randomized studies, are based on               case reports and expert recommendations,               which ethically precludes the study.\\', \\'The number of patients on anticoagulant therapy has been growing due to the aging               process, longer life expectancy, and prevalence of cardiovascular disease.               Recommendations on safety in regional anesthesia and antithrombotic therapy should be               constantly updated, as the introduction of new antithrombotic drugs to the market is               done at regular intervals.\\', \\'This guideline aims to review the risks and recommendations for regional anesthesia               in subjects taking drugs that interfere with coagulation and present safety               regulations and guidelines required for regional procedures.\\'], \\'Spinal/epidural hematoma\\': [{\\'Incidence\\': [\\'Although the incidence of spinal-epidural hematoma (SEH) is small, the clinical                  severity of its consequences, along with litigation costs that follow an adverse                  event, makes it crucial to develop sound strategies for the management of patients                  on anticoagulants during neuraxial anesthesia.\\', \\'In a literature review assessing several                  case reports, we noted that the incidence of SEH was 1:220,000 after spinal                  anesthesia and 1:150,000 after epidural puncture. However, recent indications                  suggest a higher incidence, as the studies used in these calculations were                  conducted before the perioperative thromboprophylaxis routine.\\', \\'After the introduction of enoxaparin (30 mg, twice daily) for thromboprophylaxis                  in the United States, an alarming number of cases of epidural hematoma, some with                  permanent paraplegia, the risk of spinal/epidural hematoma with twice daily                  administration of enoxaparin was reported and calculated at 1:40,800 after spinal                  anesthesia, 1:6,600 after simple epidural puncture, and 1:3,100 after epidural                  puncture with epidural catheter insertion.                  In Europe, a single dose administration of enoxaparin (40 mg) showed a lower                  incidence of spinal hematoma. In a retrospective Swedish study, the authors found a risk of 1:156,000 after                  spinal anesthesia and 1:18,000 in epidural anesthesia. Bleeding was rare in the                  obstetric population (1:200,000) compared with that of women undergoing knee                  arthroplasty (1:3,600). Subsequent studies showed incidences as high as 1:2,700 to                     1:19,505. However, Cook et                  al. presented updated results at the Third National Audit Project of the Royal                  College of Anaesthetists in which only eight cases of SEH were seen in 707,405                  neuraxial blocks. Of these, only five met the inclusion criteria, and the                  incidence was calculated at 1:88,000 to 1:140,000.\\'], \\'Risk Factors\\': [\\'The occurrence of SEH is more spontaneous than the result of neuraxial anesthesia.                  Most spontaneous hematomas are idiopathic; cases related to anticoagulant therapy                  and vascular malformations are the second and third most common causes,                  respectively. Concomitant use of anticoagulants is the main risk factor related to                  SEH, when associated with neuraxial block.\\', \\'Risk factors for SEH have been described by several authors and are shown                  in Table 1. The incidence of SEH varies                  according to the type of surgery, age and gender of patient. For example, the                  incidence of SEH in obstetric surgery is estimated at 1:200,000, whereas in                  geriatric age women undergoing knee arthroplasty it is estimated at 1:3,600. This may be explained by the higher                  incidence of spinal abnormalities associated with osteoporosis, use of dual                  antiplatelet/anticoagulant therapy, and accumulation of anticoagulant due to a                  decrease in renal excretion not detected in this age group.\\', \\'Among the type of neuraxial blocks, the risk of SEH is higher with the use of                  epidural catheters, followed by simple epidural puncture, and less frequent after                  single subarachnoid puncture, the latter                  likely due to the thinner needles used in the technique. Catheter removal is as                  critical as insertion; therefore, vascular injury may still occur at the same incidence; that is, half the                  cases of SEH occurs during epidural catheter removal.\\', \\'There are indications that epidural hematoma is more common after lumbar puncture                  compared with thoracic puncture.\\'], \\'Clinical condition, treatment, and prevention\\': [\\'Bleeding into the spinal canal, which causes thecal sac compression, may result in                  irreversible neurological damage with paraplegia and is a major concern of                  anesthesiologists performing neuraxial block in patients on anticoagulant                     drugs.\\', \\'Clinical condition is characterized by slow regression or absent sensory or motor                  block, back pain, urinary retention or return of motor or sensory deficit after                  complete regression of the previous block, alone or in combination, suggesting the                  development of spinal hematoma.\\', \\'In the presence of clinical suspicion of spinal hematoma, an aggressive diagnostic                  and therapeutic approach is mandatory. This includes emergency nuclear magnetic                  resonance imaging (NMRI) or, if unavailable, computed tomography (CT). Because SEH                  is a neurosurgical emergency, protocols must be established to avoid any delay in                  diagnosis. Once diagnosis is confirmed, decompressive laminectomy should be                  performed within 6-12 hours after the onset of symptoms, enabling chances of                  neurological recovery.\\', \\'Thus, patients should be carefully evaluated to investigate possible signs                  indicating SEH, both after neuraxial block and epidural catheter removal. The                  patient should be monitored at regular intervals until regression of sensory block                  by at least two dermatomes or motor function recovery and for at least 24 hours after epidural catheter                     removal.\\', \\'European and American societies have published guidelines with the goal of                  increasing security in performing neuraxial block in patients on                     anticoagulants. However, most                  of these recommendations are expert opinions based on case series and                  pharmacological data with anticoagulant drugs involved. These recommendations include: (I) minimum time interval                  required between the last dose of anticoagulant and the insertion of neuraxial                  needle/catheter or catheter removal; (II) minimum interval required between the                  insertion of neuraxial needle/catheter or catheter removal and next dose of                  anticoagulant; (III) minimum coagulation time required for the use of neuraxial                  technique (if available for the drug being used).\\', \\'Due to the rapid development of anticoagulant drugs by the pharmaceutical industry                  and their release and increasing use in clinical practice, experiments are lacking                  and it becomes difficult to make any statement on the use of neuraxial anesthesia                  in patients on new anticoagulants.\\', \\'Recently, Rosencher et al. proposed a new strategy for managing patients on new                     anticoagulants. According to this                  strategy, the insertion and subsequent withdrawal of neuraxial needle/catheter                  must be made at a time superior to two half-lives of elimination after the last                  dose of the used anticoagulant. The basis for this proposal is that 30% to 40% of                  the function of coagulation factors is required for hemostasis, so that after two                  half-lives, the drug concentration in bloodstream is near 25% of the initial. The                  next anticoagulant dose should be administered with a time interval (dT) obtained                  by subtracting the time needed for the drug to reach the peak plasma level and the                  time to produce stable blood clot, considered 8 hours (8h-Tpeak =                     dT).\\'], \\'Neuraxial block and use of antiplatelet agents\\': [\\'Antiplatelet drugs consist of non-steroidal anti-inflammatory drugs (NSAIDs),                  thienopyridines (ticlopidine, clopidogrel, and prasugrel), and glycoprotein                  IIb/IIIa inhibitors (abciximab, eptifibatide, and tirofiban).\\'], \\'Acetylsalicylic acid (ASA) and NSAIDs\\': [\"ASA promotes irreversible blockade of platelet function by inhibiting                  cyclooxygenase enzyme production of thromboxane A2 (potent platelet                  activator). This effect lasts the same as the platelets\\' half-life, usually 7-10                     days.\", \\'Other NSAIDs also inhibit cyclooxygenase-1 and platelet aggregation, but in a                  reversible manner and proportional to the agent half-life. This process normalizes                  from 12 to 24 hours after NSAIDs discontinuation. The selective inhibitors of Type 2 cyclooxygenase (COX-2) are                  anti-inflammatory drugs that do not cause platelet dysfunction, as COX-2 is not                  expressed in platelets.\\', \\'The bleeding effect caused by ASA appears to be dose-dependent, with more marked                  effects in patients receiving doses greater than 100 mg.day However, prospective studies evaluating                  the safety of neuraxial block with ASA reported no case of spinal hematoma.\\', \\'Although the isolated use of ASA seems not to increase the probability of spinal                  hematoma, complications have been observed in both medical and surgical patients,                  if combined with heparin. Thus, in                  individuals using ASA, it seems prudent to administer heparin for postoperative                  thrombosis prophylaxis, as the research team did not observe superiority of                  thromboprophylaxis when the heparin dose is given preoperatively                     (B). However, the                  administration of a low-dose combination of ASA-dipyridamole seems not to increase                  the risk of spinal hematoma.\\', \\'In patients with a history of acute coronary syndrome (ACS), cerebrovascular                  accident (CVA) or peripheral arterial occlusive disease, ASA reduces the risk of                  recurrent cardiovascular events by 30% and mortality by approximately 15%. Recent studies suggest that morbidity and                  mortality, particularly in patients with newly implanted coronary stents or                  unstable coronary syndrome is markedly increased if ASA is suspended before a                  surgical procedure. Rebound                  phenomenon has also been described. The                  risk of late thrombosis is higher in patients with drug-eluting stents.\\', \\'In summary, the perioperative suspension of ASA is unnecessary in most cases and                  associated with an increased risk of acute thrombosis. We recommend that patients                  with ACS or stent should continue taking ASA throughout life. The American College of Chest Physicians (ACCP) does not                  recommend platelet function evaluation prior to invasive procedures because there                  is no apparent correlation with bleeding (D).\\']}], \\'Recommendations\\': [\\'Respect the interval between LMWH administration and insertion/removal of                     catheters similar to those used for neuraxial blocks (D);\\', \\'Do not remove any catheter in the period of anticoagulant greatest activity                        (D);\\', \\'Because morbidity is associated with retroperitoneal hematoma, paravertebral or                     lumbar plexus blocks have the same recommendations used in neuraxial blocks                        (D).\\', \\'Superficial blocks, such as axillary, femoral or distal sciatic, may be                     performed with the use of anticoagulation or antiplatelet therapy (D).\\'], \\'Thienopyridines\\': [\\'Ticlopidine (Ticlid®), clopidogrel (Plavix®), and prasugrel (Efient®) are platelet               inhibitors belonging to the class of thienopyridines. They are prodrugs cleaved in               vivo in the liver to active metabolites that antagonize the platelet receptor of               adenosine dinucleotide phosphate (ADP) (P2Y12) and interfere with platelet activation               and aggregation, an effect that can not be antagonized and is irreversible.\\', \\'There is no prospective study assessing the safety of neuraxial techniques in               subjects under treatment with thienopyridines. However, cases of spinal hematoma have               been reported after neuraxial anesthesia in patients taking these drugs.\\'], \\'Ticlopidine (Ticlid)\\': [\\'Ticlopidine half-life is 30 to 50 hours, which increases up to 96 hours if used               routinely for more than 14 days. Platelet               dysfunction with the use of ticlopidine remains for 10 to 14 days after drug                  discontinuation. Unlike clopidogrel,               ticlopidine may lead to neutropenia in more than 1% of patients, which is a limiting               factor of its use.\\'], \\'Clopidogrel (Plavix)\\': [\\'Clopidogrel half-life is 120 hours. However, its active metabolite half-life is only               8 hours. The platelet function maximum               inhibition of oral clopidogrel (75 mg) occurs within 3-7 days or about 12-24 hours               after an initial loading dose of 300-600 mg. Recovery of platelet function occurs               only 6-7 days after the end of clopidogrel administration. In patients at high risk for angina, discontinuation for five               days has been suggested to prevent cardiovascular morbidity.\\'], \\'Prasugrel (Efient)\\': [\\'A novel thienopyridine that, similar to others, depends on hepatic conversion to               active metabolite to bind to platelet P2Y12 receptor (which binds to ADP for platelet               activation) and perform its inhibitory activity. This drug has a rapid onset of               action (30-60 minutes) and is 10 times more potent than clopidogrel. The antiplatelet effect is equal to the life               of platelet, and pretreatment platelet function is restored 7-10 days after drug                  discontinuation.\\', \\'One study comparing prasugrel and clopidogrel in 13,608 patients with acute coronary               syndrome undergoing percutaneous coronary intervention showed significant reduction               of ischemic events treated with prasugrel, but also a higher and occasionally fatal               risk of bleeding.\\'], \\'Glycoprotein IIb/IIIa inhibitors\\': [\\'Glycoprotein IIb/IIIa inhibitors include abciximab (Reopro®), eptifibatide               (Integrilin®), and tirofiban (Aggrastat®). Currently, these agents are the most               effective drugs available for platelet aggregation inhibition, as they block the               platelet glycoprotein IIb/IIIa (the site of fibrinogen binding between platelets),               which is the final common pathway of platelet aggregation. These drugs are only available for intravenous use.               Antiplatelet effects are reversible and disappear after the discontinuation of               eptifibatide, tirofiban, and abciximab within 8, 24, and 48 hours, respectively. The               most common side effects are thrombocytopenia and bleeding, expressed in 0.3-1% with abciximab. Abciximab showed better efficacy than tirofiban and                  eptifibatide.\\'], \\'Other antiplatelet\\': [{\\'Ticagrelor (Brilinta)\\': [\\'Unlike thienopyridines, ticagrelor acts directly on P2Y12 receptor and does not                  require liver biotransformation into active metabolites by cytochrome P450,                  although metabolites are also active. Similar to prasugrel, ticagrelor provides a                  very fast (< 2 h), intense (about 70%), and consistent inhibition of P2Y12                  receptor, which is greater than that of clopidogrel (30-40%). It has a rapid onset of action with reversible binding and                  short duration (48-72 h), and requires oral administration in two doses. The                  initial effect on platelet aggregation is seen 30 minutes after loading dose. With                  treatment discontinuation, platelet function is restored within 4-5 days.\\']}], \\'Cilostazol (Vasogard, Cebralat,\\\\n               Pletal)\\': [\\'Cilostazol provides selective inhibition of phosphodiesterase IIIa (PDEIIIa); thus,               it increases the level of intracellular cyclic adenosine monophosphate (cAMP) and               leads to weak platelet aggregation inhibition. Because vascular smooth muscle contains PDEIIIa, cilostazol also               provides direct arterial vasodilation. Nevertheless, cilostazol mechanism of action               is not fully understood. Its use is indicated for peripheral arterial disease and               intermittent claudication in individuals who do not respond to exercise therapy and               those with low possibility of surgical intervention.\\', \\'The route of administration is orally at a dose of 100 mg twice daily, and peak               plasma level is achieved within 2.7 to 3.6 hours. Drug compound is mainly eliminated               by hepatic metabolism and subsequent urinary excretion of metabolites. The terminal               elimination half-life of cilostazol and its active metabolites is approximately 21               hours, and some of its metabolites inhibit platelet aggregation at a higher intensity               than the parent compound.\\', \"A recent case report found spinal hematoma after epidural catheter removal during               treatment with cilostazol, but, in general,               there is no prospective data on this drug\\'s perioperative use and its effect on               bleeding incidence is unknown.\"], \\'Heparins\\': [{\\'Unfractionated heparin (UFH)\\': [\\'The major anticoagulant effect of heparin is due to pentasaccharide present in one                  third of heparin molecules, which binds to antithrombin III (ATIII). After this binding, UFH catalyses the                  inactivation of IIa (thrombin), IXa, and Xa, and, to a lesser extent, XIa and XIIa                     factors. In the absence of heparin,                  antithrombin III has low affinity for thrombin. However, when UFH binds to ATIII,                  the thrombin-binding rate accelerates from 100 to 1,000 times, similarly to other                  coagulation factors inhibited by it. UFH also binds strongly to several plasma                  proteins, endothelial cells, macrophages, and platelet factor 4 (PF4), which                  results in low bioavailability, inaccurate pharmacokinetics, and heparin-induced                  thrombocytopenia (HIT).\\', \\'The anticoagulant activity of UFH depends on both the number of heparin molecules                  with the pentasaccharide chain in its composition and the size of molecules                  containing the pentasaccharide. The high molecular weight heparins will catalyze                  the inhibition of Xa and IIa factors, while the low molecular weight heparins will                  only inhibit the Xa factor.\\', \\'Intravenous administration of UFH results in immediate anticoagulation, while                  subcutaneous administration results in onset of action within 1-2 hours. The                  anticoagulant effect is both molecular weight and dose dependent, in a nonlinear                  manner, and increases disproportionately with increased dose. The biological half-life of heparin increases from 30                  minutes with 25 UI.kg IV to 60 minutes with 100 UI.kg                  and to 150 minutes with 400 UI.kg.\\', \\'When given in therapeutic doses, UFH anticoagulation is monitored by the activated                  partial thromboplastin time (aPTT). During cardiopulmonary bypass, coagulation                  inhibition by high doses of heparin is monitored by the activated clotting time                  (ACT). Subcutaneous administration of small doses (5,000 IU) for prophylaxis of                  deep venous thrombosis (DVT) usually does not change the aPTT. One of the                  advantages of heparin anticoagulation is the reversal by protamine. Each milligram                  of protamine can neutralize 100 IU of heparin.\\', \\'A review study of more than 9,000 patients undergoing neuraxial block with                  prophylactic doses for DVT with heparin showed no cases of spinal hematoma. However, isolated cases have been reported                  subsequently to that revision. In patients receiving two- daily dose regimen of                  subcutaneous UFH (5,000 IU) there is no contraindication for the use of neuraxial                     techniques. However, there are                  insufficient data to confirm the safety of neuraxial techniques with three daily                  doses, despite being the most effective dosage for DVT prevention.\\', \\'In contrast to UFH prophylactic regimen, anticoagulation therapy is definitely                  associated with increased risk of spinal hematoma. A prospective study (n = 342) comparing the incidence of spinal                  hematoma in patients with and without therapeutic doses of UFH and undergoing                  lumbar puncture showed incidence of 2% in the UFH group. The risk factors were:                  (i) less than 1 hour interval between the onset of heparin and lumbar puncture;                  (ii) concomitant use of ASA at the time of lumbar puncture; and (iii) traumatic                     procedure. Recently, two cases of                  epidural hematoma were reported associated with UFH therapy and neuraxial                     block.\\', \\'Heparinization during surgery involves the use of 5,000 to 10,000 U of heparin                  intravenously during surgery, particularly in vascular surgery to prevent                  thrombosis during artery clamping. Most                  published cases series uses the same guidelines for neuraxial anesthesia                  management in these patients, based on the exclusion of high-risk patients                  (preexisting coagulopathy) and performing the neuraxial technique at least one                  hour before heparin administration.                  Stafford-Smith showed increased incidence of bleeding in patients on ASA                  associated with intraoperative intravenous heparin. SEH risk increased to 1:8,500                  after epidural puncture and to 1:12,000 after spinal anesthesia, even when                  neuraxial anesthesia and subsequent heparinization occurred after one-hour                     interval.\\', \\'In cardiac surgery, the benefits of thoracic epidural anesthesia on pulmonary                  function and analgesia are evident, with lower intensity for arrhythmia management                  and no effect on hospital and ICU length of stay and mortality. However, the benefits must be evaluated concerning the high risk of                  SEH. The probability of spinal hematoma in patients undergoing cardiac surgery                  with full heparinization is 1:1,528 with epidural and 1:3,610 with spinal                     techniques. Experts recommend that neuraxial block be                  performed the day before surgery due to complete surgical heparinization. Because                  neuraxial blockade in cardiac surgery carries significant risks without improving                  morbidity and mortality, there is discussion whether epidural or spinal anesthesia                  is justified, probably with the contraindication of the technique in this                     group.\\']}], \\'Low molecular weight heparin (LMWH)\\': [\\'LMWH has become the treatment of choice for both prevention and treatment of DVT, due               to the greater bioavailability (almost 100%) after subcutaneous administration, which               results in higher anticoagulant effect without increasing bleeding tendency and ease               of use without the need for blood coagulation monitoring.\\', \\'Pharmacology of LMWH differs from UFH. The main differences are the highest               inhibitory activity against the Xa factor compared with thrombin (IIa), anticoagulant               effect difficult monitoring (factor Xa levels), prolonged half-life, and lack of               complete reversibility with protamine. With               subcutaneous administration, peak plasma levels are reached in approximately 3-4               hours, and the half-life of elimination, with normal renal function, is within 4-6                  hours. However, the anti-factor Xa activity remains considerable               (50%) after 10-12 hours of administration. If creatinine clearance falls below 30                  mL.min, the half-life doubles. Compared to UFH, the risk of thrombocytopenia (HIT) is 10 times lower.               However, they are contraindicated in HIT due to the high risk of cross-reaction,               approximately 90%.\\', \\'If thromboprophylaxis with LMWH is prescribed in two daily doses (30 mg), compared to               a daily dose regimen, the risk of spinal hematoma may be increased, as the minimum               levels of anti-Xa activity are higher.\\', \\'The use of LMWH in patients undergoing neuraxial block was adopted in Europe in 1987.               Dosages used were 20-40 mg in a single dose 12 hours before surgery. To prevent the               occurrence of spinal hematoma, guidelines recommended insertion/removal of epidural               catheter at a minimum interval of 10-12 hours after the last dose of LMWH. The               subsequent dose was restarted after 8-12 hours. Thus, reviews               involving data from millions of patients showed that the use of neuraxial block in               subjects on LMWH under the European regime was safe, with report of only one case of               spinal hematoma.\\', \\'On the other hand, in the United States, enoxaparin introduced in 1993 had no               recommendation regarding time between drug administration and neuraxial block or               catheter removal. Enoxaparin was routinely administered in the immediate               postoperative period at a dose of 30 mg twice daily. After five years of use, the               Food and Drug Administration (FDA) accumulated reports of 43 patients undergoing               neuraxial blocks who developed spinal hematoma. In 1998, 13 cases of spinal hematoma associated with LMWH had been               reported in Europe, while in United States, it reached 60 cases. Reasons for the high rates were attributed to: (i) higher               daily dose prescription of LMWH; (ii) more frequent doses, possibly leading to higher               minimum blood level during catheter insertion/removal; (iii) lack of practical               guidelines for neuraxial block and LMWH administration; (iv) lack of larger                  series.\\', \\'After the Second American Society of Regional Anesthesia (ASRA) resolution in 2003,               studies in the English literature reported 10 cases related to the combination of               LMWH and spinal hematoma. Five additional cases were reported by the Royal College of               Anesthetists Consensus in the UK in 97,925 epidural blocks, but without proven               evidence of association with anticoagulant drugs.\\'], \\'Vitamin K antagonists (coumarins)\\': [\\'Vitamin K antagonists include acenocoumarol, phenprocoumon, and warfarinas. These               drugs inhibit the gamma-carboxylation synthesis of vitamin K-dependent factors (II,               VII, IX, X) and C and S proteins, which makes them unable to bind phospholipid in               platelet membranes during coagulation. Prothrombin time (PT) and international               normalized ratio (INR) are tests commonly used to monitor these drugs and reflect the               plasma activity of three (II, VII, and X) of the four clotting factors. Clinical               experiences suggest that the 40% activity level of each factor is adequate for normal               hemostasis, or near normal. INR of 1.5 is               associated with the 40% activity of factor VII. Because factor VII has a shorter half-life (about 6 hours), the initial               increase of INR when coumarin anticoagulants are used reflects the loss of factor VII               activity. However, these drugs therapeutic effect is more dependent on the reduction               of factors II and X, which have half-lives relatively longer, 60 to 72 hours and 24               to 36 hours, respectively. After warfarin discontinuation, factor II is the latest to                  normalize. Thus, after drug               discontinuation, INR may return to near normal values due to the activity restoration               of factor VII. However, factors II and X may not have been restored to normal               hemostatic levels. Its anticoagulant effect               can be effectively prevented by vitamin K, fresh frozen plasma or prothrombin complex               concentrate (II, VII, IX, and X factors) administration.\\', \\'Although the ASRA has recommended epidural catheter removal with INR less than 1.5,               this value has been considered as conservative. Reports show epidural catheter               removal with INR higher and uneventful. If it occurs in               the first 48 hours of medication use, it is likely that there are adequate levels of               clotting factors activity, particularly II and X factors. Beyond this period, all               vitamin K-dependent clotting factors will be affected. There was no reported case of               spinal hematoma in 11,235 patients receiving epidural analgesia after total knee               arthroplasty, and treated with warfarin (5-10 mg) started the night before the               procedure. Epidural catheters were removed 48 hours postoperatively. Mean INR at               recession time of was 1.5 (0.9-4.3). INR was less than 1.5 in approximately 40% of               cases. These series suggest that not only the INR value should be considered during               epidural catheter management, but also the duration of therapy with warfarin, and               that a prolonged time for more than 48 hours may represent significant increased risk               of hematoma.\\', \\'Perioperative management of patients on warfarin remains controversial.               Recommendations are based on drug pharmacology, clinically relevant levels, and               deficiency of vitamin K-dependent clotting factors, case series, and spinal hematoma                  reports.\\'], \\'Factor Xa inhibitors\\': [{\\'Fondaparinux (Arixtra)\\': [\\'Fondaparinux is a synthetic selective pentasaccharide that indirectly inhibits                  factor Xa. Unlike the LMWH, it has no effect on factor IIa (thrombin). Platelet                  aggregation is unaffected. This compound                  has approximately 100% bioavailability after subcutaneous administration and                  half-life of elimination of 18-21 hours, primarily by the kidneys. Half-life is                  prolonged to 36-42 hours when creatinine clearance is less than 50                     mL.min, and is contraindicated in patients with clearance less                  than 30 mL.min. Prophylactic                  dose is 2.5 mg via subcutaneous rout once daily.\\', \\'Fondaparinux is usually administered 6-12 hours after surgery, as its preoperative                  use may increase the risk of surgical bleeding without improving antithrombotic                     efficacy. Because it is used                  postoperatively, there are no problems with single puncture neuraxial anesthesia.                  However, if the catheter is inserted, it should be removed only in the absence of                  fondaparinux plasma levels. The recommendations for epidural catheter management                  in patients on fondaparinux are based on the conditions used in the study by                  Singelyn et al. This study evaluated                  5,387 patients, of whom 1,428 underwent regional anesthesia, and the single dose                  of fondaparinux the night before catheter removal was omitted. Thus, the research                  team ensured an interval of 36 hours between the last dose and catheter removal                  and 12 hours between catheter removal and the subsequent dose of fondaparinux.                  There was no case of spinal hematoma and no increased risk of DVT.\\', \\'According to the American College of Chest Physicians (ACCP), even with two                  reported cases of HIT with fondaparinux, its use in patients with a history of HIT                  is suggested as an option to UFH or LMWH.\\']}], \\'Rivaroxaban (Xarelto)\\': [\\'Rivaroxaban is a selective inhibitor of factor Xa. It is orally administered and               approved for DVT prevention after total knee and hip replacement surgery. Treatment               is initiated 6-8 hours after surgery; with a single dose of 10 mg, peak plasma levels               are achieved in 2-4 hours. Studies show better efficacy compared to enoxaparin for                  thromboprophylaxis, as well as compared               to heparins and vitamin K antagonists for treating DVT.\\', \\'Rivaroxaban has a half-life of 5-9 hours, is poorly influenced by renal function (33%               clearance occurs via kidneys), as it also has hepatic clearance. However, in the               elderly, the half-life may be prolonged to 11-13 hours.\\', \\'Rivaroxaban prolongs aPTT and HepTest, but these tests are not recommended to               evaluate the drug anticoagulant effect.               Prothrombin time (PT) is influenced by rivaroxaban in a dose dependent manner, with               close correlation with plasma concentrations, and should be measured in seconds and not by IRN. However, routine               monitoring is not considered necessary. Similar to most new anticoagulants,               rivaroxaban cannot be antagonized.\\'], \\'Apixaban (Eliquis)\\': [\\'Apixaban is a direct factor Xa inhibitor, administered orally. It has 60%               bioavailability and does not require biotransformation for activation. In contrast with vitamin K antagonists,               apixaban does not interact with food. Peak plasma levels are reached in 3 hours,               half-life is about 12 hours (10-15 hours), and two daily doses are required. There is no need for routine coagulation monitoring. Kidneys eliminate               only 25% and the hepatic and biliary metabolisms eliminate 75%, excreted via the               bowel.\\', \\'Randomized studies have shown the efficacy and safety of apixaban after knee and hip               replacement surgeries. Evaluation of 18,201 individuals with atrial               fibrillation, which compared apixaban with warfarin, showed that apixaban was               superior in thromboprophylaxis, with low risk of bleeding and lower mortality                  rate. Based on these studies, apixaban is               likely to be approved for anticoagulation in non-valvular atrial fibrillation and               thromboprophylaxis in hip and knee surgeries.\\'], \\'Thrombin inhibitors\\': [{\\'Dabigatran (Pradaxa)\\': [\\'Dabigatran is a new thrombin reversible inhibitor orally administered and recently                  approved for DVT prophylaxis in patients undergoing hip or knee replacement                     surgery. Dabigatran is administered as                  the prodrug (dabigatran etexilate), which is converted to dabigatran by plasma                  esterases. This compound has a half-life of 12-17 hours, eliminated mainly by the                  kidney, and cannot be antagonized. After administration, peak plasma levels are                  reached in 2-4 hours. Effects of continuous use may persist for 5-7 days,                  depending on renal function.\\', \\'Treatment is initiated 1-4 hours after surgery at doses ranging from 75 mg                  (creatinine clearance 30-50 mL.min) to 110 mg (normal renal                  function). Dosage is escalated to 150 mg to 220 mg on subsequent days. Dabigatran                  prolongs aPTT without linear effect. Thrombin time (TT) is particularly sensitive                  and reference for anticoagulation management, with linearity between dose-response                  in therapeutic concentrations.                  Anticoagulation reversal is theoretically possible by administration of                  recombinant factor VIIa, although not clinically tested.\\', \\'The effectiveness of dabigatran (220 mg) for DVT prevention is compared to that of                  enoxaparin (40 mg.day) and without increased bleeding. Preliminary studies of dabigatran and                  neuraxial block were conducted with epidural catheter removal 4-6 hours before the                  first dose. There is no study of patients on dabigatran and use of epidural                  catheters.\\']}], \\'Argatroban (Argatra)\\': [\\'Argatroban is a direct thrombin reversible inhibitor that binds to the different               forms of thrombin. It is               indicated for patients with thrombosis associated with heparin-induced               thrombocytopenia (HIT) by the lack of interaction with platelet factor 4 (PF4).\\', \\'Argatroban is administered by continuous IV infusion and eliminated exclusively by               the liver, and may be used in renal failure. The dose of 0.5-2 μg.kg.min               is adjusted to maintain aPTT within 1.5 to 3 of the normal value. In patients with               good liver function, aPTT normalization occurs 2-4 hours from the end of infusion due               to the short half-life of 35-45 minutes.\\'], \\'Desirudin (Iprivask) e lepirudin (Refludan)\\': [\\'Recombinant hirudins (lepirudin and desirudin) are from the first generation of               direct thrombin inhibitors and are parenterally administered. They have no               interaction with platelet factor 4 (PF4) and, therefore, do not trigger               heparin-induced thrombocytopenia (HIT). Desirudin is indicated for DVT prophylaxis               and lepirudin for DVT treatment of patients with history of HIT.\\', \\'Both lepirudin and desirudin have half-lives of 1.3-2 hours, but it increases               significantly in renal failure. Due to the potential risk of bleeding, the               anticoagulant effect of hirudin should be routinely monitored with aPTT or ecarin               clotting time (ECT).\\'], \\'Neuraxial block and laboratory tests\\': [\\'Current guidelines and consensus state that neuraxial block should not be performed               in patients with thrombocytopenia; however, none of them determine the minimum limit               of platelets number to perform neuraxial block.\\', \\'Platelet function appears to be more important than the isolated number of,                  platelet. Researchers suggest a               platelet count greater than 50,000.mm with preserved function as               acceptable, while a platelet count greater than 100,000.mm is acceptable               without considering evaluation test of platelet function.\\', \\'A recent study reported that in the absence of risk factors, platelet count >                  80,000.mm is considered safe to perform spinal/epidural blocks and               platelet count > 40,000.mm to perform simple lumbar puncture.\\', \\'Regarding secondary hemostasis, the 40% activity level of each factor is adequate or               near normal for normal hemostasis. INR of               1.5 is associated with the 40% activity of factor VII. Bleeding may occur if the               level of any coagulation factor is reduced to 20-40% of its normal value.\\'], \\'Peripheral nerve blocks and anticoagulants\\': [\\'Although spinal hematoma is the most important hemorrhagic complication of regional               anesthesia because of the catastrophic nature of bleeding into a restricted and               non-compressible space, the associated risk after plexus and peripheral nerve blocks               remains undefined.\\', \\'The presence of hematoma may increase morbidity and mortality, and there are reported               cases involving retroperitoneal hematoma after lumbar plexus block with the use of               enoxaparin or clopidogrel. In one of these reports, the catheter inserted into the               lumbar plexus was removed 1.5 hours after the last dose of heparin.\\', \\'Although most of the cases have evolved without neurological damage, there was               extension of the hospital stay, with injury and patient dissatisfaction, as well as               need for transfusion of packed red blood cells. Some showed deficits engines and               sensitives, renal failure and death by bleeding.\\', \\'The German Society of Anesthesiology and Intensive Care Medicine adopts the same               recommendations for neuraxial, peripheral nerve, and plexus blocks in patients on               antithrombotic drugs. The Austrian Society               differentiates neuraxial blocks from deep or superficial peripheral blocks. These latter, similar to axillary brachial               plexus, femoral nerve, and distal sciatic blocks, may be performed with the use of               ASA and anticoagulants.\\', \\'With the increasing use of ultrasound to aid peripheral nerve and plexus blocks, the               number of complications, such as vascular puncture, decreased because of the dynamic               visualization of structures adjacent to the nerve to be blocked. Thus, evidence probably will demonstrate the actual decrease               in complication rates with this technique and, therefore, recommend the relatively               safe use of peripheral nerve blocks guided by ultrasound in anticoagulated               patients.\\']}',\n",
       " 'es': '{\\'Descripción del método de recolección de evidencias\\': [\\'Se hicieron búsquedas en múltiples bases de datos (Medline 1965 a 2012; Cochrane               Library; Lilacs) como también referencias cruzadas con el material investigado para               la identificación de los artículos con un mejor diseño metodológico, seguidas de una               posterior evaluación crítica de su contenido y de una clasificación a tono con la               fuerza de la evidencia.\\', \\'Las búsquedas se hicieron entre agosto y diciembre de 2012. Para las búsquedas en el               PubMed, se usaron las sigu-ientes estrategias de investigación:\\', \\'\"regional anaesthesia\" OR \"anesthesia, conduction\" OR \"anesthesia\" AND                     \"conduction\" OR \"conduction anesthesia\" OR \"regional\" AND \"anesthesia\" OR                     \"regional anesthesia\" AND \"antithrombotic\";\\', \\'\"regional anaesthesia\" OR \"anesthesia, conduction\" [MeSH Terms] AND \"infection\"                     [MeSH Terms] AND \"thromboembolism\" [MeSH Terms] OR \"thromboembolism\" [All                     Fields];\\', \\'\"thromboembolism\" [MeSH Terms] OR \"thromboembolism\" [All Fields] AND \"regional                     anaesthesia\" [All Fields] OR \"anesthesia, conduction\" [MeSH Terms] OR                     \"anesthesia\" [All Fields] AND \"conduction\" [All Fields]) OR \"conduction                     anesthesia\" [All Fields] OR \"regional\" [All Fields] AND \"anesthesia\" [All                     Fields] OR \"regional anesthesia\" [All Fields].\\', \\'En el campo de la anestesia regional, se seleccionaron estudios que abordan conductas               para la realización de los diferentes tipos de anestesia regional, en los individuos               en tratamiento con medicamentos que modifican el estado de la coagulación sanguínea y               enfocan factores de riesgo, etiología, prevención, diagnóstico y tratamiento. También               fueron incluidos los estudios que evalúan los riesgos de complicaciones en pacientes               después de que ya se hizo el bloqueo regional, y los que clarifican la conducta y la               seguridad en el manejo de los fármacos que serán administrados.\\'], \\'Grados de recomendación y fuerza de evidencia\\': [\\'Estudios experimentales u observacionales de mejor consistencia.\\', \\'Estudios experimentales u observacionales de menor consistencia.\\', \\'Relatos o series de casos (estudios no controlados).\\', \\'Opinión sin evaluación crítica y con base en los consensos, opiniones de                        expertos, estudios fisiológicos o modelos animales.\\'], \\'Objetivo\\': [\\'Evaluar los aspectos de la seguridad en anestesia y analgesia regional en pacientes               en tratamiento con medicaciones antitrombóticas tales como: posibles complicaciones               provenientes de la técnica; factores de riesgo asociados con el hematoma espinal, con               las estrategias de prevención, con el diagnóstico y con el tratamiento; e intervalo               seguro para la suspensión y el reinicio de la droga después del bloqueo regional.\\'], \\'Introducción\\': [\\'Actualmente no se conoce la actual incidencia de disfunción neurológica resultante de               las complicaciones hemorrágicas asociadas con el bloqueo neuroaxial. Se estima que se dé en < 1 en 150 mil               punciones epidurales y < 1 en 220 mil en punción subaracnoidea. Después de la anestesia neuroaxial, el uso de               anticoagulantes es el factor de riesgo más a menudo asociado con el hematoma                  espinal. En virtud de la raridad del               hematoma espinal, las recomendaciones respecto de la anestesia regional y del uso               concomitante de tromboprofilaxis o terapia antitrombótica, que serían de mayor valor               predictivo si se presentan por estudios prospectivos aleatorizados, se fundamentan en               relatos de casos y en recomendaciones de expertos, lo que éticamente inviabiliza el estudio.\\', \\'En razón del proceso de envejecimiento y de la mayor expectativa de vida de la               población, ha venido aumentando el número de pacientes en tratamiento con terapia               anticoagulante, a causa de la prevalencia de enfermedades cardiovasculares. Las               recomendaciones respecto de la seguridad en anestesia regional y en terapia               antitrombótica, deben ser constantemente actualizadas en razón de la introducción en               el mercado, a intervalos regulares, de nuevas drogas antitrombóticas.\\', \\'Esta directriz, tiene el objetivo de revisar los riesgos y las recomendaciones para               la anestesia regional en individuos que están en tratamiento con drogas que               interfieren en la coagulación, presentando normas de seguridad y las orientaciones               necesarias para los procedimientos regionales.\\'], \\'Hematoma espinal/epidural\\': [{\\'Incidencia\\': [\\'A pesar de que la incidencia del hematoma espinal/epidural (HEP) sea pequeña, la                  gravedad clínica de sus consecuencias, conjuntamente con los costes de litigio                  posterior al evento adverso, hace con que sea crucial el desarrollo de estrategias                  sólidas para el manejo de pacientes en tratamiento de anticoagulantes durante una                  anestesia neuroaxial.\\', \\'En una revisión de la literatura, con el                  análisis de varios relatos de caso, observamos que la incidencia de HEP fue de                  1:220.000 posteriormente a la anestesia subaracnoidea y 1:150.000 posteriormente a                  la punción epidural. Sin embargo, recientes indicativos sugieren una incidencia                  mayor, porque los trabajos usados en esos cálculos se hicieron antes de la rutina                  de tromboprofilaxis perioperatoria.\\', \\'Después de la introducción de la enoxaparina 30 mg dos veces al día para la                  tromboprofilaxis en los Estados Unidos, se reportó un número alarmante de casos de                  hematoma epidural, algunos con permanente paraplejia, calculándose el riesgo de                  hematoma espinal/epidural con la administración en dos dosis diarias de                  enoxaparina de 1:40.800 post-anestesia subaracnoidea, 1:6.600 post-punción                  epidural sencilla y 1:3.100 post-punción epidural con inserción de catéter                     epidural. En Europa, la aplicación de                  una dosis única de enoxaparina de 40 mg mostró una incidencia menor de hematoma                  espinal. En un estudio retrospectivo hecho en Suecia, se encontró un riesgo de 1:156.000 post-anestesia                  subaracnoidea y 1:18000 en anestesia epidural. El sangramiento fue algo raro en la                  población obstétrica (1:200.000) comparado con el de las mujeres sometidas a la                  artroplastia de rodilla (1:3.600). Estudios posteriores arrojaron incidencias tan                  altas como 1:2.700 a 1:19.505. Sin embargo,                  Cook y col. presentaron en el Third National Audit Project of the Royal                     College of Anaesthetists resultados actualizados en los cuales                  solamente ocho casos de HEP fueron observados en 707.405 bloqueos neuroaxiales. De                  ellos, solamente cinco respetaban los criterios de inclusión y la incidencia fue                  calculada en de 1:88.000 a 1:140.000.\\'], \\'Factores de riesgo\\': [\\'El HEP ocurre más espontáneamente que como siendo resultado de la anestesia del                  neuro eje. La mayoría de los hematomas espontáneos es idiopática, pero casos                  relacionados con la terapia anticoagulante y con las malformaciones vasculares                  representan la segunda y la tercera causas más comunes, respectivamente. Cuando                  está asociado con la anestesia neuroaxial, el uso concomitante de anticoagulantes                  representa el principal factor de riesgo asociado con el HEP.\\', \\'Los factores de riesgo para el HEP han sido descritos por varios autores y aparecen en                  la Tabla 1. La incidencia del HEP varía de                  acuerdo con el tipo de cirugía, la edad y el sexo de los pacientes. Por ejemplo,                  la incidencia del HEP en cirugías obstétricas está estimada en 1:200.000, mientras                  que en artroplastia de rodilla de mujeres en la franja geriátrica está estimada en                     1:3.600. Probablemente puede ser                  justificado por una mayor incidencia, en esa edad, de anormalidades espinales                  asociadas con la osteoporosis, uso de doble terapia antiplaquetaria/anticoagulante                  y acumulación de anticoagulante a causa de una reducción no detectada de la                  excreción renal.\\', \\'Entre los tipos de bloqueo de neuro eje, el riesgo de HEP es mayor con el uso de                  catéteres epidurales, seguido de punción epidural sencilla y menos frecuentemente                  después de la punción subaracnoidea única, esa última tal                  vez a causa de agujas más finas para el uso de la técnica. La retirada del catéter                  epidural es tan crítica como puede serlo la inserción, de forma que la lesión                  vascular todavía puede ocurrir en la misma                  incidencia, o sea, mitad de los casos de HEP ocurre durante la retirada del                  catéter epidural.\\', \\'Existen indicios de que el hematoma epidural es más común después de la punción                  lumbar cuando se le compara con la punción torácica.\\'], \\'Clínica, tratamiento y prevención\\': [\\'El sangramiento hacia el interior del canal espinal que causa la compresión del                  saco tecal, puede traer como resultado un daño neurológico irreversible con                  paraplejia y es la mayor preocupación de los anestesiólogos en la realización del                  bloqueo neuroaxial en pacientes que usan drogas anticoagulantes.\\', \\'La manifestación clínica está caracterizada por la regresión lenta o ausente del                  bloqueo motor o sensitivo, dolor motor o sensitivo posteriormente a la regresión                  completa previa del bloqueo, separados o en combinación, lo que sugiere el                  desarrollo del hematoma espinal.\\', \\'Si se sospecha de clínica del hematoma espinal, se hace obligatoria una estrategia                  agresiva diagnóstica y terapéutica. Eso incluye la resonancia nuclear magnética                  (RNM) de emergencia y si ella no puede ser hecha por algún motivo, la tomografía                  computadorizada (TC). Como el HEP es una emergencia neuroquirúrgica, deben                  establecerse protocolos para evitar cualquier atraso en el diagnóstico. Confirmado                  el diagnóstico, debe procederse a la laminectomía de descompresión entre 6 a 12                  horas después del aparecimiento de lospico después del aparecimiento de los                  primeros síntomas, posibilitando más chances de recuperación neurológica                     completa.\\', \\'Así, los pacientes deben ser cuidadosamente evaluados con la investigación de                  posibles signos que indiquen el HEP, tanto después del bloqueo neuroaxial como                  después de la retirada del catéter epidural. El paciente debe ser monitorizado en                  intervalos regulares hasta la regresión del bloqueo sensitivo de por lo menos dos                  dermatomas o el retorno de la función motora2 y por lo menos 24 horas después de                  la retirada del catéter epidural.\\', \\'Guidelines han sido publicadas por las sociedades europeas y                  norteamericanas con el objetivo de aumentar la seguridad en la realización del                  bloqueo del neuro eje en pacientes en tratamiento con anticoagulantes. Sin embargo, la mayoría de esas                  recomendaciones son opiniones de expertos con base en series de casos y en datos                  farmacológicos con las drogas anticoagulantes involucradas. Esas recomendaciones incluyen: (I) tiempo mínimo de                  intervalo que tiene que ser respetado entre la última dosis del anticoagulante y                  la inserción neuroaxial de aguja/catéter o la retirada del catéter; (II) intervalo                  mínimo que tiene que ser respetado entre la inserción neuroaxial de la                  aguja/catéter o la retirada del catéter y la próxima dosis del anticoagulante; y                  (III) valores mínimos de tiempo de coagulación necesarios para el uso de la                  técnica neuroaxial (en el caso de que esté disponible para la droga en uso).\\', \\'En razón del rápido desarrollo de las drogas anticoagulantes por la industria                  farmacéutica, su liberación y su uso in crescendo en la práctica                  clínica, faltan experimentos y se hace difícil conjeturar cualquier afi rmación en                  cuanto al uso de la anestesia neuroaxial en pacientes que usan nuevos                  anticoagulantes.\\', \\'Recientemente Rosencher y col. propusieron una nueva estrategia para el manejo de                  los pacientes en tratamiento con los nuevos anticoagulantes.28 De acuerdo con esa                  estrategia, la inserción de la aguja/catéter en el neuro eje y la retirada                  posterior del catéter, deben ser hechas con un tiempo superior a dos vidas medias                  de eliminación después de la última dosis del anticoagulante usado. Ese dato se                  fundamenta en que entre un 30% a un 40% de la función de los factores de                  coagulación son necesarios para la hemostasis, de forma que después de dos vidas                  medias, la concentración del fármaco en la corriente sanguínea esté rondando el                  25% de la inicial. La próxima dosis del anticoagulante deberá ser administrada con                  un intervalo de tiempo (dT) obtenido con la substracción del tiempo necesario para                  que se alcance el nivel plasmático máximo y el tiempo para producir un coágulo                  sanguíneo en las espaldas, retención urinaria o el retorno de déficit estable,                  considerado de ocho horas (dT = 8h –Tpico).\\']}], \\'Anestesia neuroaxial y uso de agentes antiplaquetarios\\': [\\'Las drogas antiplaquetarias consisten en los antiinflamatorios no esteroidales               (AINES), tienopiridínicos (ticlopidina, clopidogrel y prasugrel) e inhibidores de la               glicoproteína IIb/IIIa (abciximab, eptifibatide y tirofiban).\\'], \\'Ácido acetilsalicílico (AAS) y AINES\\': [\\'El AAS genera el bloqueo irreversible de la función plaquetaria por inhibición de la               enzima ciclo-oxigenasa productora de tromboxano A2 (potente activador               plaquetario). Ese efecto persiste durante el tiempo de vida media plaquetaria,               generalmente entre siete a diez días.\\', \\'Los otros AINES también inhiben la ciclo-oxigenasa-1 y la agregación plaquetaria,               pero de forma reversible y proporcional a la vida media del agente usado. Ese proceso               se normaliza de 12 a 24 horas después de la suspensión de los AINES. Los inhibidores selectivos de la               ciclo-oxigenasa tipo 2 (COX-2) son drogas antiinflamatorias que no causan disfunción               plaquetaria, una vez que la COX-2 no se expresa en las plaquetas.\\', \\'Los efectos de sangramiento del AAS parecen ser dosis-dependiente, con mayores               efectos en pacientes que reciben dosis superiores a 100 mg.día. A pesar de eso, estudios prospectivos que               evalúan la seguridad del bloqueo neuroaxial, con el uso de AAS, no tuvieron ningún               caso de hematoma espinal.\\', \\'Aunque el uso aislado de AAS parezca no elevar la probabilidad de hematoma espinal,               se han venido observando complicaciones, tanto en pacientes clínicos como en               quirúrgicos, cuando se nota la asociación con heparinas. De esa               forma, en aquellos pacientes en tratamiento de AAS, parece prudente administrar la               heparina para la tromboprofilaxis en el postoperatorio, pues no fue observada la               superioridad de la tromboprofilaxis cuando la dosis de heparina se hace en el                  preoperatorio(B). Ya la administración de               bajas dosis de AAS asociado con el dipiridamol, parece no aumentar el riesgo de               formación de hematoma espinal.\\', \\'En pacientes con historial de síndrome coronario agudo (SCA), el accidente               cerebrovascular (ACV) o enfermedad arterial periférica oclusiva, el AAS reduce el               riesgo de evento cardiovascular recurrente en un 30% y de mortalidad en               aproximadamente en un 15%. Recientes               estudios sugieren que en la morbilidad y la mortalidad, particularmente en pacientes               con stents coronarios recién implantados, o con el síndrome               coronario inestable, se nota mucho su aumento si el AAS se suspende antes de un               procedimiento quirúrgico. El fenómeno de rebote también ha sido                  descrito. El riesgo de trombosis tardía               es mayor en los pacientes con stents farmacológicos. Resumiendo, la               suspensión perioperatoria de AAS no es necesaria en la mayoría de los casos y está               asociada con un mayor riesgo de trombosis aguda. Se recomienda que pacientes con SCA               o implante de stent deben continuar usando AAS de por vida. El American College of Chest                  Physicians (ACCP), no recomienda la evaluación de la función plaquetaria               antes de procedimientos invasivos porque no existe una correlación aparente con el                  sangramiento(D).\\'], \\'Recomendaciones\\': [\\'Respetar el intervalo entre la administración de la HBPM y la                        inserción/retirada de catéteres similar a los aplicados a los bloqueos                           neuroaxiales(D);\\', \\'No retirar ningún catéter en el período de mayor actividad del                           anticoagulante(D);\\', \\'En virtud de la morbilidad asociada al hematoma retroperitoneal, los                        bloqueos paravertebrales o de plexo lumbar reciben las mismas                        recomendaciones usadas en los bloqueos neuroaxiales(D);\\', \\'Los bloqueos superficiales, como axilar, femoral o ciático distal, pueden                        hacerse en presencia de la terapia anticoagulante o antiplaquetaria(D).\\'], \\'Tienopiridínicos\\': [\\'La Ticlopidina (Ticlid), clopidogrel (Plavix) y el prasugrel                  (Efient) son inhibidores plaquetarios que pertenecen a la clase de los               tienopiridínicos. Son pro-drogas fragmentadas in vivo en el hígado               en metabolitos activos que antagonizan el receptor plaquetario de adenosina               dinucleótido fosfato (ADP) (receptor P2Y12) e interfieren en la               activación y en la agregación plaquetaria, efecto que no puede ser antagonizado y que               es irreversible.\\', \\'No hay ningún estudio prospectivo que calcule la seguridad de las técnicas               neuroaxiales en presencia de un tratamiento con drogas tienopiridínicas. Sin embargo,               casos de hematoma espinal han sido descritos después de la anestesia neuroaxial en               usuarios con esas medicaciones.\\'], \\'Ticlopidina (Ticlid)\\': [\\'La ticlopidina posee una vida media de eliminación de 30 a 50 horas, que aumenta               después de las 96 horas si se está en tratamiento de rutina por más de 14 días. La disfunción plaquetaria con el uso de la               ticlopidina permanece por 10 a 14 días después de la suspensión de la medicación. Al contrario del clopidogrel, la ticlopidina               puede conllevar a la neutropenia en más del 1% de los pacientes, lo que es un factor               limitante del uso.\\'], \\'Clopidogrel (Plavix)\\': [\\'El clopidogrel tiene una vida media de eliminación de 120 horas. Sin embargo, la de               su metabolito activo es solamente de ocho horas. Con el uso oral de 75 mg de clopidogrel, la inhibición máxima de la               función plaquetaria se da después de tres a siete días o aproximadamente entre 12 a               24 horas después de una dosis de ataque inicial de 300-600 mg. La recuperación de la               función plaquetaria ocurre solamente entre seis a siete días después del fin de la               administración con el clopidogrel. En               pacientes con un alto riesgo de recurrencia de angina, la descontinuación por cinco               días ha sido sugerida para evitar la morbilidad cardiovascular.\\'], \\'Prasugrel (Efient)\\': [\\'Nuevo tienopiridínico. Así como los otros, es dependiente de la conversión hepática               en metabolito activo para conectarse al receptor P2Y12               plaquetario (donde se conecta con el ADP para la activación plaquetaria) y desempeñar               su actividad inhibitoria. Esa droga tiene un rápido inicio de acción (30 a 60               minutos) y es 10 veces más potente que el clopidogrel. El efecto antiplaquetario de esa droga es igual a la vida de la               plaqueta y la función plaquetaria previa al tratamiento se restaura de siete a 10               días después de la suspensión de la droga.\\', \\'Un estudio que compara el prasugrel y el clopidogrel en 13.608 pacientes con               diagnóstico de síndrome coronario agudo sometidos a la intervención coronaria               percutánea, mostró una reducción significativa en los eventos isquémicos tratados con               el prasugrel, pero también un mayor riesgo de sangramiento y ocasionalmente                  fatal.\\'], \\'Inhibidores de la glicoproteína IIB/IIIA\\': [\\'Os inhibidores de la glicoproteína IIb/IIIa incluyen abciximab (Reopro),               eptifibatide (Integrilin) y el tirofiban (Aggrastat). Son hoy               día las drogas disponibles más efectivas para la inhibición de la agregación               plaquetaria. Bloquean la glicoproteína IIb/IIIa plaquetaria, local de conexión del               fibrinógeno entre las plaquetas, siendo por tanto, la vía final común de la               agregación plaquetaria. Están exclusivamente               a disposición para uso intravenoso. Los efectos antiplaquetarios son reversibles y               desaparecen entre 8, 24 y 48 horas, respectivamente, después de la suspensión del               eptifibatide/tirofiban y del abciximab. Los efectos colaterales más comunes son la               trombocitopenia y el sangramiento y se               manifiestan en 0,3-1% con el abciximab. Se               observa una mejor eficiencia medicamentosa del abciximab en relación con el tirofiban               y el eptifibatide.\\'], \\'Otros antiplaquetarios\\': [{\\'Ticagrelor (Brilinta)\\': [\\'En contraste con los tienopiridínicos, el ticagrelor actúa directamente en el                  receptor P2Y12 y no necesita biotransformación hepática en                  metabolitos activos por el citocromo P450, a pesar de que los metabolitos sean                  también activos. Como el prasugrel, el ticagrelor produce una inhibición muy                  rápida (< 2h), intensa (aproximadamente 70%), y consistente del receptor P2Y12,                  que es mayor que el del clopidogrel (30-40%). Posee un rápido inicio de acción, con una conexión reversible y una                  corta duración (48-72h), y necesita administración oral en dos tomas. El efecto                  inicial en la agregación plaquetaria es observado en 30 minutos posterior a la                  dosis de ataque. Con la interrupción del tratamiento, la función plaquetaria se                  reestablece entre 4 y 5 días.\\']}], \\'Cilostazol (Vasogard, Cebralat,\\\\n               Pletal)\\': [\\'El cilostazol produce una inhibición selectiva de la fosfodiesterasa IIIa (PDEIIIa),               aumentando así, el nivel intracelular de adenosina monofosfato cíclico (AMPc) y               conllevando a una débil inhibición de la agregación plaquetaria. Como el músculo liso vascular contiene PDEIIIa, el               cilostazol también produce vasodilatación arterial derecha. Sin embargo, el mecanismo               de acción del cilostazol no está completamente aclarado. Se indica para su uso en la               enfermedad arterial periférica y claudicación intermitente en aquellos que no               responden a la terapia con ejercicios y con una baja posibilidad de intervención                  quirúrgica.\\', \\'La posología es por vía oral en una dosis de 100 mg dos veces al día y el nivel               plasmático máximo se obtiene en 2,7 a 3,6 horas. El compuesto es eliminado               predominantemente por metabolismo hepático y posteriormente por la excreción urinaria               de metabolitos. La vida media de eliminación terminal del cilostazol y de sus               metabolitos activos es de aproximadamente 21 horas y algunos de sus metabolitos               inhiben la agregación plaquetaria en una mayor intensidad que el compuesto                  principal.\\', \\'Un relato reciente de caso mostró un hematoma espinal posterior a la retirada de               catéter epidural durante tratamiento con cilostazol, pero en general no existen datos prospectivos sobre el uso               perioperatorio de la droga y se desconoce su efecto sobre la incidencia de               sangramiento.\\'], \\'Heparinas\\': [{\\'Heparina no fraccionada (HNF)\\': [\\'El principal efecto anticoagulante de la HNF se debe al pentasacárido presente en                  un tercio de las moléculas de heparina, que se conecta a la antitrombina III                     (ATIII). Después de esa conexión, la                  HNF cataliza la inactivación de los factores IIa (trombina), Xa y IXa y en menor                  extensión, XIa y XIIa. Si falta la                  heparina, la antitrombina III posee una baja afinidad por la trombina. Sin                  embargo, cuando la HNF se conecta a la ATIII, la tasa de conexión a la trombina se                  acelera de 100 a mil veces, a semejanza de lo que ocurre con otros factores de                  coagulación inhibidos por ella. La HNF también se conecta muy fuertemente con las                  varias proteínas plasmáticas, con las células endoteliales, con los macrófagos y                  con el factor plaquetario 4 (FP4), lo que trae como resultado una baja                  biodisponibilidad, farmacocinética imprecisa y trombocitopenia inducida por                  heparina (TIH).\\', \\'La actividad anticoagulante de la HNF depende tanto del número de moléculas de                  heparina con la cadena de pentasacáridos en su composición en cuanto al tamaño de                  las moléculas que contienen el pentasacárido. Las moléculas de heparina con un                  alto peso molecular van a catalizar la inhibición de los factores IIa y Xa. Pero                  las moléculas de heparina con un bajo peso molecular inhibirán solamente el factor                     Xa.\\', \\'La administración intravenosa de HNF trae como resultado la anticoagulación                  inmediata, mientras que la administración subcutánea resulta en un inicio de                  acción entre una a dos horas. El efecto anticoagulante es dependiente del peso                  molecular y de la dosis administrada, con lo que no es linear, y aumenta                  desproporcionalmente con la elevación de la dosis. La vida media biológica de la heparina aumenta de 30 minutos con 25                     UI.kg IV para 60 minutos con 100 UI.kg y para 150                  minutos con 400 UI.kg.\\', \\'Cuando se administra en dosis terapéuticas, la anticoagulación de la HNF se                  monitoriza con el tiempo de tromboplastina parcial activado (TTPa). Durante la                  circulación extracorpórea, la inhibición de la coagulación por altas dosis de                  heparina es monitorizada por el tiempo de coagulación activado (TCA). La                  administración de pequeñas dosis subcutáneas (5 mil UI) para la profilaxis de                  trombosis venosa profunda (TVP) generalmente no altera el TTPa. Una de las                  ventajas de la anticoagulación por la heparina es la reversión por la protamina.                  Cada miligramo de protamina puede neutralizar 100 UI de heparina.\\', \\'Un estudio de revisión con > 9 mil pacientes sometidos a bloqueo neuroaxial en                  presencia de dosis profilácticas para TVP con heparina, no acusó casos de                  hematomas espinales. Sin embargo, casos                  aislados fueron descritos posteriormente a esa revisión. En pacientes                  que reciben el esquema de dos dosis diarias de HNF subcutánea de 5 mil U no hay                  contraindicación para el uso de técnicas neuroaxiales. Sin embargo, no hay datos suficientes que demuestren                  seguridad para usar técnicas neuroaxiales en la posología de tres dosis diarias, a                  pesar de ser la más eficiente en la prevención de TVP.\\', \\'En contraste con el esquema profiláctico de la HNF, la anticoagulación terapéutica                  está definitivamente asociada al riesgo aumentado de hematoma espinal. Un estudio prospectivo (n = 342) que                  comparó la incidencia de hematoma espinal en pacientes que usan o no HNF en dosis                  terapéuticas y que fueron sometidos a la punción lumbar, presentó una incidencia                  de un 2% en el grupo en tratamiento con HNF terapéutica. Los factores de riesgo                  asociados fueron: (i) intervalo inferior a una hora entre el inicio de la                  heparinización y la punción lumbar; (ii) uso concomitante de AAS al momento de la                  punción lumbar y (iii) procedimiento traumático. Recientemente, dos casos de hematoma epidural fueron descritos en                  asociación con la HNF terapéutica y con el bloqueo neuroaxial.\\', \\'La heparinización intraoperatoria conlleva al uso de 5 mil a 10 mil U de heparina                  intravenosa durante el procedimiento quirúrgico, particularmente en cirugías                  vasculares, para prevenir la trombosis durante el pinzamiento de vasos                     arteriales. La mayoría de las series                  de casos publicada, usa las mismas directrices para el manejo de la anestesia                  neuroaxial de esos pacientes, basada en la exclusión de pacientes de alto riesgo                  (coagulopatía preexistente) y la realización del procedimiento neuroaxial, por lo                  menos con una hora antes de la administración de la heparina. Stafford-Smith mostró un aumento en la incidencia de                  sangramiento en los pacientes en tratamiento con AAS asociado con la heparina                  intravenosa intraoperatoria. El riesgo de HEP aumentó para 1:8.500 después de la                  punción epidural y para 1:12.000 después de la anestesia subaracnoidea, incluso                  cuando aparecieron la anestesia neuroaxial y la heparinización posterior después                  del intervalo de una hora.\\', \\'En las cirugías cardíacas, los beneficios de la anestesia epidural torácica en la                  función pulmonar y en la analgesia son evidentes, con una menor intensidad en el                  control de las arritmias y sin efectos en el tiempo de ingreso, UCI y                     mortalidad. Sin embargo, los beneficios deben                  evaluarse con relación al alto riesgo de HEP. La probabilidad de hematoma espinal                  en pacientes sometidos a cirugía cardíaca con heparinización completa es de                  1:1.528 con técnicas epidurales y 1:3.610 con las subaracnoideas. Se recomienda que el bloqueo del neuro eje se haga el día anterior                  a la cirugía a causa de la heparinización quirúrgica completa. Por el hecho                  de que el bloqueo neuroaxial en cirugía cardíaca muestre riesgos significativos,                  sin la mejoría de la morbilidad y de la mortalidad, se discute si la anestesia                  subaracnoidea o epidural se justificaría, probablemente con la recomendación de                  abandonar la técnica en ese grupo.\\']}], \\'Heparina de bajo peso molecular (HBPM)\\': [\\'La HBPM se ha convertido en el tratamiento de elección, tanto para la prevención como               para el tratamiento de TVP, por la mayor biodisponibilidad (casi 100%) después de la               administración subcutánea, convirtiéndose en un efecto anticoagulante superior sin               aumentar la tendencia al sangramiento y en el uso facilitado, sin la necesidad de               monitorización de la coagulación sanguínea.\\', \\'La farmacología de la HBPM es diferente de la HNF. Las principales diferencias               consisten en una mayor actividad inhibitoria contra el factor Xa comparado con la               trombina (IIa), dificultad de monitorización del efecto anticoagulante (niveles del               factor Xa), vida media de eliminación prolongada y ausencia de reversibilidad               completa con protamina. Con la               administración subcutánea los niveles plasmáticos máximos se alcanzan en               aproximadamente tres a cuatro horas y la vida media de eliminación, con función renal               normal, es de cuatro a seis horas. Sin embargo,               mantiene la actividad antifactor Xa considerable (50%) después de 10 a 12 horas de la               administración. Si el aclaramiento de creatinina cae por debajo de 30                  mL.min, la vida media de eliminación se dublica. Comparada con la HNF, existe un riesgo 10 veces menor de               ocurrir trombocitopenia (TIH), pero están contraindicadas en la TIH por el alto               riesgo con aproximadamente un 90% de reacción cruzada.\\', \\'Si la tromboprofilaxis con HBPM se prescribe en dos dosis diarias (30 mg), comparada               con el régimen de una dosis diaria, el riesgo de hematoma espinal puede ser aumentado               porque los niveles mínimos de actividad anti-Xa son mayores.\\', \\'El uso de la HBPM en pacientes sometidos al bloqueo del neuro eje se adoptó en Europa               en 1987. Se usaban entre 20 a 40 mg en dosis únicas 12 horas antes del procedimiento               quirúrgico. Para evitar la aparición de hematoma espinal, las recomendaciones eran la               inserción/retirada del catéter epidural con intervalo mínimo de 10 a 12 horas después               de la última dosis de HBPM. La dosis posterior era reiniciada después de ocho a 12                  horas. Así, las revisiones que tienen los datos de millones de               pacientes mostraron que el bloqueo neuroaxial en uso de HBPM bajo el régimen europeo               era seguro, con solamente un caso de hematoma espinal descrito.\\', \\'Por otro lado, en los Estados Unidos, la enoxaprina introducida en 1993 no tuvo               recomendación con relación al tiempo entre la administración y la realización del               bloqueo neuroaxial o retirada de catéter. La enoxaparina se administraba como rutina               inmediatamente en el postoperatorio en la dosis de 30 mg dos veces al día. Después de               cinco años de uso, la Food and Drug Administration (FDA) ya tenía               relatos de 43 pacientes sometidos a bloqueos neuroaxiales que desarrollaron hematoma                  espinal. En 1998, 13 casos de hematoma espinal asociados con HBPM se               habían descrito en Europa, mientras que en los Estados Unidos llegaban a 60                  casos. Las razones para las elevadas               tasas se atribuyeron a: (i) prescripción de mayor dosis diaria de HBPM; (ii) dosis               más frecuentes, que tal vez conllevasen a niveles mínimos sanguíneos más elevados               durante la inserción/retirada del catéter; (iii) falta de directrices prácticas del               bloqueo del neuro eje y de la administración de la HBPM y (iv) mayor casuística.\\', \\'Después de la resolución de 2003 del segundo consenso de la American Society                  of Regional Anesthesia (Asra), 10 casos se relataron en la literatura de               lengua inglesa relacionados con la combinación de hematoma espinal y HBPM. Cinco               casos adicionales fueron reportados por el consenso del Royal College of                  Anaesthetists en Inglaterra en 97.925 bloqueos epidurales, pero sin una               comprobación de la evidencia con la asociación de medicación anticoagulante.\\'], \\'Antagonistas de la vitamina K (cumarínicos)\\': [\\'Están incluidos aquí el acenocumarol, femprocumona y la warfarina. Esas drogas               inhiben la síntesis y la gama-carboxilación de los factores dependientes de la               vitamina K: II, VII, IX, X, proteína C y S, haciéndolas incapaces de conectarse a las               membranas fosfolipídicas plaquetarias durante la coagulación. El tiempo de               protrombina (TP) y el índice normalizado internacional (INR) son los test más usados               para monitorizar esas drogas y reflejan la actividad plasmática de tres de los cuatro               factores de coagulación (II, VII y X). Experiencias clínicas sugieren que el nivel de               la actividad del 40% de cada factor está a tono con la hemostasis normal o próximo               del nivel normal. RNI de 1,5 está asociado               con la actividad del factor VII de 40%. Como               el factor VII posee una vida media más corta (aproximadamente seis horas), el aumento               inicial del INR cuando los cumarínicos se usan, refleja la pérdida de la actividad               del factor VII. Sin embargo, el efecto terapéutico de esas drogas es más dependiente               de la reducción de los factores II o X, que tienen vidas medias relativamente más               largas, 60 a 72 horas y 24 a 36 horas, respectivamente. Después de la interrupción               del uso de la warfarina, el factor II es el último a normalizarse. Así, después de la interrupción de esas               drogas, el INR puede retornar a los valores próximos de los normales, a causa de la               restauración de la actividad del factor VII. Sin embargo, los factores II y X pueden               no haber sido restaurados a los niveles hemostáticos normales. Su efecto anticoagulante puede ser efectivamente evitado por               medio de la administración de vitamina K, plasma fresco congelado o complejo               protrombínico total (factores II, VII, IX y X).\\', \\'Aunque la ASRA haya recomendado la retirada del catéter epidural con RNI menor que               1,5, ese valor ya ha sido cuestionado como siendo un valor conservador. Relatos               muestran la retirada de catéteres epidurales con RNI más alto y sin                  intercurrencias. Si ocurren en las primeras 48 horas del uso               de la medicación, es probable que existan niveles adecuados de actividad de factores               de coagulación, particularmente de los factores II y X. Además de ese período, todos               los factores dependientes de la vitamina K se afectarán. No existen relatos de caso               de hematoma espinal en 11.235 pacientes que recibieron analgesia epidural después de               la artroplastia total de rodilla y tratados con warfarina (5-10 mg) iniciada en la               noche anterior al procedimiento. Los catéteres epidurales eran retirados a más tardar               en 48 horas del postoperatorio. El promedio de RNI al momento de la retirada fue de               1,5 (0,9-4,3). El RNI fue menor que 1,5 en aproximadamente un 40% de los casos. Esas               series sugieren que no solamente el valor del RNI debe ser considerado en el manejo               del catéter epidural, sino también la duración de la terapia con warfarina, y que el               prolongamiento por más de 48 horas puede representar un significativo aumento del               riesgo de hematoma.\\', \\'El control de los pacientes en tratamiento de warfarina en el perioperatorio continúa               siendo controversial. Las recomendaciones se fundamentan en la farmacología de la               droga, relevancia clínica de los niveles y deficiencia de los factores de coagulación               dependientes de la vitamina K, series de casos y relatos de hematoma espinal.\\'], \\'Inhibidores del factor Xa\\': [{\\'Fondaparinux (Arixtra)\\': [\\'El fondaparinux es un pentasacárido sintético que inhibe indirectamente el factor                  Xa de forma selectiva. Al contrario de la HBPM, no tiene un efecto sobre el factor                  IIa (trombina). La agregación plaquetaria no se afecta. Ese compuesto tiene una biodisponibilidad de                  aproximadamente un 100% después de la administración subcutánea y una vida media                  de eliminación de 18 a 21 horas y se expulsa principalmente por los riñones. La                  vida media de eliminación se prolonga entre 36 a 42 horas cuando el aclaramiento                  de creatinina es menor que 50 mL.min y está contraindicado en los                  pacientes con aclaramiento menor que 30 ml.min. La dosis profiláctica es de 2,5 mg por                  vía subcutánea una vez al día.\\', \\'Habitualmente es administrado entre 6 a 12 horas después de la cirugía, una vez                  que al ser usado en el preoperatorio, puede aumentar el riesgo del sangramiento                  quirúrgico sin mejorar la eficacia antitrombótica. En virtud del uso postoperatorio, no hay problemas con la anestesia                  neuroaxial de punción única. Sin embargo, si el catéter es insertado, debe ser                  retirado solamente si faltan los niveles plasmáticos de fondaparinux. Las                  recomendaciones para el manejo del catéter epidural en pacientes en tratamiento de                  fondaparinux, obedecen a las condiciones usadas en el estudio de Singelyn y                     col. Ese estudio evaluó 5.387                  pacientes, de los cuales 1.428 se sometieron a procedimientos anestésicos                  regionales, y la dosis única del fondaparinux se omitía en la noche anterior a la                  retirada del catéter. Así, se garantizó un intervalo de 36 horas entre la última                  dosis de la droga y la retirada del catéter y 12 horas entre el tiempo de retirada                  del catéter y la próxima dosis del fondaparinux. Ningún caso de hematoma espinal                  fue descrito y no hubo aumento del riesgo de TVP.\\', \\'El American College of Chest Physicians (ACCP), incluso con dos                  casos descritos de TIH con el uso del fondaparinux, sugiere la droga en los                  pacientes con historial de TIH como opción a HBPM o HNF.\\']}], \\'Rivaroxaban (Xarelto)\\': [\\'El rivaroxaban es un inhibidor selectivo del factor Xa. Administrado por vía oral y               aprobado para la prevención de TVP después de la cirugía de prótesis total de rodilla               y cadera. El tratamiento es iniciado entre seis a ocho horas después de la cirugía y               con una dosis única de 10 mg los niveles plasmáticos máximos se alcanzan entre dos a               cuatro horas. Algunos estudios demuestran una mejor eficacia con relación a la               enoxaparina para la tromboprofilaxis y de la               misma forma cuando se le compara con las heparinas y los antagonistas de la vitamina               K en el tratamiento de la TVP.\\', \\'El rivaroxaban posee una vida media de eliminación de cinco a nueve horas, poco               influenciada por la función renal (33% de la eliminación ocurre por vía renal), una               vez que también posee una eliminación hepática. Sin embargo, en los ancianos, la vida               media puede ser prolongada para 11 a 13 horas.\\', \\'El rivaroxaban genera un prolongamiento del TTPa y del Heptest, pero esos test no               están recomendados para evaluar el efecto anticoagulante de esa droga. El tiempo de protrombina (TP) está               influenciado por el rivaroxaban en dosis dependiente, en estrecha correlación con las               concentraciones plasmáticas, y debe ser               medido en segundos, y no por el RNI. Sin embargo, la monitorización de rutina no se               considera necesaria. Como la mayoría de los nuevos anticoagulantes, el rivaroxaban no               puede ser antagonizado.\\'], \\'Apixaban (Eliquis)\\': [\\'Inhibidor directo del factor Xa, administrado por vía oral. Tiene una               biodisponibilidad de un 60% y no requiere biotransformación para su activación. En contraste con los antagonistas de la               vitamina K, no tiene interacción con los alimentos. Niveles plasmáticos máximos se               obtienen en tres horas y la vida media aproximada de 12 horas (10 a 15 horas), y es               necesaria la posología en dos dosis diarias. No necesita               monitorización de rutina de la coagulación. Solo un 25% se eliminan vía renal y un               75% por metabolismo hepático y biliar, que es segregado por vía intestinal.\\', \\'Estudios aleatorios han demostrado la eficacia y la seguridad del apixaban después de               las cirugías de prótesis de rodilla y cadera. Una evaluación de               18.201 individuos con fibrilación atrial, que comparó el apixaban con la warfarina,               demostró que el apixaban fue superior en la tromboprofilaxis y con un bajo riesgo de               sangramiento y menor índice de mortalidad.               Basándonos en esos estudios, es probable que el apixaban logre la aprobación para la               anticoagulación en la fibrilación atrial no valvular y para la tromboprofilaxis en               las cirugías de cadera y rodilla.\\'], \\'Inhibidores de la trombina\\': [{\\'Dabigatrán (Pradaxa)\\': [\\'El Dabigatrán es un nuevo inhibidor reversible de la trombina, administrado por                  vía oral y recientemente aprobado para la profilaxis de TVP en pacientes sometidos                  a cirugía de prótesis de cadera y rodilla. El dabigatrán es administrado bajo la forma de la pro-droga dabigatrán                  etexilato, que se convierte en dabigatrán por esterasas plasmáticas. Ese compuesto                  posee una vida media de 12 a 17 horas, es eliminado principalmente por vía renal y                  no puede ser antagonizado. Después de su administración, los niveles plasmáticos                  máximos se alcanzan entre dos a cuatro horas. Los efectos de la droga en uso                  continuo pueden persistir por cinco a siete días, dependiendo de la función                     renal.\\', \\'El tratamiento se inicia entre una a cuatro horas después de la cirugía, con dosis                  que varían de 75 mg (aclaramiento de creatinina entre 30 a 50 mL.min)                  a 110 mg (función renal normal). La dosis aumenta para 150 mg a 220 mg en los días                  posteriores. El dabigatrán prolonga el TTPa, sin efecto linear. El tiempo de                  trombina (TT) es particularmente sensible y la referencia para el control de la                  anticoagulación, con linealidad entre dosis-respuesta en las concentraciones                     terapéuticas. La reversión de la                  anticoagulación es teóricamente posible por medio de la administración de factor                  VIIa recombinante, aunque eso no haya sido clínicamente testado.\\', \\'La eficacia del dabigatrán (220 mg) en la prevención de la TVP es comparable con                  la enoxaparina (40 mg.dia) y sin aumento del sangramiento. Estudios preliminares con el dabigatrán                  y el bloqueo neuroaxial se han venido realizando con respecto a la retirada del                  catéter epidural entre cuatro a seis horas antes de la primera dosis. No hay                  estudios con pacientes en tratamiento de dabigatrán y tratamiento con catéteres                  epidurales.\\']}], \\'Argatroban (Argatra)\\': [\\'El argatroban es un inhibidor directo reversible de la trombina que se conecta a las               diferentes formas de trombina. El argatroban               está indicado para pacientes con trombosis asociada con la trombocitopenia inducida               por heparina (TIH) por la ausencia de interacción con el factor plaquetario 4                  (FP4).\\', \\'El argatroban es administrado intravenosamente de forma continua, es eliminado               exclusivamente por el hígado y puede ser usado en la insuficiencia renal. La dosis de               0,5-2 μg.kg.min se ajusta para mantener el TTPa entre 1,5 a 3 del valor               normal. En pacientes con una buena función hepática, la normalización del TTPa ocurre               entre dos a cuatro horas desde el final de la infusión, en virtud de la vida media               corta de 35 a 45 minutos.\\'], \\'Desirudin (Iprivask) y lepirudin (Refludan)\\': [\\'Las hirudinas recombinantes, desirudin y lepirudin, son de la primera generación de               los inhibidores directos de la trombina y son administradas por vía parenteral. No               presentan interacción con el factor plaquetario 4 (FP4) y por lo tanto, no               desencadenan trombocitopenia inducida por heparina (TIH). La desirudin está indicada               para la profilaxis de TVP y la lepirudin para el tratamiento de TVP en pacientes con               historial de TIH.\\', \\'Tanto la lepirudin como la desirudin poseen una vida media de 1,3 a dos horas, pero               aumentan significantemente en la insuficiencia renal. A causa del riesgo potencial de               sangramientos, el efecto anticoagulante de las hirudinas debe ser como rutina               monitorizado con TTPa o ECT (Ecarin Clotting Time).\\'], \\'Bloqueo neuroaxial y exámenes laboratoriales\\': [\\'Consensos y directrices actuales determinan que el bloqueo neuroaxial no debe ser               hecho en pacientes con trombocitopenia; sin embargo, ninguno de ellos determina el               límite mínimo del número de plaquetas para hacer el bloqueo neuroaxial.\\', \\'La función plaquetaria parece ser más importante que el número aislado de                  plaquetas y los investigadores sugieren               como aceptable el conteo mayor que 50 mil mm con una función preservada,               mientras el conteo mayor que 100 mil mm es aceptable sin considerar el               test de evaluación de la función plaquetaria.\\', \\'Un estudio reciente demostró que en ausencia de los factores de riesgo, el conteo de               plaquetas > 80 mil mm se considera seguro para la realización de los               bloqueos subaracnoideos/epidurales y el conteo > 40 mil mm lumbar sencilla.\\', \\'En cuanto a la hemostasis secundaria, el nivel de actividad de 40% de cada factor es               adecuado para la hemostasis normal o próximo del normal. RNI de 1,5 está asociado con la actividad del factor VII de               40%. El sangramiento puede ocurrir si el nivel de cualquier factor de coagulación               está reducido a 20-40% de su valor habitual.\\'], \\'Bloqueos de nervios periféricos y anticoagulantes\\': [\\'Aunque el hematoma espinal sea la mayor complicación hemorrágica de la anestesia               regional, a causa de la naturaleza catastrófica de sangramiento en espacio restricto               y no comprensible, el riesgo asociado posterior a los bloqueos de plexo y de los               nervios periféricos permanece indeterminado.\\', \\'La presencia de hematoma puede aumentar la morbilidad y la mortalidad y existen casos               relatados que envuelven el hematoma retroperitoneal después del bloqueo de plexo               lumbar durante el uso de enoxaparina o clopidogrel. En uno de esos relatos, el               catéter introducido en el plexo lumbar fue retirado 1,5 hora después de la última               dosis de heparina.\\', \\'Aunque la mayoría de los casos haya evolucionado sin daños neurológicos, hubo un               prolongamiento del ingreso del paciente, con un daño y su insatisfacción, como               también la necesidad de transfusión de concentrados de hematíes. Algunos presentaron               déficits motores y sensitivos, insuficiencia renal y muerte por hemorragia.\\', \\'La Sociedad Alemana de Anestesiología y Medicina Intensiva adopta las mismas               recomendaciones para bloqueos neuroaxiales y bloqueos de nervio periférico o plexo en               pacientes en tratamiento con drogas antitrombóticas. La Sociedad Austríaca diferencia los bloqueos neuroaxiales de los               periféricos profundos o superficiales.               Esos últimos, como el bloqueo de plexo braquial vía axilar, bloqueo de nervio femoral               o bloqueo ciático en los abordajes más distales, pueden ser hechos en presencia de               AAS y anticoagulantes.\\', \\'Con el uso cada vez mayor del ultrasonido para la ayuda en los bloqueos periféricos y               de plexo, el número de complicaciones como punción vascular, se redujo a causa de la               visualización dinámica de las estructuras adyacentes al nervio que sería                  bloqueado. Tal vez así, las evidencias               demostrarán la real disminución de las tasas de complicaciones con esa técnica y               podrán entonces recomendar el uso relativamente seguro en pacientes anticoagulados de               los bloqueos periféricos guiados por ultrasonido.\\']}'}"
      ]
     },
     "execution_count": 4,
     "metadata": {},
     "output_type": "execute_result"
    }
   ],
   "source": [
    "scientific_text_data = list()\n",
    "for i,d in enumerate(spanish_compatible_data):\n",
    "    spanish_text = str(d[\"body_content_es\"])\n",
    "    if \"body_content_en\" not in d:\n",
    "        continue\n",
    "    english_text = str(d[\"body_content_en\"])\n",
    "    article_object = {\"en\":english_text,\"es\":spanish_text}\n",
    "    scientific_text_data.append(article_object)\n",
    "scientific_text_data[0]"
   ]
  },
  {
   "cell_type": "code",
   "execution_count": 5,
   "metadata": {},
   "outputs": [],
   "source": [
    "import json\n",
    "with open(\"scientific_text_data.json\",\"w\") as scd:\n",
    "    json.dump(scientific_text_data,scd)"
   ]
  },
  {
   "cell_type": "code",
   "execution_count": 6,
   "metadata": {},
   "outputs": [
    {
     "name": "stderr",
     "output_type": "stream",
     "text": [
      "C:\\Users\\juan9\\AppData\\Roaming\\Python\\Python38\\site-packages\\pandas\\core\\computation\\expressions.py:20: UserWarning: Pandas requires version '2.7.3' or newer of 'numexpr' (version '2.7.1' currently installed).\n",
      "  from pandas.core.computation.check import NUMEXPR_INSTALLED\n"
     ]
    }
   ],
   "source": [
    "from datasets import load_dataset_builder,load_dataset"
   ]
  },
  {
   "cell_type": "code",
   "execution_count": 7,
   "metadata": {},
   "outputs": [],
   "source": [
    "ds_builder = load_dataset_builder(\"xquad\",\"xquad.en\")"
   ]
  },
  {
   "cell_type": "code",
   "execution_count": 8,
   "metadata": {},
   "outputs": [
    {
     "data": {
      "text/plain": [
       "{'id': Value(dtype='string', id=None),\n",
       " 'context': Value(dtype='string', id=None),\n",
       " 'question': Value(dtype='string', id=None),\n",
       " 'answers': Sequence(feature={'text': Value(dtype='string', id=None), 'answer_start': Value(dtype='int32', id=None)}, length=-1, id=None)}"
      ]
     },
     "execution_count": 8,
     "metadata": {},
     "output_type": "execute_result"
    }
   ],
   "source": [
    "ds_builder.info.features"
   ]
  },
  {
   "cell_type": "code",
   "execution_count": 9,
   "metadata": {},
   "outputs": [],
   "source": [
    "english_xquad = load_dataset(\"xquad\",\"xquad.en\",split=\"validation\")"
   ]
  },
  {
   "cell_type": "code",
   "execution_count": 10,
   "metadata": {},
   "outputs": [
    {
     "data": {
      "text/plain": [
       "{'id': '56beb4343aeaaa14008c925b',\n",
       " 'context': \"The Panthers defense gave up just 308 points, ranking sixth in the league, while also leading the NFL in interceptions with 24 and boasting four Pro Bowl selections. Pro Bowl defensive tackle Kawann Short led the team in sacks with 11, while also forcing three fumbles and recovering two. Fellow lineman Mario Addison added 6½ sacks. The Panthers line also featured veteran defensive end Jared Allen, a 5-time pro bowler who was the NFL's active career sack leader with 136, along with defensive end Kony Ealy, who had 5 sacks in just 9 starts. Behind them, two of the Panthers three starting linebackers were also selected to play in the Pro Bowl: Thomas Davis and Luke Kuechly. Davis compiled 5½ sacks, four forced fumbles, and four interceptions, while Kuechly led the team in tackles (118) forced two fumbles, and intercepted four passes of his own. Carolina's secondary featured Pro Bowl safety Kurt Coleman, who led the team with a career high seven interceptions, while also racking up 88 tackles and Pro Bowl cornerback Josh Norman, who developed into a shutdown corner during the season and had four interceptions, two of which were returned for touchdowns.\",\n",
       " 'question': 'How many points did the Panthers defense surrender?',\n",
       " 'answers': {'text': ['308'], 'answer_start': [34]}}"
      ]
     },
     "execution_count": 10,
     "metadata": {},
     "output_type": "execute_result"
    }
   ],
   "source": [
    "english_xquad[0]"
   ]
  },
  {
   "cell_type": "code",
   "execution_count": 11,
   "metadata": {},
   "outputs": [],
   "source": [
    "unique_english_texts = list()\n",
    "for text_object in english_xquad:\n",
    "    if text_object[\"context\"] not in unique_english_texts:\n",
    "        unique_english_texts.append(text_object[\"context\"])"
   ]
  },
  {
   "cell_type": "code",
   "execution_count": 12,
   "metadata": {},
   "outputs": [
    {
     "data": {
      "text/plain": [
       "240"
      ]
     },
     "execution_count": 12,
     "metadata": {},
     "output_type": "execute_result"
    }
   ],
   "source": [
    "len(unique_english_texts)"
   ]
  },
  {
   "cell_type": "code",
   "execution_count": 13,
   "metadata": {},
   "outputs": [],
   "source": [
    "spanish_xquad = load_dataset(\"xquad\",\"xquad.es\",split=\"validation\")"
   ]
  },
  {
   "cell_type": "code",
   "execution_count": 14,
   "metadata": {},
   "outputs": [],
   "source": [
    "unique_spanish_texts = list()\n",
    "for text_object in spanish_xquad:\n",
    "    if text_object[\"context\"] not in unique_spanish_texts:\n",
    "        unique_spanish_texts.append(text_object[\"context\"])"
   ]
  },
  {
   "cell_type": "code",
   "execution_count": 15,
   "metadata": {},
   "outputs": [
    {
     "data": {
      "text/plain": [
       "240"
      ]
     },
     "execution_count": 15,
     "metadata": {},
     "output_type": "execute_result"
    }
   ],
   "source": [
    "len(unique_spanish_texts)"
   ]
  },
  {
   "cell_type": "code",
   "execution_count": 16,
   "metadata": {},
   "outputs": [],
   "source": [
    "list_unique_spanish_texts = unique_spanish_texts\n",
    "list_unique_english_texts = unique_english_texts\n"
   ]
  },
  {
   "cell_type": "code",
   "execution_count": 17,
   "metadata": {},
   "outputs": [
    {
     "data": {
      "text/plain": [
       "{'en': \"The Panthers defense gave up just 308 points, ranking sixth in the league, while also leading the NFL in interceptions with 24 and boasting four Pro Bowl selections. Pro Bowl defensive tackle Kawann Short led the team in sacks with 11, while also forcing three fumbles and recovering two. Fellow lineman Mario Addison added 6½ sacks. The Panthers line also featured veteran defensive end Jared Allen, a 5-time pro bowler who was the NFL's active career sack leader with 136, along with defensive end Kony Ealy, who had 5 sacks in just 9 starts. Behind them, two of the Panthers three starting linebackers were also selected to play in the Pro Bowl: Thomas Davis and Luke Kuechly. Davis compiled 5½ sacks, four forced fumbles, and four interceptions, while Kuechly led the team in tackles (118) forced two fumbles, and intercepted four passes of his own. Carolina's secondary featured Pro Bowl safety Kurt Coleman, who led the team with a career high seven interceptions, while also racking up 88 tackles and Pro Bowl cornerback Josh Norman, who developed into a shutdown corner during the season and had four interceptions, two of which were returned for touchdowns.\",\n",
       " 'es': '\\ufeffLos Panthers, que además de liderar las intercepciones de la NFL con 24 y contar con cuatro jugadores de la Pro Bowl, cedieron solo 308 puntos en defensa y se sitúan en el sexto lugar de la liga. Kawann Short, tacle defensivo de la Pro Bowl, lideró al equipo con 11 capturas, 3 balones sueltos forzados y 2 recuperaciones. A su vez, el liniero Mario Addison, consiguió 6 capturas y media. En la línea de los Panthers, también destacó como ala defensiva el veterano Jared Allen ―5 veces jugador de la Pro Bowl y que fue el líder, en activo, de capturas de la NFL con 136― junto con el también ala defensiva Kony Ealy, que lleva 5 capturas en solo 9 partidos como titular. Detrás de ellos, Thomas Davis y Luke Kuechly, dos de los tres apoyadores titulares que también han sido seleccionados para jugar la Pro Bowl. Davis se hizo con 5 capturas y media, 4 balones sueltos forzados y 4 intercepciones, mientras que Kuechly lideró al equipo en derribos (118), forzó 2 balones sueltos e interceptó 4 pases. La secundaria de Carolina contó, por un lado, con la seguridad del jugador de la Pro Bowl Kurt Coleman que asumió las riendas del equipo gracias a sus 7 intercepciones (nunca había conseguido tantas hasta ahora) y a sus 88 derribos, y, por otro lado, con el esquinero Josh Norman, también jugador de la Pro Bowl y que a pesar de haber estado de capa caída durante la temporada, consiguió 4 intercepciones, de las cuales dos se convirtieron en touchdowns.'}"
      ]
     },
     "execution_count": 17,
     "metadata": {},
     "output_type": "execute_result"
    }
   ],
   "source": [
    "unique_text_objects = list()\n",
    "for i in range(len(list_unique_english_texts)):\n",
    "    text_object = {\n",
    "        \"en\": list_unique_english_texts[i],\n",
    "        \"es\": list_unique_spanish_texts[i]\n",
    "    }\n",
    "    unique_text_objects.append(text_object)\n",
    "\n",
    "unique_text_objects[0]"
   ]
  },
  {
   "cell_type": "code",
   "execution_count": 18,
   "metadata": {},
   "outputs": [],
   "source": [
    "with open(\"QA_parallel_dataset.json\",\"w\") as qa:\n",
    "    json.dump(unique_text_objects,qa)"
   ]
  },
  {
   "cell_type": "code",
   "execution_count": 1,
   "metadata": {},
   "outputs": [
    {
     "data": {
      "text/plain": [
       "995"
      ]
     },
     "execution_count": 1,
     "metadata": {},
     "output_type": "execute_result"
    }
   ],
   "source": [
    "import json\n",
    "scientific_text_data = list()\n",
    "with open(\"scientific_text_data.json\",\"r\") as st:\n",
    "    scientific_text_data = json.load(st)\n",
    "len(scientific_text_data)"
   ]
  },
  {
   "cell_type": "code",
   "execution_count": 2,
   "metadata": {},
   "outputs": [
    {
     "name": "stderr",
     "output_type": "stream",
     "text": [
      "<frozen importlib._bootstrap>:219: RuntimeWarning: scipy._lib.messagestream.MessageStream size changed, may indicate binary incompatibility. Expected 56 from C header, got 64 from PyObject\n"
     ]
    }
   ],
   "source": [
    "from nltk.corpus import stopwords\n",
    "import nltk\n",
    "import re\n",
    "from sklearn.feature_extraction.text import CountVectorizer\n",
    "import spacy\n",
    "from unidecode import unidecode\n",
    "\n",
    "\n",
    "class TextPreparation(object):\n",
    "    def __init__(self,text_series,cv_params={\"min_df\":0.001,\"max_df\":0.7},language=\"english\"):\n",
    "        self.text_series = text_series\n",
    "        self.cv_params = cv_params\n",
    "        self.language=language\n",
    "        language_model_name_dict = {\"english\":\"en_core_web_sm\",\"spanish\":\"es_core_news_sm\"}\n",
    "        self.model = spacy.load(language_model_name_dict[self.language], disable = ['parser','ner'])\n",
    "\n",
    "    def _get_stopwords(self):\n",
    "        nltk.download(\"stopwords\")\n",
    "        english_stopwords = stopwords.words(self.language)\n",
    "        self.stopwords = english_stopwords\n",
    "\n",
    "    \n",
    "    def _clean_text(self,text):\n",
    "        self._get_stopwords()\n",
    "        lower_text = text.str.lower()\n",
    "        no_accents = lower_text.apply(unidecode)\n",
    "        alpha_text =  no_accents.str.replace(r\"(@\\[a-z]+)|([^a-z \\t])|(\\w+:\\/\\/\\S+)|^rt|http.+?\", \"\")\n",
    "        nostops = alpha_text.apply(lambda x: \" \".join([word for word in x.split() if word not in self.stopwords]))\n",
    "        return nostops\n",
    "    \n",
    "    def _lemmatize_words(self,text):\n",
    "        def _lemmatize_doc(doc):\n",
    "            doc_obj = self.model(doc)\n",
    "            lemmatized = \" \".join([token.lemma_ for token in doc_obj])\n",
    "            return lemmatized\n",
    "        return text.apply(_lemmatize_doc)\n",
    "    \n",
    "    def _filter_words(self,text):\n",
    "        cv = CountVectorizer(min_df=self.cv_params[\"min_df\"],max_df=self.cv_params[\"max_df\"])\n",
    "        cv.fit(text)\n",
    "        filtered_text = text.apply(lambda x: \" \".join([word for word in x.split() if word in cv.vocabulary_]))\n",
    "        return filtered_text\n",
    "    \n",
    "    \n",
    "    def prepare_text(self,pipeline=[\"clean\",\"lemmatize\",\"filter\"]):\n",
    "        functions = {\"clean\":self._clean_text,\"filter\":self._filter_words,\"lemmatize\":self._lemmatize_words}\n",
    "        text = self.text_series\n",
    "        for step in pipeline:\n",
    "            text = functions[step](text)\n",
    "        \n",
    "        return text\n",
    "\n"
   ]
  },
  {
   "cell_type": "code",
   "execution_count": 3,
   "metadata": {},
   "outputs": [
    {
     "name": "stderr",
     "output_type": "stream",
     "text": [
      "C:\\Users\\juan9\\AppData\\Roaming\\Python\\Python38\\site-packages\\pandas\\core\\computation\\expressions.py:20: UserWarning: Pandas requires version '2.7.3' or newer of 'numexpr' (version '2.7.1' currently installed).\n",
      "  from pandas.core.computation.check import NUMEXPR_INSTALLED\n"
     ]
    }
   ],
   "source": [
    "import gc;gc.collect()\n",
    "import pandas as pd"
   ]
  },
  {
   "cell_type": "code",
   "execution_count": 4,
   "metadata": {},
   "outputs": [
    {
     "ename": "NameError",
     "evalue": "name 'unique_text_objects' is not defined",
     "output_type": "error",
     "traceback": [
      "\u001b[1;31m---------------------------------------------------------------------------\u001b[0m",
      "\u001b[1;31mNameError\u001b[0m                                 Traceback (most recent call last)",
      "\u001b[1;32m<ipython-input-4-6f1c1e770fa9>\u001b[0m in \u001b[0;36m<module>\u001b[1;34m\u001b[0m\n\u001b[1;32m----> 1\u001b[1;33m \u001b[0munique_text_df\u001b[0m \u001b[1;33m=\u001b[0m \u001b[0mpd\u001b[0m\u001b[1;33m.\u001b[0m\u001b[0mDataFrame\u001b[0m\u001b[1;33m(\u001b[0m\u001b[0munique_text_objects\u001b[0m\u001b[1;33m)\u001b[0m\u001b[1;33m\u001b[0m\u001b[1;33m\u001b[0m\u001b[0m\n\u001b[0m\u001b[0;32m      2\u001b[0m \u001b[0mtext_prep_en\u001b[0m \u001b[1;33m=\u001b[0m \u001b[0mTextPreparation\u001b[0m\u001b[1;33m(\u001b[0m\u001b[0munique_text_df\u001b[0m\u001b[1;33m.\u001b[0m\u001b[0men\u001b[0m\u001b[1;33m)\u001b[0m\u001b[1;33m\u001b[0m\u001b[1;33m\u001b[0m\u001b[0m\n",
      "\u001b[1;31mNameError\u001b[0m: name 'unique_text_objects' is not defined"
     ]
    }
   ],
   "source": [
    "unique_text_df = pd.DataFrame(unique_text_objects)\n",
    "text_prep_en = TextPreparation(unique_text_df.en)"
   ]
  },
  {
   "cell_type": "code",
   "execution_count": null,
   "metadata": {},
   "outputs": [
    {
     "data": {
      "text/html": [
       "<div>\n",
       "<style scoped>\n",
       "    .dataframe tbody tr th:only-of-type {\n",
       "        vertical-align: middle;\n",
       "    }\n",
       "\n",
       "    .dataframe tbody tr th {\n",
       "        vertical-align: top;\n",
       "    }\n",
       "\n",
       "    .dataframe thead th {\n",
       "        text-align: right;\n",
       "    }\n",
       "</style>\n",
       "<table border=\"1\" class=\"dataframe\">\n",
       "  <thead>\n",
       "    <tr style=\"text-align: right;\">\n",
       "      <th></th>\n",
       "      <th>en</th>\n",
       "      <th>es</th>\n",
       "    </tr>\n",
       "  </thead>\n",
       "  <tbody>\n",
       "    <tr>\n",
       "      <th>0</th>\n",
       "      <td>The Panthers defense gave up just 308 points, ...</td>\n",
       "      <td>﻿Los Panthers, que además de liderar las inter...</td>\n",
       "    </tr>\n",
       "    <tr>\n",
       "      <th>1</th>\n",
       "      <td>The Broncos defeated the Pittsburgh Steelers i...</td>\n",
       "      <td>Los Broncos vencieron a los Pittsburgh Steeler...</td>\n",
       "    </tr>\n",
       "    <tr>\n",
       "      <th>2</th>\n",
       "      <td>Peyton Manning became the first quarterback ev...</td>\n",
       "      <td>Peyton Manning se convirtió en el primer maris...</td>\n",
       "    </tr>\n",
       "    <tr>\n",
       "      <th>3</th>\n",
       "      <td>Six-time Grammy winner and Academy Award nomin...</td>\n",
       "      <td>Lady Gaga, la seis veces ganadora del Grammy y...</td>\n",
       "    </tr>\n",
       "    <tr>\n",
       "      <th>4</th>\n",
       "      <td>With 4:51 left in regulation, Carolina got the...</td>\n",
       "      <td>Con 4 min 51 s de tiempo restante en el marcad...</td>\n",
       "    </tr>\n",
       "    <tr>\n",
       "      <th>...</th>\n",
       "      <td>...</td>\n",
       "      <td>...</td>\n",
       "    </tr>\n",
       "    <tr>\n",
       "      <th>235</th>\n",
       "      <td>Aristotle provided a philosophical discussion ...</td>\n",
       "      <td>Aristóteles ofreció una discusión filosófica d...</td>\n",
       "    </tr>\n",
       "    <tr>\n",
       "      <th>236</th>\n",
       "      <td>The development of fundamental theories for fo...</td>\n",
       "      <td>El desarrollo de teorías fundamentales para la...</td>\n",
       "    </tr>\n",
       "    <tr>\n",
       "      <th>237</th>\n",
       "      <td>Since then, and so far, general relativity has...</td>\n",
       "      <td>Desde entonces, y hasta ahora, la relatividad ...</td>\n",
       "    </tr>\n",
       "    <tr>\n",
       "      <th>238</th>\n",
       "      <td>Through combining the definition of electric c...</td>\n",
       "      <td>Mediante la combinación de la definición de co...</td>\n",
       "    </tr>\n",
       "    <tr>\n",
       "      <th>239</th>\n",
       "      <td>where  is the relevant cross-sectional area fo...</td>\n",
       "      <td>Donde es el área de la sección transversal rel...</td>\n",
       "    </tr>\n",
       "  </tbody>\n",
       "</table>\n",
       "<p>240 rows × 2 columns</p>\n",
       "</div>"
      ],
      "text/plain": [
       "                                                    en  \\\n",
       "0    The Panthers defense gave up just 308 points, ...   \n",
       "1    The Broncos defeated the Pittsburgh Steelers i...   \n",
       "2    Peyton Manning became the first quarterback ev...   \n",
       "3    Six-time Grammy winner and Academy Award nomin...   \n",
       "4    With 4:51 left in regulation, Carolina got the...   \n",
       "..                                                 ...   \n",
       "235  Aristotle provided a philosophical discussion ...   \n",
       "236  The development of fundamental theories for fo...   \n",
       "237  Since then, and so far, general relativity has...   \n",
       "238  Through combining the definition of electric c...   \n",
       "239  where  is the relevant cross-sectional area fo...   \n",
       "\n",
       "                                                    es  \n",
       "0    ﻿Los Panthers, que además de liderar las inter...  \n",
       "1    Los Broncos vencieron a los Pittsburgh Steeler...  \n",
       "2    Peyton Manning se convirtió en el primer maris...  \n",
       "3    Lady Gaga, la seis veces ganadora del Grammy y...  \n",
       "4    Con 4 min 51 s de tiempo restante en el marcad...  \n",
       "..                                                 ...  \n",
       "235  Aristóteles ofreció una discusión filosófica d...  \n",
       "236  El desarrollo de teorías fundamentales para la...  \n",
       "237  Desde entonces, y hasta ahora, la relatividad ...  \n",
       "238  Mediante la combinación de la definición de co...  \n",
       "239  Donde es el área de la sección transversal rel...  \n",
       "\n",
       "[240 rows x 2 columns]"
      ]
     },
     "execution_count": 22,
     "metadata": {},
     "output_type": "execute_result"
    }
   ],
   "source": [
    "unique_text_df"
   ]
  },
  {
   "cell_type": "code",
   "execution_count": null,
   "metadata": {},
   "outputs": [
    {
     "name": "stdout",
     "output_type": "stream",
     "text": [
      "The Panthers defense gave up just 308 points, ranking sixth in the league, while also leading the NFL in interceptions with 24 and boasting four Pro Bowl selections. Pro Bowl defensive tackle Kawann Short led the team in sacks with 11, while also forcing three fumbles and recovering two. Fellow lineman Mario Addison added 6½ sacks. The Panthers line also featured veteran defensive end Jared Allen, a 5-time pro bowler who was the NFL's active career sack leader with 136, along with defensive end Kony Ealy, who had 5 sacks in just 9 starts. Behind them, two of the Panthers three starting linebackers were also selected to play in the Pro Bowl: Thomas Davis and Luke Kuechly. Davis compiled 5½ sacks, four forced fumbles, and four interceptions, while Kuechly led the team in tackles (118) forced two fumbles, and intercepted four passes of his own. Carolina's secondary featured Pro Bowl safety Kurt Coleman, who led the team with a career high seven interceptions, while also racking up 88 tackles and Pro Bowl cornerback Josh Norman, who developed into a shutdown corner during the season and had four interceptions, two of which were returned for touchdowns.\n"
     ]
    }
   ],
   "source": [
    "print(unique_text_df.en.values[0])"
   ]
  },
  {
   "cell_type": "code",
   "execution_count": null,
   "metadata": {},
   "outputs": [
    {
     "name": "stderr",
     "output_type": "stream",
     "text": [
      "[nltk_data] Downloading package stopwords to\n",
      "[nltk_data]     C:\\Users\\juan9\\AppData\\Roaming\\nltk_data...\n",
      "[nltk_data]   Package stopwords is already up-to-date!\n",
      "<ipython-input-19-46b20e55a32d>:27: FutureWarning: The default value of regex will change from True to False in a future version.\n",
      "  alpha_text =  no_accents.str.replace(r\"(@\\[a-z]+)|([^a-z \\t])|(\\w+:\\/\\/\\S+)|^rt|http.+?\", \"\")\n"
     ]
    }
   ],
   "source": [
    "prepared_text_en_qa = text_prep_en.prepare_text()"
   ]
  },
  {
   "cell_type": "code",
   "execution_count": null,
   "metadata": {},
   "outputs": [
    {
     "data": {
      "text/plain": [
       "0    panther defense give point rank sixth league a...\n",
       "1    broncos defeat pittsburgh steeler divisional r...\n",
       "2    peyton manning become first quarterback ever l...\n",
       "3    sixtime grammy winner academy award nominee la...\n",
       "4    leave regulation carolina get ball yard line c...\n",
       "Name: en, dtype: object"
      ]
     },
     "execution_count": 25,
     "metadata": {},
     "output_type": "execute_result"
    }
   ],
   "source": [
    "prepared_text_en_qa.head()"
   ]
  },
  {
   "cell_type": "code",
   "execution_count": null,
   "metadata": {},
   "outputs": [
    {
     "name": "stderr",
     "output_type": "stream",
     "text": [
      "[nltk_data] Downloading package stopwords to\n",
      "[nltk_data]     C:\\Users\\juan9\\AppData\\Roaming\\nltk_data...\n",
      "[nltk_data]   Package stopwords is already up-to-date!\n",
      "<ipython-input-19-46b20e55a32d>:27: FutureWarning: The default value of regex will change from True to False in a future version.\n",
      "  alpha_text =  no_accents.str.replace(r\"(@\\[a-z]+)|([^a-z \\t])|(\\w+:\\/\\/\\S+)|^rt|http.+?\", \"\")\n"
     ]
    },
    {
     "data": {
      "text/plain": [
       "0      panther adema liderar intercepción nfl contar ...\n",
       "1      bronco vencer pittsburgh steelers ronda divisi...\n",
       "2      peyton manning convirtio primero mariscal camp...\n",
       "3      lady gagar seis vez ganador grammy nominado os...\n",
       "4      min tiempo restante marcador carolín atrapo ba...\n",
       "                             ...                        \n",
       "235    aristotel ofrecio discusion filosofico concept...\n",
       "236    desarrollo teoria fundamental fuerza procedio ...\n",
       "237    entonces ahora relatividad general reconocido ...\n",
       "238    mediante combinacion definicion corriente elec...\n",
       "239    area seccion transversal relevante volumen cal...\n",
       "Name: es, Length: 240, dtype: object"
      ]
     },
     "execution_count": 26,
     "metadata": {},
     "output_type": "execute_result"
    }
   ],
   "source": [
    "text_prep_es = TextPreparation(unique_text_df.es,language=\"spanish\")\n",
    "prepared_text_es_qa = text_prep_es.prepare_text()\n",
    "prepared_text_es_qa"
   ]
  },
  {
   "cell_type": "code",
   "execution_count": 6,
   "metadata": {},
   "outputs": [
    {
     "data": {
      "text/plain": [
       "(995, 2)"
      ]
     },
     "execution_count": 6,
     "metadata": {},
     "output_type": "execute_result"
    }
   ],
   "source": [
    "scientific_text_df = pd.DataFrame(scientific_text_data)\n",
    "scientific_text_df.shape"
   ]
  },
  {
   "cell_type": "code",
   "execution_count": 7,
   "metadata": {},
   "outputs": [
    {
     "data": {
      "text/html": [
       "<div>\n",
       "<style scoped>\n",
       "    .dataframe tbody tr th:only-of-type {\n",
       "        vertical-align: middle;\n",
       "    }\n",
       "\n",
       "    .dataframe tbody tr th {\n",
       "        vertical-align: top;\n",
       "    }\n",
       "\n",
       "    .dataframe thead th {\n",
       "        text-align: right;\n",
       "    }\n",
       "</style>\n",
       "<table border=\"1\" class=\"dataframe\">\n",
       "  <thead>\n",
       "    <tr style=\"text-align: right;\">\n",
       "      <th></th>\n",
       "      <th>en</th>\n",
       "      <th>es</th>\n",
       "    </tr>\n",
       "  </thead>\n",
       "  <tbody>\n",
       "    <tr>\n",
       "      <th>0</th>\n",
       "      <td>{'Description of evidence collection method': ...</td>\n",
       "      <td>{'Descripción del método de recolección de evi...</td>\n",
       "    </tr>\n",
       "    <tr>\n",
       "      <th>1</th>\n",
       "      <td>{'Introduction': ['Anxiety is a natural reacti...</td>\n",
       "      <td>{'Introducción': ['La ansiedad es una reacción...</td>\n",
       "    </tr>\n",
       "    <tr>\n",
       "      <th>2</th>\n",
       "      <td>{'Introduction': [\"Postoperative complication ...</td>\n",
       "      <td>{'Introducción': ['Se considera una complicaci...</td>\n",
       "    </tr>\n",
       "    <tr>\n",
       "      <th>3</th>\n",
       "      <td>{'Introduction': ['Mivacurium chloride is a sh...</td>\n",
       "      <td>{'Introducción': ['El cloruro de mivacurio es ...</td>\n",
       "    </tr>\n",
       "    <tr>\n",
       "      <th>4</th>\n",
       "      <td>{'Introduction': ['Pulmonary hypertension (PH)...</td>\n",
       "      <td>{'Introducción': ['La hipertensión pulmonar (H...</td>\n",
       "    </tr>\n",
       "  </tbody>\n",
       "</table>\n",
       "</div>"
      ],
      "text/plain": [
       "                                                  en  \\\n",
       "0  {'Description of evidence collection method': ...   \n",
       "1  {'Introduction': ['Anxiety is a natural reacti...   \n",
       "2  {'Introduction': [\"Postoperative complication ...   \n",
       "3  {'Introduction': ['Mivacurium chloride is a sh...   \n",
       "4  {'Introduction': ['Pulmonary hypertension (PH)...   \n",
       "\n",
       "                                                  es  \n",
       "0  {'Descripción del método de recolección de evi...  \n",
       "1  {'Introducción': ['La ansiedad es una reacción...  \n",
       "2  {'Introducción': ['Se considera una complicaci...  \n",
       "3  {'Introducción': ['El cloruro de mivacurio es ...  \n",
       "4  {'Introducción': ['La hipertensión pulmonar (H...  "
      ]
     },
     "execution_count": 7,
     "metadata": {},
     "output_type": "execute_result"
    }
   ],
   "source": [
    "scientific_text_df.head()"
   ]
  },
  {
   "cell_type": "code",
   "execution_count": 8,
   "metadata": {},
   "outputs": [
    {
     "name": "stderr",
     "output_type": "stream",
     "text": [
      "[nltk_data] Downloading package stopwords to\n",
      "[nltk_data]     C:\\Users\\juan9\\AppData\\Roaming\\nltk_data...\n",
      "[nltk_data]   Package stopwords is already up-to-date!\n",
      "<ipython-input-2-46b20e55a32d>:27: FutureWarning: The default value of regex will change from True to False in a future version.\n",
      "  alpha_text =  no_accents.str.replace(r\"(@\\[a-z]+)|([^a-z \\t])|(\\w+:\\/\\/\\S+)|^rt|http.+?\", \"\")\n"
     ]
    },
    {
     "data": {
      "text/plain": [
       "0    description evidence collection conduct search...\n",
       "1    anxiety natural reaction arise response enter ...\n",
       "2    postoperative complication occurrence unexpect...\n",
       "3    mivacurium chloride short act nondepolarize ne...\n",
       "4    pulmonary hypertension ph chronic disease defi...\n",
       "Name: en, dtype: object"
      ]
     },
     "execution_count": 8,
     "metadata": {},
     "output_type": "execute_result"
    }
   ],
   "source": [
    "text_prep_en = TextPreparation(scientific_text_df.en)\n",
    "prepared_text_en_science = text_prep_en.prepare_text()\n",
    "prepared_text_en_science.head()"
   ]
  },
  {
   "cell_type": "code",
   "execution_count": 9,
   "metadata": {},
   "outputs": [
    {
     "name": "stderr",
     "output_type": "stream",
     "text": [
      "[nltk_data] Downloading package stopwords to\n",
      "[nltk_data]     C:\\Users\\juan9\\AppData\\Roaming\\nltk_data...\n",
      "[nltk_data]   Package stopwords is already up-to-date!\n",
      "<ipython-input-2-46b20e55a32d>:27: FutureWarning: The default value of regex will change from True to False in a future version.\n",
      "  alpha_text =  no_accents.str.replace(r\"(@\\[a-z]+)|([^a-z \\t])|(\\w+:\\/\\/\\S+)|^rt|http.+?\", \"\")\n"
     ]
    },
    {
     "data": {
      "text/plain": [
       "0    descripcion recoleccion evidencia busqueda mul...\n",
       "1    ansiedad reaccion natural origín respuesta ent...\n",
       "2    complicacion postoperatoria alteracion inesper...\n",
       "3    cloruro mivacurio agente neuromuscular despola...\n",
       "4    hipertension pulmonar hp enfermedad cronico de...\n",
       "Name: es, dtype: object"
      ]
     },
     "execution_count": 9,
     "metadata": {},
     "output_type": "execute_result"
    }
   ],
   "source": [
    "text_prep_es = TextPreparation(scientific_text_df.es,language=\"spanish\")\n",
    "prepared_text_es_science = text_prep_es.prepare_text()\n",
    "prepared_text_es_science.head()"
   ]
  },
  {
   "cell_type": "code",
   "execution_count": 10,
   "metadata": {},
   "outputs": [
    {
     "data": {
      "text/plain": [
       "'descripcion recoleccion evidencia busqueda multipl base medline cochrane library lilacs referencia cruzado material investigado identificacion articulo mejor diseno metodologico seguido posterior evaluacion criticar contenido clasificacion tono fuerza evidenciar busqueda agosto diciembre busqueda pubmed usar siguiente estrategia regional anaesthesia or anesthesia conduction or anesthesia and conduction or conduction anesthesio or regional and anesthesio or regional anesthesia and antithrombotic regional anaesthesia or anesthesio conduction mesh terms and infection mesh terms and thromboembolism mesh terms or thromboembolism all fields thromboembolism mesh terms or thromboembolism all fields and regional anaesthesia all fields or anesthesio conduction mesh terms or anesthesio all fields and conduction all fields or conduction anesthesia all fields or regional all fields and anesthesia all fields or regional anesthesia all fields campo anestesia regional seleccionar abordar conducta realizacion anestesia regional individuo tratamiento medicamento modificar coagulacion sanguineo enfocar riesgo etiologio prevencion diagnostico tratamiento incluido evaluan riesgo complicación paciente despues bloqueo regional clarificir conducta seguridad manejo farmaco serar administrado grado recomendacion fuerza evidenciar experimental observacional mejor consistencia experimental observacional menor consistencia relato seri controlado opinion evaluacion criticar base consenso opinión experto fisiologico modelo animal evaluar aspecto seguridad anestesia analgesia regional paciente tratamiento medicaciones antitrombotica tal complicación proveniente tecnico riesgo asociados hematomar espinal estrategia prevencion diagnostico tratamiento intervalo seguro suspension reinicio droga despues bloqueo regional actualmente conocer actual incidencia disfuncion neurologico resultante complicación hemorragica asociado bloqueo neuroaxial estimar mil punción epidurales mil puncion subaracnoidea despu anestesia neuroaxial anticoagulant riesgo menudo asociado hematoma espinal virtud raridad hematomar espinal recomendación respecto anestesia regional concomitante tromboprofilaxi terapio antitrombotico seriar predictivo prospectivo aleatorizado fundamentar relato recomendación experto eticamente inviabilizo razon envejecimiento expectativa vida poblacion venido aumentar paciente tratamiento terapia anticoagulante causa prevalencia enfermedad cardiovascular recomendación respecto seguridad anestesia regional terapia antitrombotico constantemente actualizada razon mercado intervalo regular nuevo droga antitrombotica directriz revisar riesgo recomendación anestesia regional individuo estar tratamiento droga interfierar coagulacion norma seguridad orientación procedimiento regional hematoma espinalepidural incidencia pesar incidencia hematoma espinalepidural hep pequén gravedad clinico consecuencia conjuntamente coste litigio posterior evento adverso crucial desarrollo estrategia solida manejo paciente tratamiento anticoagulant anestesia neuroaxial revision literatura varios relato observar incidencia hep posteriormente anestesia subaracnoidea posteriormente puncion epidural reciente indicativo sugerir incidencia usado calculo rutín tromboprofilaxi perioperatorio despues enoxaparín mg diar tromboprofilaxi unido reporto alarmante hematomar epidural permanente paraplejiar calcular riesgo hematoma espinalepidural administracion dosis diario enoxaparín postanestesia subaracnoideo postpuncion epidural sencillo postpuncion epidural insercion cateter epidural europa aplicacion dosis unico enoxaparín mg mostro incidencia menor hematoma espinal retrospectivo hecho suecia encontro riesgo postanestesio subaracnoideo anestesia epidural sangramiento raro poblacion obstetrico comparado mujer sometido artroplastiar rodilla posterior arrojar incidencia tanto cook col third national audit project of the royal college of anaesthetists actualizado cual solamente ocho hep observado bloqueo neuroaxial solamente cinco respetar criterio inclusion incidencia calculado riesgo hep ocurrir espontaneamente resultar anestesia neuro eje mayorio hematoma espontaneo idiopaticar terapia anticoagulante malformación vascular representar segundo tercero causa común respectivamente asociado anestesia neuroaxial concomitante anticoagulant representar principal riesgo asociado hep riesgo hep describir varios autor aparecer tabla incidencia hep vario cirugia sexo paciente ejemplo incidencia hep cirugia obstetrica estimado mientras artroplastiar rodilla mujer franja geriatrico estimado probablemente justificar incidencia anormalidad espinal asociado osteoporosis doble terapia antiplaquetariaanticoagulante acumulacion anticoagulante causa reduccion detectada excrecion renal bloqueo neuro eje riesgo hep cateter epidural seguido puncion epidural sencillo frecuentemente despues puncion subaracnoidea unico ultimo tal causar aguja fina tecnico retirada cateter epidural tanto criticar insercion lesion vascular todavia ocurrir incidencia mitad hep ocurrir retirado cateter epidural indicio hematoma epidural comun despu puncion lumbar compara puncion toracico clinico tratamiento prevencion sangramiento hacia interior canal espinal causa compresion saco tecal traer dano neurologico irreversible paraplejiar preocupacion anestesiologos realizacion bloqueo neuroaxial paciente usar droga anticoagulant manifestacion clinico caracterizado regresion lento ausente bloqueo motor sensitivo dolor motor sensitivo posteriormente regresion completo previo bloqueo separado combinacion sugierar desarrollo hematomar espinal sospechar clinico hematoma espinal obligatorio estrategia agresivo diagnostico terapeutico resonancia nuclear magnetico rnm emergencia algun motivo tomografia computadorizado tc hep emergencia neuroquirurgico establecer protocolo evitar cualquiera atraso diagnostico confirmado diagnostico proceder laminectomia descompresion hora despuser aparecimiento lospico despues aparecimiento sintoma posibilitar chances recuperacion neurologico completo paciente cuidadosamente evaluado signo indicar hep despues bloqueo neuroaxial despu retirado cateter epidural paciente monitorizar intervalo regular regresion bloqueo sensitivo dermatoma retorno funcion motora hora despues retirado cateter epidural guidelín publicar sociedad europeo norteamericano aumentar seguridad realizacion bloqueo neuro eje paciente tratamiento anticoagulant mayorio recomendación opinión experto bar seri farmacologico droga anticoagulant involucrado recomendación minimo intervalo respetar ultimo dosis anticoagulante insercion neuroaxial agujacateter retirado cateter ii intervalo minimo respetar insercion neuroaxial agujacateter retirado cateter proxima dosis anticoagulante iii minimos coagulacion tecnico neuroaxial disponible drogo razon rapido desarrollo droga anticoagulant industria farmaceutico liberacion in crescendo practica clinico faltar experimento dificil conjeturar cualquiera afi rmacion cuanto anestesia neuroaxial paciente usar nuevo anticoagulant recientemente rosencher col proponer nuevo estrategia manejo paciente tratamiento nuevo anticoagulant estrategia insercion agujacateter neuro eje retirado posterior cateter hecho superior vida eliminacion despu ultimo dosis anticoagulante usado fundamentar funcion coagulacion hemostasis despues vida concentracion farmaco corriente sanguineo rondar inicial proxima dosis anticoagulante debera administrar intervalo dt obtenido substraccion alcance plasmatico maximo producir coagulo sanguineo espalda retencion urinaria retorno deficit estable considerado ocho hora dt tpico anestesia neuroaxial agente antiplaquetario drogar antiplaquetaria consistar antiinflamatorio esteroidal aín tienopiridinico ticlopidín clopidogrel prasugrel inhibidores glicoproteina iibiiia abciximab eptifibatidir tirofir acido acetilsalicilico aas aín aas generar bloqueo irreversible funcion plaquetario inhibicion enzima ciclooxigenasa productor tromboxano potente activador plaquetario efecto persistir vidar plaquetaria generalmente siete diez dia aín inhibir ciclooxigenasa agregacion plaquetario reversible proporcional vida agente usado normalizar hora despues suspension aín inhibidor selectivo ciclooxigenasar cox droga antiinflamatoria causar disfuncion plaquetario cox expresar plaqueta efecto sangramiento aas parecer dosisdependiente efecto paciente recibir dosi superior mgdio pesar prospectivo evaluan seguridad bloqueo neuroaxial aas ningun hematomar espinal aunque aislado aas parecer elevar probabilidad hematomar espinal venido observar complicación paciente clinico quirurgico nota asociacion heparina formar aquel paciente tratamiento aas parecer prudente administrar heparina tromboprofilaxi postoperatorio pues observado superioridad tromboprofilaxi dosis heparina preoperatoriob administracion dosis aas asociado dipiridamol parecer aumentar riesgo formacion hematomar espinal paciente historial sindromar coronario agudo sca accidente cerebrovascular acv enfermedad arterial periferico oclusivo aas reducir riesgo evento cardiovascular recurrente mortalidad aproximadamente reciente sugerir morbilidad mortalidad particularmente paciente stents coronario recien implantado sindromar coronario inestable nota aumento aas suspender procedimiento quirurgico fenomeno rebote describir riesgo trombosis tardia paciente stents farmacologico resumir suspension perioperatorio aas mayorio asociado riesgo trombosis agudo recomendar paciente sca implante stent continuar usar aas vida americar college of chest physicians accp recomendar evaluacion funcion plaquetario procedimiento invasivo correlacion aparente sangramientod recomendación respetar intervalo administracion hbpm insercionretirado cateter similar aplicado bloqueo neuroaxialesd retirar ningun cateter actividad anticoagulanted virtud morbilidad asociado hematomar retroperitoneal bloqueo paravertebral plexo lumbar recibir recomendación usado bloqueo neuroaxialesd bloqueo superficial axilar femoral ciatico distal presencia terapia anticoagulante antiplaquetariad tienopiridinico ticlopidín ticlid clopidogrel plavix prasugrel efient inhibidores plaquetario pertenecer clase tienopiridinico prodroga fragmentada in vivo higado metabolito activo antagonizar receptor plaquetario adenosín dinucleotido fosfato adp receptor py interfieren activacion agregacion plaquetario efecto antagonizar irreversible ningun prospectivo calcule seguridad tecnica neuroaxial presencia tratamiento droga tienopiridinica hematomar espinal describir despu anestesia neuroaxial usuario medicaciones ticlopidín ticlid ticlopidín poseer vida eliminacion horas aumentar despues hora tratamiento rutín dia disfuncion plaquetario ticlopidín permanecer dia despues suspension medicacion contrario clopidogrel ticlopidín conllevar neutropenia paciente limitante clopidogrel plavix clopidogrel vida eliminacion hora metabolito activo solamente ocho hora oral mg clopidogrel inhibicion maxima funcion plaquetaria dar despu siete dias aproximadamente hora despues dosis ataque inicial mg recuperacion funcion plaquetaria ocurrir solamente seis siete dia despues fin administracion clopidogrel paciente riesgo recurrencia angín descontinuacion cinco dia sugerido evitar morbilidad cardiovascular prasugrel efient nuevo tienopiridinico dependiente conversion hepatico metabolito activo conectar receptor py plaquetario conecta adp activacion plaquetario desempenar actividad inhibitorio drogo rapido inicio accion minuto potente clopidogrel efecto antiplaquetario droga igual vida plaqueta funcion plaquetaria previo tratamiento restauro siete dia despu suspension drogo compara prasugrel clopidogrel paciente diagnostico sindromar coronario agudo sometido intervencion coronario percutaneo mostro reduccion evento isquemico tratado prasugrel riesgo sangramiento ocasionalmente fatal inhibidor glicoproteina iibiiio inhibidor glicoproteina iibiiia abciximab reopro eptifibatidir integrilin tirofir aggrastat hoy diar droga disponible efectivo inhibicion agregacion plaquetario bloquear glicoproteina iibiiio plaquetario local conexion fibrinogeno plaqueta via final comun agregacion plaquetario estar exclusivamente disposicion intravenoso efecto antiplaquetario reversibl desaparecer hora respectivamente despues suspension eptifibatidetirofir abciximab efecto colateral común trombocitopenia sangramiento manifestar abciximab observar mejor eficiencia medicamentós abciximab tirofir eptifibatidir antiplaquetario ticagrelor brilinto contraste tienopiridinico ticagrelor actua directamente receptor py necesitar biotransformacion hepatico metabolito activo citocromo pesar metabolito activo prasugrel ticagrelor producir inhibicion rapido intenso aproximadamente consistente receptor py clopidogrel poseer rapido inicio accion conexion reversible corto duracion necesitar administracion oral toma efecto inicial agregacion plaquetario observado minuto posterior dosis ataque interrupcion tratamiento funcion plaquetaria reestablecir dia cilostazol vasogard cebralatn pletal cilostazol producir inhibicion selectivo fosfodiesterasa iiia pdeiiio aumentar intracelular adenosín monofosfato ciclico ampc conllevar debil inhibicion agregacion plaquetario musculo liso vascular contener pdeiiio cilostazol producir vasodilatacion arterial derecho mecanismo accion cilostazol completamente aclarado indicar enfermedad arterial periferico claudicacion intermitente aquel responder terapia ejercicio posibilidad intervencion quirurgico posologia via oral dosis mg diar plasmatico maximo obtener hora compuesto eliminado predominantemente metabolismo hepatico posteriormente excrecion urinaria metabolito vida eliminacion terminal cilostazol metabolito activo aproximadamente hora metabolito inhibir agregacion plaquetario intensidad compuesto principal relato reciente mostro hematomar espinal posterior retirada cateter epidural tratamiento cilostazol prospectivo perioperatorio droga desconocer efecto incidencia sangramiento heparina heparín fraccionado hnf principal efecto anticoagulante hnf pentasacarir tercio molecula heparina conecta antitrombín iii atiii despues conexion hnf cataliza inactivacion iio trombina xa ixir menor extension xia xiia faltar heparina antitrombín iii poseer afinidad trombín hnf conecta atiii tasar conexion trombín acelerar mil semejanza ocurrir coagulacion inhibido hnf conectar fuertemente varios proteina plasmatica celula endotelial macrofago plaquetario fp traer biodisponibilidad farmacocinetico impreciso trombocitopenia inducido heparina tih actividad anticoagulante hnf depender molecula heparina cadén pentasacarido composicion cuanto tamano molecula contener pentasacarido molecula heparina peso molecular ir catalizar inhibicion iia xa molecula heparinar peso molecular inhibirar solamente xa administracion intravenoso hnf traer anticoagulacion inmediato mientras administracion subcutaneo resultar inicio accion hora efecto anticoagulante dependiente peso molecular dosis administrado linear aumentar desproporcionalmente elevacion dosis vida biologico heparina aumentar minuto uikg iv minutos uikg minutos uikg administrar dosis terapeuticas anticoagulacion hnf monitorizo tromboplastinar parcial activado ttpa circulacion extracorporea inhibicion coagulacion dosis heparina monitorizado coagulacion activado tca administracion pequenas dosis subcutanea mil ui profilaxis trombosis venós profundo tvp generalmente alterar ttpo ventaja anticoagulacion heparina reversion protamín miligramo protamín neutralizar ui heparina revision mil paciente sometido bloqueo neuroaxial presencia dosis profilactica tvp heparina acuso hematoma espinal aislado descrito posteriormente revision paciente recibir esquema dosis diario hnf subcutanear mil contraindicacion tecnica neuroaxial suficiente demuestrir seguridad usar tecnica neuroaxial posologiar dosis diario pesar eficiente prevencion tvp contraste esquema profilactico hnf anticoagulacion terapeutico definitivamente asociado riesgo aumentado hematoma espinal prospectivo comparo incidencia hematomar espinal paciente usar hnf dosis terapeuticas sometido puncion lumbar presento incidencia tratamiento hnf terapeutico riesgo asociados intervalo inferior hora inicio heparinizacion puncion lumbar ii concomitante aas momento puncion lumbar iii procedimiento traumatico recientemente hematomar epidural descrito asociacion hnf terapeutico bloqueo neuroaxial heparinizacion intraoperatorio conllevar mil mil heparina intravenoso procedimiento quirurgico particularmente cirugia vascular prevenir trombosis pinzamiento vaso arterial mayorio seri publicado usar directriz manejo anestesia neuroaxial paciente basado exclusion paciente riesgo coagulopatia preexistente realizacion procedimiento neuroaxial hora administracion heparina staffordsmith mostro aumento incidencia sangramiento paciente tratamiento aas asociado heparina intravenoso intraoperatorio riesgo hep aumento despues puncion epidural despues anestesia subaracnoidea incluso aparecer anestesia neuroaxial heparinizacion posterior despu intervalo hora cirugia cardiaco beneficios anestesia epidural toracico funcion pulmonar analgesio evidente menor intensidad control arritmia efecto ingreso uci mortalidad beneficio evaluar riesgo hep probabilidad hematomar espinal paciente sometido cirugia cardiaco heparinizacion completo tecnica epidural subaracnoidea recomendar bloqueo neuro eje dia anterior cirugia causa heparinizacion quirurgico completo hecho bloqueo neuroaxial cirugia cardiaco riesgo mejorio morbilidad mortalidad discutir anestesia subaracnoidea epidural justificario probablemente recomendacion abandonar tecnico heparinar peso molecular hbpm hbpm convertido tratamiento eleccion prevencion tratamiento tvp biodisponibilidad casi despu administracion subcutaneo convertir efecto anticoagulante superior aumentar tendencia sangramiento facilitado monitorizacion coagulacion sanguineo farmacologio hbpm hnf principal diferencia consistar actividad inhibitorio xa comparado trombín iia dificultad monitorizacion efecto anticoagulante xa vidar eliminacion prolongado ausencio reversibilidad completo protamín administracion subcutaneo plasmatico maximos alcanzar aproximadamente cuatro hora vida eliminacion funcion renal normal cuatro seis hora mantener actividad antifactor xa considerable despues hora administracion aclaramiento creatinina caer debajo mlmin vida eliminacion dublico comparado hnf riesgo menor ocurrir trombocitopenia tih estar contraindicado tih riesgo aproximadamente reaccion cruzado tromboprofilaxi hbpm prescribir dosis diario mg comparado regimen dosis diario riesgo hematomar espinal aumentar minimos actividad antixir hbpm paciente sometido bloqueo neuro eje adopto europa usar mg dosis unica hora procedimiento quirurgico evitar aparicion hematomar espinal recomendación insercionretirado cateter epidural intervalo minimo hora despues ultimo dosis hbpm dosis posterior reiniciada despues ocho hora revisión millón paciente bloqueo neuroaxial hbpm regimen europeo seguro solamente hematomar espinal descrito lado unidos enoxaprín introducido recomendacion administracion realizacion bloqueo neuroaxial retirado cateter enoxaparín administrar rutina inmediatamente postoperatorio dosis mg diar despues cinco food and drug administration fda tenia relato paciente sometido bloqueo neuroaxial desarrollar hematoma espinal hematomar espinal asociados hbpm habian descrito europa mientras unido llegar razón elevado tasa atribuir prescripcion dosis diario hbpm ii dosis frecuente tal conllevasir minir sanguineo elevado insercionretirado cateter iii faltar directriz practica bloqueo neuro eje administracion hbpm iv casuistico despu resolucion segundo consenso americar society of regional anesthesia asro relatar literatura lengua inglés combinacion hematomar espinal hbpm cinco adicional reportado consenso royal college of anaesthetists inglaterro bloqueo epidural comprobacion evidencia asociacion medicacion anticoagulante antagonista vitamín cumarinico estar incluido aqui acenocumarol femprocumona warfarina drogas inhibir sintesis gamacarboxilacion factores dependiente vitamina ii vii ix proteín haciendola incapaz conectar membrana fosfolipidica plaquetaria coagulacion protrombín tp indicar normalizado internacional inr test usado monitorizar droga reflejar actividad plasmatico cuatro coagulacion ii vii experiencia clinica sugerir actividad tono hemostasis normal proximo normal rni asociado actividad vii vii poseer vida cortar aproximadamente seis hora aumento inicial inr cumarinico usar reflejo perdido actividad vii efecto terapeutico droga dependiente reduccion factores ii vida relativamente larga hora hora respectivamente despues interrupcion warfarina ii ultimo normalizar despues interrupcion drogas inr retornar proximos normal causa restauracion actividad vii factores ii haber restaurar hemostatico normal efecto anticoagulante efectivamente evitado administracion vitamina plasma fresco congelado complejo protrombinico total ii vii ix aunque asra recomendado retirada cateter epidural rni menor cuestionar conservador relato retirada cateter epidural rni intercurrencia ocurrir hora medicacion probable adecuado actividad coagulacion particularmente ii dependiente vitamina afectar relato hematomar espinal paciente recibir analgesia epidural despues artroplastiar total rodilla tratado warfarín mg iniciado noche anterior procedimiento cateter epidural retirado tardar hora postoperatorio promedio rni momento retirar rni menor aproximadamente seri sugerir solamente rni manejo cateter epidural sino duracion terapia warfarina prolongamiento horas representar aumento riesgo hematomar control paciente tratamiento warfarina perioperatorio continuo controversial recomendación fundamentar farmacologia drogo relevancia clinico deficienciar coagulacion dependiente vitamina seriser relato hematomar espinal inhibidor xa fondaparinux arixtro fondaparinux pentasacarido sintetico inhibir indirectamente xa formar selectivo contrario hbpm efecto iia trombina agregacion plaquetario afecto compuesto biodisponibilidad aproximadamente despu administracion subcutanea vida eliminacion horas expulsa principalmente rinón vido eliminacion prolonguir hora aclaramiento creatininar menor mlmin contraindicado paciente aclaramiento menor mlmin dosis profilactico mg via subcutanear diar habitualmente administrado hora despues cirugia usar preoperatorio aumentar riesgo sangramiento quirurgico mejorar eficacia antitrombotico virtud postoperatorio problema anestesia neuroaxial puncion unico cateter insertado retirar solamente faltar plasmatico fondaparinux recomendación manejo cateter epidural paciente tratamiento fondaparinux obedecer condición usado singelyn col evaluo paciente cual someter procedimiento anestesico regional dosis unico fondaparinux omitia noche anterior retirada cateter garantizo intervalo hora ultimo dosis drogo retirada cateter hora retirar cateter proxima dosis fondaparinux ningun hematomar espinal descrito aumento riesgo tvp americar college of chest physicians accp incluso descrito tih fondaparinux sugerir droga paciente historial tih opcion hbpm hnf rivaroxar xarelto rivaroxar inhibidor selectivo xa administrado via oral aprobado prevencion tvp despu cirugiir protesis total rodilla caderar tratamiento iniciado seis ocho hora despuser cirugiir dosis unico mg plasmatico maximos alcanzar cuatro hora demostrar mejor eficacia enoxaparín tromboprofilaxi compar heparina antagonista vitamina tratamiento tvp rivaroxar poseer vida eliminacion cinco nueve hora influenciado funcion renal eliminacion ocurrir via renal poseer eliminacion hepatico ancianos vida prolongar hora rivaroxar generar prolongamiento ttpa heptest test estar recomendado evaluar efecto anticoagulante drogo protrombín tp influenciado rivaroxar dosis dependiente estrecha correlacion concentración plasmatica medir segundo rni monitorizacion rutín mayorio nuevo anticoagulant rivaroxar antagonizar apixar eliquis inhibidor directo xa administrado via oral biodisponibilidad requerir biotransformacion activacion contraste antagonista vitamina interaccion alimento plasmatico maxir obtener hora vida aproximado hora hora posologia dosis diario necesitar monitorizacion rutín coagulacion solo eliminar via renal metabolismo hepatico biliar segregado via intestinal aleatorio demostrado eficacia seguridad apixar despues cirugia protesis rodilla cadera evaluacion individuo fibrilacion atrial comparo apixar warfarina demostro apixar superior tromboprofilaxi riesgo sangramiento menor indecir mortalidad basandono probable apixar logre aprobacion anticoagulacion fibrilacion atrial valvular tromboprofilaxi cirugia caderar rodilla inhibidores trombina dabigatrar pradaxa dabigatrar nuevo inhibidor reversible trombina administrado via oral recientemente aprobado profilaxis tvp paciente sometido cirugia protesis caderar rodilla dabigatrar administrado prodrogo dabigatrar etexilato convertir dabigatrar esterasa plasmatica compuesto poseer vida hora eliminado principalmente via renal antagonizar despu administracion plasmatico maximos alcanzar cuatro hora efecto drogar continuo persistir cinco siete dia depender funcion renal tratamiento iniciar cuatro hora despues cirugiir dosi variar mg aclaramiento creatinina mlmin mg funcion renal normal dosis aumentar mg mg dia posterior dabigatrar prolonguir ttpa efecto linear trombinar tt particularmente sensible referencia control anticoagulacion linealidad dosisrespuestar concentración terapeutica reversion anticoagulacion teoricamente administracion viia recombinante aunque clinicamente testado eficacia dabigatrar mg prevencion tvp comparable enoxaparina mgdia aumento sangramiento preliminar dabigatrar bloqueo neuroaxial venido respecto retirada cateter epidural cuatro seis hora dosis paciente tratamiento dabigatrar tratamiento cateter epidural argatror argatra argatror inhibidor directo reversible trombina conecto trombín argatror indicado paciente trombosis asociado trombocitopenia inducido heparina tih ausencia interaccion plaquetario fp argatror administrado intravenosamente continuo eliminar exclusivamente higado usar insuficiencia renal dosis mgkgmin ajusta mantener ttpa normal paciente buen funcion hepatica normalizacion ttpa ocurrir cuatro hora final infusion virtud vida corto minuto desirudin iprivask lepirudin refludar hirudina recombinant desirudin lepirudin generacion inhibidor directo trombín administrado via parenteral interaccion plaquetario fp desencadenar trombocitopenia inducido heparina tih desirudin indicado profilaxis tvp lepirudin tratamiento tvp paciente historial tih lepirudin desirudin poseer vida hora aumentar significantemente insuficiencia renal causar riesgo potencial sangramientos efecto anticoagulante hirudina rutín monitorizado ttpa ect ecarin clotting time bloqueo neuroaxial examen laboratorial consenso directriz actual determinar bloqueo neuroaxial paciente trombocitopenia ninguno determinir limite minimo plaqueta bloqueo neuroaxial funcion plaquetario parecer aislado plaqueta investigador sugerir aceptable conteo mil mm funcion preservado mientras conteo mil mm aceptable test evaluacion funcion plaquetario reciente demostro ausencia riesgo conteo plaquetas mil mm seguro realizacion bloqueo subaracnoideosepidural conteo mil mm lumbar sencillo cuanto hemostasis secundario actividad adecuado hemostasis normal proximo normal rni asociado actividad vii sangramiento ocurrir cualquiera coagulacion reducido habitual bloqueo nervio periferico anticoagulant aunque hematomar espinal complicacion hemorragico anestesia regional caús naturaleza catastrofico sangramiento espacio restricto comprensible riesgo asociado posterior bloqueo plexo nervio periferico permanecer indeterminado presencia hematoma aumentar morbilidad mortalidad relatado envolver hematomar retroperitoneal despu bloqueo plexo lumbar enoxaparín clopidogrel relato cateter introducido plexo lumbar retirado hora despu ultimo dosis heparina aunque mayoria evolucionado dano neurologico prolongamiento ingreso paciente dano insatisfaccion transfusion concentrado hemati deficit motor sensitivo insuficiencia renal muerte hemorragia sociedad alemán anestesiologio medicina intensivo adoptar recomendación bloqueo neuroaxial bloqueo nervio periferico plexo paciente tratamiento droga antitrombotica sociedad austriaco diferenciar bloqueo neuroaxial periferico profundo superficial ultimos bloqueo plexo braquial via axilar bloqueo nervio femoral bloqueo ciatico abordaj distal presencia aas anticoagulant ultrasonido ayuda bloqueo periferico plexo complicación puncion vascular reducir causa visualizacion dinamicar estructura adyacente nervio serio bloqueado tal evidencia demostrar real disminucion tasa complicación tecnico podrar entonces recomendar relativamente seguro paciente anticoagulado bloqueo periferico guiado ultrasonido'"
      ]
     },
     "execution_count": 10,
     "metadata": {},
     "output_type": "execute_result"
    }
   ],
   "source": [
    "prepared_text_es_science.values[0]"
   ]
  },
  {
   "cell_type": "code",
   "execution_count": 11,
   "metadata": {},
   "outputs": [],
   "source": [
    "from sentence_transformers import SentenceTransformer"
   ]
  },
  {
   "cell_type": "code",
   "execution_count": 12,
   "metadata": {},
   "outputs": [],
   "source": [
    "from sentence_transformers import SentenceTransformer\n",
    "from nltk.tokenize import sent_tokenize\n",
    "import numpy as np\n",
    "\n",
    "class TextEmbeddingGenerator(object):\n",
    "\n",
    "    def __init__(self,texts,model='all-MiniLM-L6-v2'):\n",
    "        self.model = model\n",
    "        self.texts = texts\n",
    "\n",
    "    def _load_transformer(self):\n",
    "        self.transformer = SentenceTransformer(self.model)\n",
    "\n",
    "    def unload_transformer(self):\n",
    "        del self.transformer\n",
    "\n",
    "\n",
    "    def _generate_text_embeddings(self):\n",
    "        text_embeddings = list()\n",
    "        for text in self.texts.values:\n",
    "            tokenized_sentences = sent_tokenize(text)\n",
    "            sentence_embeddings = self.transformer.encode(tokenized_sentences)\n",
    "            averaged_sentences = sentence_embeddings.mean(axis=0)\n",
    "            text_embeddings.append(averaged_sentences)\n",
    "        \n",
    "        return np.array(text_embeddings)\n",
    "    \n",
    "\n",
    "    def calculate_embeddings(self):\n",
    "        self._load_transformer()\n",
    "        embeddings = self._generate_text_embeddings()\n",
    "        return embeddings\n",
    "    \n",
    "\n",
    "        \n",
    "        "
   ]
  },
  {
   "cell_type": "code",
   "execution_count": 13,
   "metadata": {},
   "outputs": [],
   "source": [
    "embedding_gen = TextEmbeddingGenerator(prepared_text_en_science,\"paraphrase-multilingual-MiniLM-L12-v2\")"
   ]
  },
  {
   "cell_type": "code",
   "execution_count": 14,
   "metadata": {},
   "outputs": [],
   "source": [
    "embeddings = embedding_gen.calculate_embeddings()"
   ]
  },
  {
   "cell_type": "code",
   "execution_count": 15,
   "metadata": {},
   "outputs": [],
   "source": [
    "embedding_gen.unload_transformer()"
   ]
  },
  {
   "cell_type": "code",
   "execution_count": 16,
   "metadata": {},
   "outputs": [
    {
     "data": {
      "text/plain": [
       "89"
      ]
     },
     "execution_count": 16,
     "metadata": {},
     "output_type": "execute_result"
    }
   ],
   "source": [
    "del embedding_gen\n",
    "gc.collect()"
   ]
  },
  {
   "cell_type": "code",
   "execution_count": 17,
   "metadata": {},
   "outputs": [
    {
     "data": {
      "text/plain": [
       "(995, 384)"
      ]
     },
     "execution_count": 17,
     "metadata": {},
     "output_type": "execute_result"
    }
   ],
   "source": [
    "embeddings.shape"
   ]
  },
  {
   "cell_type": "code",
   "execution_count": 20,
   "metadata": {},
   "outputs": [],
   "source": [
    "from sklearn.mixture import GaussianMixture\n",
    "import numpy as np\n",
    "\n",
    "class TopicModel(object):\n",
    "\n",
    "    def __init__(self,n_topics=20):\n",
    "        self.model = GaussianMixture(n_components=n_topics,random_state=777)\n",
    "\n",
    "\n",
    "    def _fit_model(self,embeddings):\n",
    "        self.model.fit(embeddings)\n",
    "\n",
    "    \n",
    "    def _select_topics(self,embeddings,save=True):\n",
    "        probs = self.model.predict_proba(embeddings)\n",
    "        topics = [np.where(p > 0) for p in probs]\n",
    "        if save:\n",
    "            self.topics = topics\n",
    "            self.probs = probs.tolist()\n",
    "    \n",
    "\n",
    "    def get_topics(self,embeddings,save=True):\n",
    "        if save == True:\n",
    "            self._fit_model(embeddings)\n",
    "        self._select_topics(embeddings,save)\n",
    "        return self.topics"
   ]
  },
  {
   "cell_type": "code",
   "execution_count": 21,
   "metadata": {},
   "outputs": [
    {
     "name": "stderr",
     "output_type": "stream",
     "text": [
      "C:\\Users\\juan9\\AppData\\Roaming\\Python\\Python38\\site-packages\\sklearn\\cluster\\_kmeans.py:1382: UserWarning: KMeans is known to have a memory leak on Windows with MKL, when there are less chunks than available threads. You can avoid it by setting the environment variable OMP_NUM_THREADS=4.\n",
      "  warnings.warn(\n"
     ]
    }
   ],
   "source": [
    "topic_model  = TopicModel()\n",
    "topics = topic_model.get_topics(embeddings)"
   ]
  },
  {
   "cell_type": "code",
   "execution_count": 22,
   "metadata": {},
   "outputs": [
    {
     "data": {
      "text/plain": [
       "[(array([18], dtype=int64),),\n",
       " (array([18], dtype=int64),),\n",
       " (array([17], dtype=int64),),\n",
       " (array([18], dtype=int64),),\n",
       " (array([8], dtype=int64),),\n",
       " (array([18], dtype=int64),),\n",
       " (array([18], dtype=int64),),\n",
       " (array([17], dtype=int64),),\n",
       " (array([17], dtype=int64),),\n",
       " (array([17], dtype=int64),),\n",
       " (array([17], dtype=int64),),\n",
       " (array([18], dtype=int64),),\n",
       " (array([18], dtype=int64),),\n",
       " (array([18], dtype=int64),),\n",
       " (array([0], dtype=int64),),\n",
       " (array([3], dtype=int64),),\n",
       " (array([18], dtype=int64),),\n",
       " (array([8], dtype=int64),),\n",
       " (array([18], dtype=int64),),\n",
       " (array([12], dtype=int64),),\n",
       " (array([0], dtype=int64),),\n",
       " (array([17], dtype=int64),),\n",
       " (array([18], dtype=int64),),\n",
       " (array([17], dtype=int64),),\n",
       " (array([18], dtype=int64),),\n",
       " (array([18], dtype=int64),),\n",
       " (array([18], dtype=int64),),\n",
       " (array([17], dtype=int64),),\n",
       " (array([18], dtype=int64),),\n",
       " (array([8], dtype=int64),),\n",
       " (array([8], dtype=int64),),\n",
       " (array([18], dtype=int64),),\n",
       " (array([0], dtype=int64),),\n",
       " (array([18], dtype=int64),),\n",
       " (array([0], dtype=int64),),\n",
       " (array([18], dtype=int64),),\n",
       " (array([18], dtype=int64),),\n",
       " (array([18], dtype=int64),),\n",
       " (array([13], dtype=int64),),\n",
       " (array([18], dtype=int64),),\n",
       " (array([17], dtype=int64),),\n",
       " (array([18], dtype=int64),),\n",
       " (array([18], dtype=int64),),\n",
       " (array([8], dtype=int64),),\n",
       " (array([7], dtype=int64),),\n",
       " (array([17], dtype=int64),),\n",
       " (array([18], dtype=int64),),\n",
       " (array([18], dtype=int64),),\n",
       " (array([18], dtype=int64),),\n",
       " (array([18], dtype=int64),),\n",
       " (array([8], dtype=int64),),\n",
       " (array([0], dtype=int64),),\n",
       " (array([18], dtype=int64),),\n",
       " (array([0], dtype=int64),),\n",
       " (array([18], dtype=int64),),\n",
       " (array([18], dtype=int64),),\n",
       " (array([18], dtype=int64),),\n",
       " (array([18], dtype=int64),),\n",
       " (array([17], dtype=int64),),\n",
       " (array([17], dtype=int64),),\n",
       " (array([18], dtype=int64),),\n",
       " (array([18], dtype=int64),),\n",
       " (array([18], dtype=int64),),\n",
       " (array([18], dtype=int64),),\n",
       " (array([18], dtype=int64),),\n",
       " (array([18], dtype=int64),),\n",
       " (array([17], dtype=int64),),\n",
       " (array([17], dtype=int64),),\n",
       " (array([18], dtype=int64),),\n",
       " (array([18], dtype=int64),),\n",
       " (array([18], dtype=int64),),\n",
       " (array([0], dtype=int64),),\n",
       " (array([18], dtype=int64),),\n",
       " (array([18], dtype=int64),),\n",
       " (array([17], dtype=int64),),\n",
       " (array([18], dtype=int64),),\n",
       " (array([12], dtype=int64),),\n",
       " (array([18], dtype=int64),),\n",
       " (array([18], dtype=int64),),\n",
       " (array([18], dtype=int64),),\n",
       " (array([7], dtype=int64),),\n",
       " (array([17], dtype=int64),),\n",
       " (array([0], dtype=int64),),\n",
       " (array([18], dtype=int64),),\n",
       " (array([3], dtype=int64),),\n",
       " (array([18], dtype=int64),),\n",
       " (array([5], dtype=int64),),\n",
       " (array([0], dtype=int64),),\n",
       " (array([1], dtype=int64),),\n",
       " (array([18], dtype=int64),),\n",
       " (array([0], dtype=int64),),\n",
       " (array([16], dtype=int64),),\n",
       " (array([13], dtype=int64),),\n",
       " (array([18], dtype=int64),),\n",
       " (array([6], dtype=int64),),\n",
       " (array([18], dtype=int64),),\n",
       " (array([17], dtype=int64),),\n",
       " (array([0], dtype=int64),),\n",
       " (array([0], dtype=int64),),\n",
       " (array([0], dtype=int64),),\n",
       " (array([0], dtype=int64),),\n",
       " (array([18], dtype=int64),),\n",
       " (array([17], dtype=int64),),\n",
       " (array([0], dtype=int64),),\n",
       " (array([17], dtype=int64),),\n",
       " (array([12], dtype=int64),),\n",
       " (array([0], dtype=int64),),\n",
       " (array([18], dtype=int64),),\n",
       " (array([18], dtype=int64),),\n",
       " (array([17], dtype=int64),),\n",
       " (array([8], dtype=int64),),\n",
       " (array([8], dtype=int64),),\n",
       " (array([18], dtype=int64),),\n",
       " (array([9], dtype=int64),),\n",
       " (array([13], dtype=int64),),\n",
       " (array([2], dtype=int64),),\n",
       " (array([4], dtype=int64),),\n",
       " (array([2], dtype=int64),),\n",
       " (array([15], dtype=int64),),\n",
       " (array([4], dtype=int64),),\n",
       " (array([15], dtype=int64),),\n",
       " (array([11], dtype=int64),),\n",
       " (array([11], dtype=int64),),\n",
       " (array([8], dtype=int64),),\n",
       " (array([8], dtype=int64),),\n",
       " (array([2], dtype=int64),),\n",
       " (array([2], dtype=int64),),\n",
       " (array([10], dtype=int64),),\n",
       " (array([10], dtype=int64),),\n",
       " (array([2], dtype=int64),),\n",
       " (array([2], dtype=int64),),\n",
       " (array([15], dtype=int64),),\n",
       " (array([15], dtype=int64),),\n",
       " (array([3], dtype=int64),),\n",
       " (array([3], dtype=int64),),\n",
       " (array([2], dtype=int64),),\n",
       " (array([2], dtype=int64),),\n",
       " (array([12], dtype=int64),),\n",
       " (array([12], dtype=int64),),\n",
       " (array([14], dtype=int64),),\n",
       " (array([15], dtype=int64),),\n",
       " (array([7], dtype=int64),),\n",
       " (array([7], dtype=int64),),\n",
       " (array([16], dtype=int64),),\n",
       " (array([4], dtype=int64),),\n",
       " (array([14], dtype=int64),),\n",
       " (array([10], dtype=int64),),\n",
       " (array([3], dtype=int64),),\n",
       " (array([9], dtype=int64),),\n",
       " (array([3], dtype=int64),),\n",
       " (array([3], dtype=int64),),\n",
       " (array([4], dtype=int64),),\n",
       " (array([13], dtype=int64),),\n",
       " (array([13], dtype=int64),),\n",
       " (array([10], dtype=int64),),\n",
       " (array([10], dtype=int64),),\n",
       " (array([12], dtype=int64),),\n",
       " (array([17], dtype=int64),),\n",
       " (array([13], dtype=int64),),\n",
       " (array([10], dtype=int64),),\n",
       " (array([7], dtype=int64),),\n",
       " (array([7], dtype=int64),),\n",
       " (array([5], dtype=int64),),\n",
       " (array([7], dtype=int64),),\n",
       " (array([2], dtype=int64),),\n",
       " (array([13], dtype=int64),),\n",
       " (array([2], dtype=int64),),\n",
       " (array([7], dtype=int64),),\n",
       " (array([14], dtype=int64),),\n",
       " (array([10], dtype=int64),),\n",
       " (array([13], dtype=int64),),\n",
       " (array([15], dtype=int64),),\n",
       " (array([10], dtype=int64),),\n",
       " (array([9], dtype=int64),),\n",
       " (array([17], dtype=int64),),\n",
       " (array([18], dtype=int64),),\n",
       " (array([9], dtype=int64),),\n",
       " (array([16], dtype=int64),),\n",
       " (array([16], dtype=int64),),\n",
       " (array([15], dtype=int64),),\n",
       " (array([15], dtype=int64),),\n",
       " (array([8], dtype=int64),),\n",
       " (array([8], dtype=int64),),\n",
       " (array([15], dtype=int64),),\n",
       " (array([15], dtype=int64),),\n",
       " (array([15], dtype=int64),),\n",
       " (array([17], dtype=int64),),\n",
       " (array([18], dtype=int64),),\n",
       " (array([17], dtype=int64),),\n",
       " (array([18], dtype=int64),),\n",
       " (array([17], dtype=int64),),\n",
       " (array([16], dtype=int64),),\n",
       " (array([8], dtype=int64),),\n",
       " (array([17], dtype=int64),),\n",
       " (array([17], dtype=int64),),\n",
       " (array([4], dtype=int64),),\n",
       " (array([4], dtype=int64),),\n",
       " (array([4], dtype=int64),),\n",
       " (array([9], dtype=int64),),\n",
       " (array([4], dtype=int64),),\n",
       " (array([10], dtype=int64),),\n",
       " (array([5], dtype=int64),),\n",
       " (array([13], dtype=int64),),\n",
       " (array([4], dtype=int64),),\n",
       " (array([3], dtype=int64),),\n",
       " (array([4], dtype=int64),),\n",
       " (array([14], dtype=int64),),\n",
       " (array([7], dtype=int64),),\n",
       " (array([4], dtype=int64),),\n",
       " (array([4], dtype=int64),),\n",
       " (array([3], dtype=int64),),\n",
       " (array([6], dtype=int64),),\n",
       " (array([9], dtype=int64),),\n",
       " (array([4], dtype=int64),),\n",
       " (array([13], dtype=int64),),\n",
       " (array([7], dtype=int64),),\n",
       " (array([13], dtype=int64),),\n",
       " (array([9], dtype=int64),),\n",
       " (array([10], dtype=int64),),\n",
       " (array([3], dtype=int64),),\n",
       " (array([2], dtype=int64),),\n",
       " (array([3], dtype=int64),),\n",
       " (array([14], dtype=int64),),\n",
       " (array([12], dtype=int64),),\n",
       " (array([2], dtype=int64),),\n",
       " (array([7], dtype=int64),),\n",
       " (array([7], dtype=int64),),\n",
       " (array([7], dtype=int64),),\n",
       " (array([14], dtype=int64),),\n",
       " (array([14], dtype=int64),),\n",
       " (array([7], dtype=int64),),\n",
       " (array([7], dtype=int64),),\n",
       " (array([10], dtype=int64),),\n",
       " (array([10], dtype=int64),),\n",
       " (array([7], dtype=int64),),\n",
       " (array([4], dtype=int64),),\n",
       " (array([12], dtype=int64),),\n",
       " (array([17], dtype=int64),),\n",
       " (array([5], dtype=int64),),\n",
       " (array([9], dtype=int64),),\n",
       " (array([9], dtype=int64),),\n",
       " (array([14], dtype=int64),),\n",
       " (array([4], dtype=int64),),\n",
       " (array([13], dtype=int64),),\n",
       " (array([13], dtype=int64),),\n",
       " (array([1], dtype=int64),),\n",
       " (array([4], dtype=int64),),\n",
       " (array([16], dtype=int64),),\n",
       " (array([7], dtype=int64),),\n",
       " (array([8], dtype=int64),),\n",
       " (array([2], dtype=int64),),\n",
       " (array([7], dtype=int64),),\n",
       " (array([2], dtype=int64),),\n",
       " (array([3], dtype=int64),),\n",
       " (array([3], dtype=int64),),\n",
       " (array([7], dtype=int64),),\n",
       " (array([7], dtype=int64),),\n",
       " (array([16], dtype=int64),),\n",
       " (array([12], dtype=int64),),\n",
       " (array([17], dtype=int64),),\n",
       " (array([17], dtype=int64),),\n",
       " (array([2], dtype=int64),),\n",
       " (array([1], dtype=int64),),\n",
       " (array([13], dtype=int64),),\n",
       " (array([15], dtype=int64),),\n",
       " (array([17], dtype=int64),),\n",
       " (array([2], dtype=int64),),\n",
       " (array([5], dtype=int64),),\n",
       " (array([14], dtype=int64),),\n",
       " (array([2], dtype=int64),),\n",
       " (array([15], dtype=int64),),\n",
       " (array([15], dtype=int64),),\n",
       " (array([10], dtype=int64),),\n",
       " (array([10], dtype=int64),),\n",
       " (array([16], dtype=int64),),\n",
       " (array([7], dtype=int64),),\n",
       " (array([10], dtype=int64),),\n",
       " (array([5], dtype=int64),),\n",
       " (array([7], dtype=int64),),\n",
       " (array([15], dtype=int64),),\n",
       " (array([1], dtype=int64),),\n",
       " (array([2], dtype=int64),),\n",
       " (array([14], dtype=int64),),\n",
       " (array([4], dtype=int64),),\n",
       " (array([2], dtype=int64),),\n",
       " (array([7], dtype=int64),),\n",
       " (array([15], dtype=int64),),\n",
       " (array([14], dtype=int64),),\n",
       " (array([13], dtype=int64),),\n",
       " (array([18], dtype=int64),),\n",
       " (array([4], dtype=int64),),\n",
       " (array([10], dtype=int64),),\n",
       " (array([12], dtype=int64),),\n",
       " (array([14], dtype=int64),),\n",
       " (array([2], dtype=int64),),\n",
       " (array([4], dtype=int64),),\n",
       " (array([17], dtype=int64),),\n",
       " (array([4], dtype=int64),),\n",
       " (array([7], dtype=int64),),\n",
       " (array([10], dtype=int64),),\n",
       " (array([8], dtype=int64),),\n",
       " (array([14], dtype=int64),),\n",
       " (array([13], dtype=int64),),\n",
       " (array([13], dtype=int64),),\n",
       " (array([14], dtype=int64),),\n",
       " (array([15], dtype=int64),),\n",
       " (array([5], dtype=int64),),\n",
       " (array([12], dtype=int64),),\n",
       " (array([1], dtype=int64),),\n",
       " (array([3], dtype=int64),),\n",
       " (array([12], dtype=int64),),\n",
       " (array([8], dtype=int64),),\n",
       " (array([2], dtype=int64),),\n",
       " (array([2], dtype=int64),),\n",
       " (array([4], dtype=int64),),\n",
       " (array([3], dtype=int64),),\n",
       " (array([3], dtype=int64),),\n",
       " (array([3], dtype=int64),),\n",
       " (array([3], dtype=int64),),\n",
       " (array([4], dtype=int64),),\n",
       " (array([3], dtype=int64),),\n",
       " (array([7], dtype=int64),),\n",
       " (array([2], dtype=int64),),\n",
       " (array([14], dtype=int64),),\n",
       " (array([9], dtype=int64),),\n",
       " (array([10], dtype=int64),),\n",
       " (array([7], dtype=int64),),\n",
       " (array([8], dtype=int64),),\n",
       " (array([5], dtype=int64),),\n",
       " (array([14], dtype=int64),),\n",
       " (array([7], dtype=int64),),\n",
       " (array([3], dtype=int64),),\n",
       " (array([12], dtype=int64),),\n",
       " (array([3], dtype=int64),),\n",
       " (array([14], dtype=int64),),\n",
       " (array([15], dtype=int64),),\n",
       " (array([10], dtype=int64),),\n",
       " (array([16], dtype=int64),),\n",
       " (array([16], dtype=int64),),\n",
       " (array([14], dtype=int64),),\n",
       " (array([2], dtype=int64),),\n",
       " (array([17], dtype=int64),),\n",
       " (array([5], dtype=int64),),\n",
       " (array([18], dtype=int64),),\n",
       " (array([13], dtype=int64),),\n",
       " (array([13], dtype=int64),),\n",
       " (array([14], dtype=int64),),\n",
       " (array([12], dtype=int64),),\n",
       " (array([9], dtype=int64),),\n",
       " (array([9], dtype=int64),),\n",
       " (array([13], dtype=int64),),\n",
       " (array([9], dtype=int64),),\n",
       " (array([8], dtype=int64),),\n",
       " (array([14], dtype=int64),),\n",
       " (array([6], dtype=int64),),\n",
       " (array([3], dtype=int64),),\n",
       " (array([16], dtype=int64),),\n",
       " (array([8], dtype=int64),),\n",
       " (array([8], dtype=int64),),\n",
       " (array([12], dtype=int64),),\n",
       " (array([4], dtype=int64),),\n",
       " (array([8], dtype=int64),),\n",
       " (array([1], dtype=int64),),\n",
       " (array([14], dtype=int64),),\n",
       " (array([17], dtype=int64),),\n",
       " (array([4], dtype=int64),),\n",
       " (array([2], dtype=int64),),\n",
       " (array([12], dtype=int64),),\n",
       " (array([7], dtype=int64),),\n",
       " (array([7], dtype=int64),),\n",
       " (array([15], dtype=int64),),\n",
       " (array([2], dtype=int64),),\n",
       " (array([3], dtype=int64),),\n",
       " (array([4], dtype=int64),),\n",
       " (array([3], dtype=int64),),\n",
       " (array([17], dtype=int64),),\n",
       " (array([16], dtype=int64),),\n",
       " (array([16], dtype=int64),),\n",
       " (array([7], dtype=int64),),\n",
       " (array([7], dtype=int64),),\n",
       " (array([7], dtype=int64),),\n",
       " (array([7], dtype=int64),),\n",
       " (array([10], dtype=int64),),\n",
       " (array([3], dtype=int64),),\n",
       " (array([17], dtype=int64),),\n",
       " (array([6], dtype=int64),),\n",
       " (array([12], dtype=int64),),\n",
       " (array([1], dtype=int64),),\n",
       " (array([2], dtype=int64),),\n",
       " (array([13], dtype=int64),),\n",
       " (array([13], dtype=int64),),\n",
       " (array([12], dtype=int64),),\n",
       " (array([5], dtype=int64),),\n",
       " (array([2], dtype=int64),),\n",
       " (array([2], dtype=int64),),\n",
       " (array([13], dtype=int64),),\n",
       " (array([12], dtype=int64),),\n",
       " (array([7], dtype=int64),),\n",
       " (array([8], dtype=int64),),\n",
       " (array([4], dtype=int64),),\n",
       " (array([7], dtype=int64),),\n",
       " (array([13], dtype=int64),),\n",
       " (array([7], dtype=int64),),\n",
       " (array([13], dtype=int64),),\n",
       " (array([16], dtype=int64),),\n",
       " (array([3], dtype=int64),),\n",
       " (array([17], dtype=int64),),\n",
       " (array([7], dtype=int64),),\n",
       " (array([7], dtype=int64),),\n",
       " (array([2], dtype=int64),),\n",
       " (array([5], dtype=int64),),\n",
       " (array([2], dtype=int64),),\n",
       " (array([10], dtype=int64),),\n",
       " (array([9], dtype=int64),),\n",
       " (array([13], dtype=int64),),\n",
       " (array([18], dtype=int64),),\n",
       " (array([9], dtype=int64),),\n",
       " (array([4], dtype=int64),),\n",
       " (array([10], dtype=int64),),\n",
       " (array([12], dtype=int64),),\n",
       " (array([3], dtype=int64),),\n",
       " (array([17], dtype=int64),),\n",
       " (array([13], dtype=int64),),\n",
       " (array([6], dtype=int64),),\n",
       " (array([0], dtype=int64),),\n",
       " (array([12], dtype=int64),),\n",
       " (array([14], dtype=int64),),\n",
       " (array([7], dtype=int64),),\n",
       " (array([8], dtype=int64),),\n",
       " (array([17], dtype=int64),),\n",
       " (array([8], dtype=int64),),\n",
       " (array([17], dtype=int64),),\n",
       " (array([15], dtype=int64),),\n",
       " (array([10], dtype=int64),),\n",
       " (array([16], dtype=int64),),\n",
       " (array([2], dtype=int64),),\n",
       " (array([7], dtype=int64),),\n",
       " (array([2], dtype=int64),),\n",
       " (array([2], dtype=int64),),\n",
       " (array([14], dtype=int64),),\n",
       " (array([14], dtype=int64),),\n",
       " (array([3], dtype=int64),),\n",
       " (array([17], dtype=int64),),\n",
       " (array([14], dtype=int64),),\n",
       " (array([3], dtype=int64),),\n",
       " (array([13], dtype=int64),),\n",
       " (array([1], dtype=int64),),\n",
       " (array([1], dtype=int64),),\n",
       " (array([9], dtype=int64),),\n",
       " (array([12], dtype=int64),),\n",
       " (array([7], dtype=int64),),\n",
       " (array([2], dtype=int64),),\n",
       " (array([10], dtype=int64),),\n",
       " (array([14], dtype=int64),),\n",
       " (array([17], dtype=int64),),\n",
       " (array([1], dtype=int64),),\n",
       " (array([10], dtype=int64),),\n",
       " (array([10], dtype=int64),),\n",
       " (array([7], dtype=int64),),\n",
       " (array([5], dtype=int64),),\n",
       " (array([5], dtype=int64),),\n",
       " (array([12], dtype=int64),),\n",
       " (array([14], dtype=int64),),\n",
       " (array([5], dtype=int64),),\n",
       " (array([2], dtype=int64),),\n",
       " (array([13], dtype=int64),),\n",
       " (array([8], dtype=int64),),\n",
       " (array([15], dtype=int64),),\n",
       " (array([16], dtype=int64),),\n",
       " (array([16], dtype=int64),),\n",
       " (array([17], dtype=int64),),\n",
       " (array([13], dtype=int64),),\n",
       " (array([3], dtype=int64),),\n",
       " (array([12], dtype=int64),),\n",
       " (array([9], dtype=int64),),\n",
       " (array([4], dtype=int64),),\n",
       " (array([17], dtype=int64),),\n",
       " (array([12], dtype=int64),),\n",
       " (array([18], dtype=int64),),\n",
       " (array([12], dtype=int64),),\n",
       " (array([15], dtype=int64),),\n",
       " (array([15], dtype=int64),),\n",
       " (array([2], dtype=int64),),\n",
       " (array([2], dtype=int64),),\n",
       " (array([12], dtype=int64),),\n",
       " (array([2], dtype=int64),),\n",
       " (array([13], dtype=int64),),\n",
       " (array([4], dtype=int64),),\n",
       " (array([1], dtype=int64),),\n",
       " (array([12], dtype=int64),),\n",
       " (array([17], dtype=int64),),\n",
       " (array([10], dtype=int64),),\n",
       " (array([13], dtype=int64),),\n",
       " (array([7], dtype=int64),),\n",
       " (array([14], dtype=int64),),\n",
       " (array([4], dtype=int64),),\n",
       " (array([3], dtype=int64),),\n",
       " (array([7], dtype=int64),),\n",
       " (array([14], dtype=int64),),\n",
       " (array([5], dtype=int64),),\n",
       " (array([13], dtype=int64),),\n",
       " (array([5], dtype=int64),),\n",
       " (array([13], dtype=int64),),\n",
       " (array([13], dtype=int64),),\n",
       " (array([9], dtype=int64),),\n",
       " (array([9], dtype=int64),),\n",
       " (array([14], dtype=int64),),\n",
       " (array([4], dtype=int64),),\n",
       " (array([4], dtype=int64),),\n",
       " (array([6], dtype=int64),),\n",
       " (array([16], dtype=int64),),\n",
       " (array([4], dtype=int64),),\n",
       " (array([15], dtype=int64),),\n",
       " (array([5], dtype=int64),),\n",
       " (array([12], dtype=int64),),\n",
       " (array([17], dtype=int64),),\n",
       " (array([18], dtype=int64),),\n",
       " (array([13], dtype=int64),),\n",
       " (array([17], dtype=int64),),\n",
       " (array([15], dtype=int64),),\n",
       " (array([17], dtype=int64),),\n",
       " (array([14], dtype=int64),),\n",
       " (array([10], dtype=int64),),\n",
       " (array([2], dtype=int64),),\n",
       " (array([3], dtype=int64),),\n",
       " (array([14], dtype=int64),),\n",
       " (array([7], dtype=int64),),\n",
       " (array([18], dtype=int64),),\n",
       " (array([7], dtype=int64),),\n",
       " (array([14], dtype=int64),),\n",
       " (array([5], dtype=int64),),\n",
       " (array([8], dtype=int64),),\n",
       " (array([2], dtype=int64),),\n",
       " (array([12], dtype=int64),),\n",
       " (array([2], dtype=int64),),\n",
       " (array([12], dtype=int64),),\n",
       " (array([13], dtype=int64),),\n",
       " (array([7], dtype=int64),),\n",
       " (array([7], dtype=int64),),\n",
       " (array([13], dtype=int64),),\n",
       " (array([8], dtype=int64),),\n",
       " (array([7], dtype=int64),),\n",
       " (array([12], dtype=int64),),\n",
       " (array([9], dtype=int64),),\n",
       " (array([12], dtype=int64),),\n",
       " (array([10], dtype=int64),),\n",
       " (array([14], dtype=int64),),\n",
       " (array([10], dtype=int64),),\n",
       " (array([19], dtype=int64),),\n",
       " (array([2], dtype=int64),),\n",
       " (array([7], dtype=int64),),\n",
       " (array([13], dtype=int64),),\n",
       " (array([17], dtype=int64),),\n",
       " (array([8], dtype=int64),),\n",
       " (array([17], dtype=int64),),\n",
       " (array([7], dtype=int64),),\n",
       " (array([15], dtype=int64),),\n",
       " (array([13], dtype=int64),),\n",
       " (array([14], dtype=int64),),\n",
       " (array([10], dtype=int64),),\n",
       " (array([10], dtype=int64),),\n",
       " (array([10], dtype=int64),),\n",
       " (array([3], dtype=int64),),\n",
       " (array([5], dtype=int64),),\n",
       " (array([6], dtype=int64),),\n",
       " (array([6], dtype=int64),),\n",
       " (array([12], dtype=int64),),\n",
       " (array([8], dtype=int64),),\n",
       " (array([14], dtype=int64),),\n",
       " (array([4], dtype=int64),),\n",
       " (array([4], dtype=int64),),\n",
       " (array([7], dtype=int64),),\n",
       " (array([7], dtype=int64),),\n",
       " (array([16], dtype=int64),),\n",
       " (array([14], dtype=int64),),\n",
       " (array([3], dtype=int64),),\n",
       " (array([18], dtype=int64),),\n",
       " (array([4], dtype=int64),),\n",
       " (array([7], dtype=int64),),\n",
       " (array([3], dtype=int64),),\n",
       " (array([3], dtype=int64),),\n",
       " (array([14], dtype=int64),),\n",
       " (array([13], dtype=int64),),\n",
       " (array([5], dtype=int64),),\n",
       " (array([13], dtype=int64),),\n",
       " (array([13], dtype=int64),),\n",
       " (array([16], dtype=int64),),\n",
       " (array([10], dtype=int64),),\n",
       " (array([7], dtype=int64),),\n",
       " (array([12], dtype=int64),),\n",
       " (array([4], dtype=int64),),\n",
       " (array([2], dtype=int64),),\n",
       " (array([2], dtype=int64),),\n",
       " (array([2], dtype=int64),),\n",
       " (array([2], dtype=int64),),\n",
       " (array([2], dtype=int64),),\n",
       " (array([10], dtype=int64),),\n",
       " (array([10], dtype=int64),),\n",
       " (array([17], dtype=int64),),\n",
       " (array([13], dtype=int64),),\n",
       " (array([14], dtype=int64),),\n",
       " (array([9], dtype=int64),),\n",
       " (array([14], dtype=int64),),\n",
       " (array([14], dtype=int64),),\n",
       " (array([14], dtype=int64),),\n",
       " (array([14], dtype=int64),),\n",
       " (array([14], dtype=int64),),\n",
       " (array([5], dtype=int64),),\n",
       " (array([4], dtype=int64),),\n",
       " (array([13], dtype=int64),),\n",
       " (array([5], dtype=int64),),\n",
       " (array([12], dtype=int64),),\n",
       " (array([17], dtype=int64),),\n",
       " (array([10], dtype=int64),),\n",
       " (array([14], dtype=int64),),\n",
       " (array([14], dtype=int64),),\n",
       " (array([10], dtype=int64),),\n",
       " (array([4], dtype=int64),),\n",
       " (array([12], dtype=int64),),\n",
       " (array([14], dtype=int64),),\n",
       " (array([9], dtype=int64),),\n",
       " (array([2], dtype=int64),),\n",
       " (array([17], dtype=int64),),\n",
       " (array([17], dtype=int64),),\n",
       " (array([15], dtype=int64),),\n",
       " (array([17], dtype=int64),),\n",
       " (array([4], dtype=int64),),\n",
       " (array([18], dtype=int64),),\n",
       " (array([12], dtype=int64),),\n",
       " (array([17], dtype=int64),),\n",
       " (array([9], dtype=int64),),\n",
       " (array([6], dtype=int64),),\n",
       " (array([4], dtype=int64),),\n",
       " (array([12], dtype=int64),),\n",
       " (array([5], dtype=int64),),\n",
       " (array([12], dtype=int64),),\n",
       " (array([16], dtype=int64),),\n",
       " (array([16], dtype=int64),),\n",
       " (array([7], dtype=int64),),\n",
       " (array([7], dtype=int64),),\n",
       " (array([9], dtype=int64),),\n",
       " (array([13], dtype=int64),),\n",
       " (array([15], dtype=int64),),\n",
       " (array([4], dtype=int64),),\n",
       " (array([4], dtype=int64),),\n",
       " (array([16], dtype=int64),),\n",
       " (array([18], dtype=int64),),\n",
       " (array([3], dtype=int64),),\n",
       " (array([14], dtype=int64),),\n",
       " (array([18], dtype=int64),),\n",
       " (array([8], dtype=int64),),\n",
       " (array([6], dtype=int64),),\n",
       " (array([13], dtype=int64),),\n",
       " (array([14], dtype=int64),),\n",
       " (array([1], dtype=int64),),\n",
       " (array([3], dtype=int64),),\n",
       " (array([2], dtype=int64),),\n",
       " (array([13], dtype=int64),),\n",
       " (array([13], dtype=int64),),\n",
       " (array([7], dtype=int64),),\n",
       " (array([12], dtype=int64),),\n",
       " (array([14], dtype=int64),),\n",
       " (array([10], dtype=int64),),\n",
       " (array([1], dtype=int64),),\n",
       " (array([2], dtype=int64),),\n",
       " (array([4], dtype=int64),),\n",
       " (array([7], dtype=int64),),\n",
       " (array([14], dtype=int64),),\n",
       " (array([5], dtype=int64),),\n",
       " (array([3], dtype=int64),),\n",
       " (array([14], dtype=int64),),\n",
       " (array([18], dtype=int64),),\n",
       " (array([6], dtype=int64),),\n",
       " (array([13], dtype=int64),),\n",
       " (array([6], dtype=int64),),\n",
       " (array([7], dtype=int64),),\n",
       " (array([7], dtype=int64),),\n",
       " (array([5], dtype=int64),),\n",
       " (array([16], dtype=int64),),\n",
       " (array([14], dtype=int64),),\n",
       " (array([7], dtype=int64),),\n",
       " (array([1], dtype=int64),),\n",
       " (array([12], dtype=int64),),\n",
       " (array([2], dtype=int64),),\n",
       " (array([13], dtype=int64),),\n",
       " (array([13], dtype=int64),),\n",
       " (array([17], dtype=int64),),\n",
       " (array([7], dtype=int64),),\n",
       " (array([14], dtype=int64),),\n",
       " (array([12], dtype=int64),),\n",
       " (array([10], dtype=int64),),\n",
       " (array([4], dtype=int64),),\n",
       " (array([4], dtype=int64),),\n",
       " (array([6], dtype=int64),),\n",
       " (array([18], dtype=int64),),\n",
       " (array([5], dtype=int64),),\n",
       " (array([15], dtype=int64),),\n",
       " (array([2], dtype=int64),),\n",
       " (array([5], dtype=int64),),\n",
       " (array([3], dtype=int64),),\n",
       " (array([4], dtype=int64),),\n",
       " (array([14], dtype=int64),),\n",
       " (array([16], dtype=int64),),\n",
       " (array([12], dtype=int64),),\n",
       " (array([7], dtype=int64),),\n",
       " (array([10], dtype=int64),),\n",
       " (array([13], dtype=int64),),\n",
       " (array([7], dtype=int64),),\n",
       " (array([7], dtype=int64),),\n",
       " (array([15], dtype=int64),),\n",
       " (array([10], dtype=int64),),\n",
       " (array([2], dtype=int64),),\n",
       " (array([12], dtype=int64),),\n",
       " (array([13], dtype=int64),),\n",
       " (array([12], dtype=int64),),\n",
       " (array([10], dtype=int64),),\n",
       " (array([18], dtype=int64),),\n",
       " (array([13], dtype=int64),),\n",
       " (array([1], dtype=int64),),\n",
       " (array([12], dtype=int64),),\n",
       " (array([12], dtype=int64),),\n",
       " (array([13], dtype=int64),),\n",
       " (array([2], dtype=int64),),\n",
       " (array([12], dtype=int64),),\n",
       " (array([3], dtype=int64),),\n",
       " (array([14], dtype=int64),),\n",
       " (array([12], dtype=int64),),\n",
       " (array([18], dtype=int64),),\n",
       " (array([17], dtype=int64),),\n",
       " (array([15], dtype=int64),),\n",
       " (array([3], dtype=int64),),\n",
       " (array([2], dtype=int64),),\n",
       " (array([7], dtype=int64),),\n",
       " (array([7], dtype=int64),),\n",
       " (array([18], dtype=int64),),\n",
       " (array([5], dtype=int64),),\n",
       " (array([14], dtype=int64),),\n",
       " (array([5], dtype=int64),),\n",
       " (array([12], dtype=int64),),\n",
       " (array([10], dtype=int64),),\n",
       " (array([13], dtype=int64),),\n",
       " (array([16], dtype=int64),),\n",
       " (array([4], dtype=int64),),\n",
       " (array([9], dtype=int64),),\n",
       " (array([3], dtype=int64),),\n",
       " (array([17], dtype=int64),),\n",
       " (array([5], dtype=int64),),\n",
       " (array([6], dtype=int64),),\n",
       " (array([7], dtype=int64),),\n",
       " (array([14], dtype=int64),),\n",
       " (array([6], dtype=int64),),\n",
       " (array([17], dtype=int64),),\n",
       " (array([17], dtype=int64),),\n",
       " (array([2], dtype=int64),),\n",
       " (array([17], dtype=int64),),\n",
       " (array([1], dtype=int64),),\n",
       " (array([17], dtype=int64),),\n",
       " (array([7], dtype=int64),),\n",
       " (array([14], dtype=int64),),\n",
       " (array([13], dtype=int64),),\n",
       " (array([14], dtype=int64),),\n",
       " (array([13], dtype=int64),),\n",
       " (array([14], dtype=int64),),\n",
       " (array([15], dtype=int64),),\n",
       " (array([7], dtype=int64),),\n",
       " (array([2], dtype=int64),),\n",
       " (array([12], dtype=int64),),\n",
       " (array([10], dtype=int64),),\n",
       " (array([1], dtype=int64),),\n",
       " (array([13], dtype=int64),),\n",
       " (array([2], dtype=int64),),\n",
       " (array([14], dtype=int64),),\n",
       " (array([15], dtype=int64),),\n",
       " (array([12], dtype=int64),),\n",
       " (array([1], dtype=int64),),\n",
       " (array([3], dtype=int64),),\n",
       " (array([3], dtype=int64),),\n",
       " (array([15], dtype=int64),),\n",
       " (array([14], dtype=int64),),\n",
       " (array([10], dtype=int64),),\n",
       " (array([16], dtype=int64),),\n",
       " (array([17], dtype=int64),),\n",
       " (array([4], dtype=int64),),\n",
       " (array([12], dtype=int64),),\n",
       " (array([3], dtype=int64),),\n",
       " (array([13], dtype=int64),),\n",
       " (array([2], dtype=int64),),\n",
       " (array([15], dtype=int64),),\n",
       " (array([10], dtype=int64),),\n",
       " (array([1], dtype=int64),),\n",
       " (array([16], dtype=int64),),\n",
       " (array([13], dtype=int64),),\n",
       " (array([14], dtype=int64),),\n",
       " (array([13], dtype=int64),),\n",
       " (array([16], dtype=int64),),\n",
       " (array([10], dtype=int64),),\n",
       " (array([7], dtype=int64),),\n",
       " (array([7], dtype=int64),),\n",
       " (array([12], dtype=int64),),\n",
       " (array([4], dtype=int64),),\n",
       " (array([5], dtype=int64),),\n",
       " (array([17], dtype=int64),),\n",
       " (array([8], dtype=int64),),\n",
       " (array([16], dtype=int64),),\n",
       " (array([4], dtype=int64),),\n",
       " (array([10], dtype=int64),),\n",
       " (array([9], dtype=int64),),\n",
       " (array([4], dtype=int64),),\n",
       " (array([4], dtype=int64),),\n",
       " (array([4], dtype=int64),),\n",
       " (array([9], dtype=int64),),\n",
       " (array([11], dtype=int64),),\n",
       " (array([11], dtype=int64),),\n",
       " (array([11], dtype=int64),),\n",
       " (array([11], dtype=int64),),\n",
       " (array([11], dtype=int64),),\n",
       " (array([11], dtype=int64),),\n",
       " (array([11], dtype=int64),),\n",
       " (array([11], dtype=int64),),\n",
       " (array([11], dtype=int64),),\n",
       " (array([11], dtype=int64),),\n",
       " (array([11], dtype=int64),),\n",
       " (array([11], dtype=int64),),\n",
       " (array([11], dtype=int64),),\n",
       " (array([11], dtype=int64),),\n",
       " (array([11], dtype=int64),),\n",
       " (array([11], dtype=int64),),\n",
       " (array([11], dtype=int64),),\n",
       " (array([11], dtype=int64),),\n",
       " (array([11], dtype=int64),),\n",
       " (array([5], dtype=int64),),\n",
       " (array([5], dtype=int64),),\n",
       " (array([1], dtype=int64),),\n",
       " (array([1], dtype=int64),),\n",
       " (array([4], dtype=int64),),\n",
       " (array([4], dtype=int64),),\n",
       " (array([4], dtype=int64),),\n",
       " (array([2], dtype=int64),),\n",
       " (array([2], dtype=int64),),\n",
       " (array([1], dtype=int64),),\n",
       " (array([9], dtype=int64),),\n",
       " (array([4], dtype=int64),),\n",
       " (array([9], dtype=int64),),\n",
       " (array([9], dtype=int64),),\n",
       " (array([9], dtype=int64),),\n",
       " (array([9], dtype=int64),),\n",
       " (array([9], dtype=int64),),\n",
       " (array([9], dtype=int64),),\n",
       " (array([9], dtype=int64),),\n",
       " (array([9], dtype=int64),),\n",
       " (array([9], dtype=int64),),\n",
       " (array([4], dtype=int64),),\n",
       " (array([2], dtype=int64),),\n",
       " (array([4], dtype=int64),),\n",
       " (array([9], dtype=int64),),\n",
       " (array([9], dtype=int64),),\n",
       " (array([5], dtype=int64),),\n",
       " (array([5], dtype=int64),),\n",
       " (array([10], dtype=int64),),\n",
       " (array([2], dtype=int64),),\n",
       " (array([2], dtype=int64),),\n",
       " (array([10], dtype=int64),),\n",
       " (array([10], dtype=int64),),\n",
       " (array([10], dtype=int64),),\n",
       " (array([10], dtype=int64),),\n",
       " (array([9], dtype=int64),),\n",
       " (array([9], dtype=int64),),\n",
       " (array([7], dtype=int64),),\n",
       " (array([7], dtype=int64),),\n",
       " (array([10], dtype=int64),),\n",
       " (array([10], dtype=int64),),\n",
       " (array([7], dtype=int64),),\n",
       " (array([7], dtype=int64),),\n",
       " (array([1], dtype=int64),),\n",
       " (array([1], dtype=int64),),\n",
       " (array([9], dtype=int64),),\n",
       " (array([9], dtype=int64),),\n",
       " (array([10], dtype=int64),),\n",
       " (array([10], dtype=int64),),\n",
       " (array([7], dtype=int64),),\n",
       " (array([7], dtype=int64),),\n",
       " (array([3], dtype=int64),),\n",
       " (array([3], dtype=int64),),\n",
       " (array([12], dtype=int64),),\n",
       " (array([14], dtype=int64),),\n",
       " (array([9], dtype=int64),),\n",
       " (array([9], dtype=int64),),\n",
       " (array([11], dtype=int64),),\n",
       " (array([4], dtype=int64),),\n",
       " (array([9], dtype=int64),),\n",
       " (array([11], dtype=int64),),\n",
       " (array([9], dtype=int64),),\n",
       " (array([1], dtype=int64),),\n",
       " (array([13], dtype=int64),),\n",
       " (array([4], dtype=int64),),\n",
       " (array([14], dtype=int64),),\n",
       " (array([4], dtype=int64),),\n",
       " (array([16], dtype=int64),),\n",
       " (array([16], dtype=int64),),\n",
       " (array([17], dtype=int64),),\n",
       " (array([17], dtype=int64),),\n",
       " (array([1], dtype=int64),),\n",
       " (array([9], dtype=int64),),\n",
       " (array([7], dtype=int64),),\n",
       " (array([4], dtype=int64),),\n",
       " (array([8], dtype=int64),),\n",
       " (array([9], dtype=int64),),\n",
       " (array([9], dtype=int64),),\n",
       " (array([4], dtype=int64),),\n",
       " (array([9], dtype=int64),),\n",
       " (array([9], dtype=int64),),\n",
       " (array([9], dtype=int64),),\n",
       " (array([9], dtype=int64),),\n",
       " (array([12], dtype=int64),),\n",
       " (array([4], dtype=int64),),\n",
       " (array([17], dtype=int64),),\n",
       " (array([17], dtype=int64),),\n",
       " (array([4], dtype=int64),),\n",
       " (array([9], dtype=int64),),\n",
       " (array([9], dtype=int64),),\n",
       " (array([4], dtype=int64),),\n",
       " (array([4], dtype=int64),),\n",
       " (array([4], dtype=int64),),\n",
       " (array([4], dtype=int64),),\n",
       " (array([4], dtype=int64),),\n",
       " (array([9], dtype=int64),),\n",
       " (array([14], dtype=int64),),\n",
       " (array([4], dtype=int64),),\n",
       " (array([2], dtype=int64),),\n",
       " (array([2], dtype=int64),),\n",
       " (array([12], dtype=int64),),\n",
       " (array([8], dtype=int64),),\n",
       " (array([5], dtype=int64),),\n",
       " (array([19], dtype=int64),),\n",
       " (array([19], dtype=int64),),\n",
       " (array([12], dtype=int64),),\n",
       " (array([16], dtype=int64),),\n",
       " (array([4], dtype=int64),),\n",
       " (array([11], dtype=int64),),\n",
       " (array([11], dtype=int64),),\n",
       " (array([11], dtype=int64),),\n",
       " (array([14], dtype=int64),),\n",
       " (array([3], dtype=int64),),\n",
       " (array([4], dtype=int64),),\n",
       " (array([4], dtype=int64),),\n",
       " (array([12], dtype=int64),),\n",
       " (array([4], dtype=int64),),\n",
       " (array([4], dtype=int64),),\n",
       " (array([14], dtype=int64),),\n",
       " (array([5], dtype=int64),),\n",
       " (array([12], dtype=int64),),\n",
       " (array([5], dtype=int64),),\n",
       " (array([3], dtype=int64),),\n",
       " (array([9], dtype=int64),),\n",
       " (array([14], dtype=int64),),\n",
       " (array([6], dtype=int64),),\n",
       " (array([15], dtype=int64),),\n",
       " (array([12], dtype=int64),),\n",
       " (array([15], dtype=int64),),\n",
       " (array([14], dtype=int64),),\n",
       " (array([4], dtype=int64),),\n",
       " (array([4], dtype=int64),),\n",
       " (array([11], dtype=int64),),\n",
       " (array([11], dtype=int64),),\n",
       " (array([11], dtype=int64),),\n",
       " (array([11], dtype=int64),),\n",
       " (array([11], dtype=int64),),\n",
       " (array([11], dtype=int64),),\n",
       " (array([11], dtype=int64),),\n",
       " (array([11], dtype=int64),),\n",
       " (array([11], dtype=int64),),\n",
       " (array([11], dtype=int64),),\n",
       " (array([11], dtype=int64),),\n",
       " (array([11], dtype=int64),),\n",
       " (array([11], dtype=int64),),\n",
       " (array([11], dtype=int64),),\n",
       " (array([19], dtype=int64),),\n",
       " (array([19], dtype=int64),),\n",
       " (array([19], dtype=int64),),\n",
       " (array([19], dtype=int64),),\n",
       " (array([7], dtype=int64),),\n",
       " (array([19], dtype=int64),),\n",
       " (array([3], dtype=int64),),\n",
       " (array([19], dtype=int64),),\n",
       " (array([19], dtype=int64),),\n",
       " (array([19], dtype=int64),),\n",
       " (array([19], dtype=int64),),\n",
       " (array([19], dtype=int64),),\n",
       " (array([9], dtype=int64),),\n",
       " (array([9], dtype=int64),),\n",
       " (array([4], dtype=int64),),\n",
       " (array([9], dtype=int64),),\n",
       " (array([9], dtype=int64),),\n",
       " (array([8], dtype=int64),),\n",
       " (array([7], dtype=int64),)]"
      ]
     },
     "execution_count": 22,
     "metadata": {},
     "output_type": "execute_result"
    }
   ],
   "source": [
    "topics"
   ]
  },
  {
   "cell_type": "code",
   "execution_count": 23,
   "metadata": {},
   "outputs": [],
   "source": [
    "import gensim.corpora as corpora\n",
    "from gensim.models.coherencemodel import CoherenceModel\n",
    "from nltk.probability import FreqDist\n",
    "from nltk.tokenize import word_tokenize\n",
    "\n",
    "\n",
    "class TopicUtilities(object):\n",
    "\n",
    "    def __init__(self,coherence_mode=\"c_npmi\",n_topics=20):\n",
    "        self.coherence_mode = coherence_mode\n",
    "        self.n_topics = n_topics\n",
    "\n",
    "\n",
    "    def create_utility_objects(self,data):\n",
    "        self.tokenized_word_sentences = [word_tokenize(s) for s in data.values]\n",
    "        self.id2word = corpora.Dictionary(self.tokenized_word_sentences)\n",
    "\n",
    "    \n",
    "\n",
    "    def get_top_topic_tokens(self,topics):\n",
    "        topic_top_n = list()\n",
    "        for topic in range(self.n_topics):\n",
    "            topic_indexes = [i for i,t in enumerate(topics) for p in t if topic in p]\n",
    "            topic_sentences = [t for i,t in enumerate(self.tokenized_word_sentences) if i in topic_indexes]\n",
    "            all_topic_words = [word for sentence in topic_sentences for word in sentence]\n",
    "            frequency = FreqDist(all_topic_words)\n",
    "            top_n = frequency.most_common(10)\n",
    "            top_n_words = [t[0] for t in top_n]\n",
    "            topic_top_n.append(top_n_words)\n",
    "        \n",
    "        self.topic_top_n = topic_top_n\n",
    "        return topic_top_n\n",
    "    \n",
    "\n",
    "    def get_coherence(self,top_tokens):\n",
    "        cm = CoherenceModel(topics=top_tokens,texts = self.tokenized_word_sentences, dictionary=self.id2word, coherence=self.coherence_mode,processes=1,topn=10)\n",
    "        coherence = cm.get_coherence()\n",
    "        return coherence\n",
    "\n",
    "    \n",
    "\n",
    "    \n",
    "\n"
   ]
  },
  {
   "cell_type": "code",
   "execution_count": 24,
   "metadata": {},
   "outputs": [
    {
     "data": {
      "text/plain": [
       "28"
      ]
     },
     "execution_count": 24,
     "metadata": {},
     "output_type": "execute_result"
    }
   ],
   "source": [
    "gc.collect()"
   ]
  },
  {
   "cell_type": "code",
   "execution_count": 25,
   "metadata": {},
   "outputs": [],
   "source": [
    "utils = TopicUtilities()\n",
    "utils.create_utility_objects(prepared_text_en_science)\n",
    "top_tokens = utils.get_top_topic_tokens(topics)\n",
    "coherence = utils.get_coherence(top_tokens)"
   ]
  },
  {
   "cell_type": "code",
   "execution_count": 26,
   "metadata": {},
   "outputs": [
    {
     "data": {
      "text/plain": [
       "0.0593007704039384"
      ]
     },
     "execution_count": 26,
     "metadata": {},
     "output_type": "execute_result"
    }
   ],
   "source": [
    "coherence"
   ]
  },
  {
   "cell_type": "code",
   "execution_count": 27,
   "metadata": {},
   "outputs": [],
   "source": [
    "embedding_gen = TextEmbeddingGenerator(prepared_text_es_science,\"paraphrase-multilingual-MiniLM-L12-v2\")\n",
    "spa_embeddings = embedding_gen.calculate_embeddings()\n",
    "embedding_gen.unload_transformer()\n",
    "del embedding_gen"
   ]
  },
  {
   "cell_type": "code",
   "execution_count": 28,
   "metadata": {},
   "outputs": [
    {
     "data": {
      "text/plain": [
       "29"
      ]
     },
     "execution_count": 28,
     "metadata": {},
     "output_type": "execute_result"
    }
   ],
   "source": [
    "gc.collect(\n",
    ")"
   ]
  },
  {
   "cell_type": "code",
   "execution_count": 30,
   "metadata": {},
   "outputs": [],
   "source": [
    "spanish_topics = topic_model.get_topics(spa_embeddings,save=False)"
   ]
  },
  {
   "cell_type": "code",
   "execution_count": 31,
   "metadata": {},
   "outputs": [],
   "source": [
    "utils = TopicUtilities()\n",
    "utils.create_utility_objects(prepared_text_es_science)\n",
    "top_tokens = utils.get_top_topic_tokens(spanish_topics)\n",
    "coherence = utils.get_coherence(top_tokens)"
   ]
  },
  {
   "cell_type": "code",
   "execution_count": 32,
   "metadata": {},
   "outputs": [
    {
     "data": {
      "text/plain": [
       "0.05995132227614612"
      ]
     },
     "execution_count": 32,
     "metadata": {},
     "output_type": "execute_result"
    }
   ],
   "source": [
    "coherence"
   ]
  },
  {
   "cell_type": "code",
   "execution_count": null,
   "metadata": {},
   "outputs": [],
   "source": []
  }
 ],
 "metadata": {
  "kernelspec": {
   "display_name": "base",
   "language": "python",
   "name": "python3"
  },
  "language_info": {
   "codemirror_mode": {
    "name": "ipython",
    "version": 3
   },
   "file_extension": ".py",
   "mimetype": "text/x-python",
   "name": "python",
   "nbconvert_exporter": "python",
   "pygments_lexer": "ipython3",
   "version": "3.8.5"
  }
 },
 "nbformat": 4,
 "nbformat_minor": 2
}
