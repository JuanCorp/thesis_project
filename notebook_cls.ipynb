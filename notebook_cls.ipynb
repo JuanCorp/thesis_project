{
 "cells": [
  {
   "cell_type": "code",
   "execution_count": 1,
   "metadata": {},
   "outputs": [
    {
     "name": "stderr",
     "output_type": "stream",
     "text": [
      "c:\\Users\\juan9\\anaconda3\\lib\\site-packages\\numpy\\_distributor_init.py:30: UserWarning: loaded more than 1 DLL from .libs:\n",
      "c:\\Users\\juan9\\anaconda3\\lib\\site-packages\\numpy\\.libs\\libopenblas.XWYDX2IKJW2NMTWSFYNGFUWKQU3LYTCZ.gfortran-win_amd64.dll\n",
      "c:\\Users\\juan9\\anaconda3\\lib\\site-packages\\numpy\\.libs\\libopenblas64__v0.3.21-gcc_10_3_0.dll\n",
      "  warnings.warn(\"loaded more than 1 DLL from .libs:\"\n",
      "<frozen importlib._bootstrap>:219: RuntimeWarning: scipy._lib.messagestream.MessageStream size changed, may indicate binary incompatibility. Expected 56 from C header, got 64 from PyObject\n",
      "c:\\Users\\juan9\\anaconda3\\lib\\site-packages\\sentence_transformers\\cross_encoder\\CrossEncoder.py:13: TqdmExperimentalWarning: Using `tqdm.autonotebook.tqdm` in notebook mode. Use `tqdm.tqdm` instead to force console mode (e.g. in jupyter console)\n",
      "  from tqdm.autonotebook import tqdm, trange\n",
      "C:\\Users\\juan9\\AppData\\Roaming\\Python\\Python38\\site-packages\\pandas\\core\\computation\\expressions.py:20: UserWarning: Pandas requires version '2.7.3' or newer of 'numexpr' (version '2.7.1' currently installed).\n",
      "  from pandas.core.computation.check import NUMEXPR_INSTALLED\n"
     ]
    }
   ],
   "source": [
    "from modules.evaluation import Evaluation\n",
    "from modules.text_embeddings import TextEmbeddingGenerator\n",
    "from sklearn.metrics.pairwise import cosine_similarity"
   ]
  },
  {
   "cell_type": "code",
   "execution_count": 2,
   "metadata": {},
   "outputs": [],
   "source": [
    "ev = Evaluation()"
   ]
  },
  {
   "cell_type": "code",
   "execution_count": 3,
   "metadata": {},
   "outputs": [],
   "source": [
    "import json"
   ]
  },
  {
   "cell_type": "code",
   "execution_count": 4,
   "metadata": {},
   "outputs": [],
   "source": [
    "def open_json_file(filename):\n",
    "    with open(f\"data/{filename}.json\",\"r\") as jsf:\n",
    "        return json.load(jsf)"
   ]
  },
  {
   "cell_type": "code",
   "execution_count": 19,
   "metadata": {},
   "outputs": [],
   "source": [
    "ctm_en = open_json_file(\"results_Dirichlet_test_ES_Student\")\n",
    "ctm_es = open_json_file(\"results_Dirichlet_test_SR_Student_NewLoss\")\n",
    "ctm_de = open_json_file(\"results_Dirichlet_KK_Mono\")"
   ]
  },
  {
   "cell_type": "code",
   "execution_count": null,
   "metadata": {},
   "outputs": [
    {
     "name": "stderr",
     "output_type": "stream",
     "text": [
      "[nltk_data] Downloading package punkt to\n",
      "[nltk_data]     C:\\Users\\juan9\\AppData\\Roaming\\nltk_data...\n",
      "[nltk_data]   Package punkt is already up-to-date!\n"
     ]
    },
    {
     "data": {
      "application/vnd.jupyter.widget-view+json": {
       "model_id": "cb4cdccc1876463aa7f9e9fbc3ec09fa",
       "version_major": 2,
       "version_minor": 0
      },
      "text/plain": [
       "Batches:   0%|          | 0/1 [00:00<?, ?it/s]"
      ]
     },
     "metadata": {},
     "output_type": "display_data"
    },
    {
     "data": {
      "application/vnd.jupyter.widget-view+json": {
       "model_id": "3fa870ef439c4d4ea2a5b5a57e37416b",
       "version_major": 2,
       "version_minor": 0
      },
      "text/plain": [
       "Batches:   0%|          | 0/1 [00:00<?, ?it/s]"
      ]
     },
     "metadata": {},
     "output_type": "display_data"
    },
    {
     "data": {
      "application/vnd.jupyter.widget-view+json": {
       "model_id": "dca73ba0fb734071bf2e0952cf36ccd0",
       "version_major": 2,
       "version_minor": 0
      },
      "text/plain": [
       "Batches:   0%|          | 0/1 [00:00<?, ?it/s]"
      ]
     },
     "metadata": {},
     "output_type": "display_data"
    },
    {
     "data": {
      "application/vnd.jupyter.widget-view+json": {
       "model_id": "58f93e59d62c49efaf7bc7dc8334442d",
       "version_major": 2,
       "version_minor": 0
      },
      "text/plain": [
       "Batches:   0%|          | 0/1 [00:00<?, ?it/s]"
      ]
     },
     "metadata": {},
     "output_type": "display_data"
    },
    {
     "data": {
      "application/vnd.jupyter.widget-view+json": {
       "model_id": "31516d2129b8452990497902dae022b1",
       "version_major": 2,
       "version_minor": 0
      },
      "text/plain": [
       "Batches:   0%|          | 0/1 [00:00<?, ?it/s]"
      ]
     },
     "metadata": {},
     "output_type": "display_data"
    },
    {
     "data": {
      "application/vnd.jupyter.widget-view+json": {
       "model_id": "d7b0920385aa43c4ba1584b74170a475",
       "version_major": 2,
       "version_minor": 0
      },
      "text/plain": [
       "Batches:   0%|          | 0/1 [00:00<?, ?it/s]"
      ]
     },
     "metadata": {},
     "output_type": "display_data"
    },
    {
     "data": {
      "application/vnd.jupyter.widget-view+json": {
       "model_id": "aac84010f37e4a6fb7e8c54a0f4e2323",
       "version_major": 2,
       "version_minor": 0
      },
      "text/plain": [
       "Batches:   0%|          | 0/1 [00:00<?, ?it/s]"
      ]
     },
     "metadata": {},
     "output_type": "display_data"
    },
    {
     "data": {
      "application/vnd.jupyter.widget-view+json": {
       "model_id": "0c83d80c5da94a088a4c13230c492920",
       "version_major": 2,
       "version_minor": 0
      },
      "text/plain": [
       "Batches:   0%|          | 0/1 [00:00<?, ?it/s]"
      ]
     },
     "metadata": {},
     "output_type": "display_data"
    },
    {
     "data": {
      "application/vnd.jupyter.widget-view+json": {
       "model_id": "517f2e6879fa491caa91ae15a70ea000",
       "version_major": 2,
       "version_minor": 0
      },
      "text/plain": [
       "Batches:   0%|          | 0/1 [00:00<?, ?it/s]"
      ]
     },
     "metadata": {},
     "output_type": "display_data"
    },
    {
     "data": {
      "application/vnd.jupyter.widget-view+json": {
       "model_id": "8b3525c577e444308fc93990095f7b2f",
       "version_major": 2,
       "version_minor": 0
      },
      "text/plain": [
       "Batches:   0%|          | 0/1 [00:00<?, ?it/s]"
      ]
     },
     "metadata": {},
     "output_type": "display_data"
    },
    {
     "data": {
      "application/vnd.jupyter.widget-view+json": {
       "model_id": "83859d272bbc4764b15fd749f8e77e7c",
       "version_major": 2,
       "version_minor": 0
      },
      "text/plain": [
       "Batches:   0%|          | 0/1 [00:00<?, ?it/s]"
      ]
     },
     "metadata": {},
     "output_type": "display_data"
    },
    {
     "data": {
      "application/vnd.jupyter.widget-view+json": {
       "model_id": "b9b18e55bc8745ad9d6a32b80c530b45",
       "version_major": 2,
       "version_minor": 0
      },
      "text/plain": [
       "Batches:   0%|          | 0/1 [00:00<?, ?it/s]"
      ]
     },
     "metadata": {},
     "output_type": "display_data"
    },
    {
     "data": {
      "application/vnd.jupyter.widget-view+json": {
       "model_id": "1787d20b1cf643d391112acda4e2fcbc",
       "version_major": 2,
       "version_minor": 0
      },
      "text/plain": [
       "Batches:   0%|          | 0/1 [00:00<?, ?it/s]"
      ]
     },
     "metadata": {},
     "output_type": "display_data"
    },
    {
     "data": {
      "application/vnd.jupyter.widget-view+json": {
       "model_id": "05e06e2029c541caa7d487c27be87da8",
       "version_major": 2,
       "version_minor": 0
      },
      "text/plain": [
       "Batches:   0%|          | 0/1 [00:00<?, ?it/s]"
      ]
     },
     "metadata": {},
     "output_type": "display_data"
    },
    {
     "data": {
      "application/vnd.jupyter.widget-view+json": {
       "model_id": "f3cb9d4d7a4d46958a156d40ac8dc686",
       "version_major": 2,
       "version_minor": 0
      },
      "text/plain": [
       "Batches:   0%|          | 0/1 [00:00<?, ?it/s]"
      ]
     },
     "metadata": {},
     "output_type": "display_data"
    },
    {
     "data": {
      "application/vnd.jupyter.widget-view+json": {
       "model_id": "dbcefd3bebf145bab5762fdcbfd1a001",
       "version_major": 2,
       "version_minor": 0
      },
      "text/plain": [
       "Batches:   0%|          | 0/1 [00:00<?, ?it/s]"
      ]
     },
     "metadata": {},
     "output_type": "display_data"
    },
    {
     "data": {
      "application/vnd.jupyter.widget-view+json": {
       "model_id": "aaf56e4524bc4a00871ea6d3b4e6953a",
       "version_major": 2,
       "version_minor": 0
      },
      "text/plain": [
       "Batches:   0%|          | 0/1 [00:00<?, ?it/s]"
      ]
     },
     "metadata": {},
     "output_type": "display_data"
    },
    {
     "data": {
      "application/vnd.jupyter.widget-view+json": {
       "model_id": "a43ffc50d2794e9592499adfd750bce6",
       "version_major": 2,
       "version_minor": 0
      },
      "text/plain": [
       "Batches:   0%|          | 0/1 [00:00<?, ?it/s]"
      ]
     },
     "metadata": {},
     "output_type": "display_data"
    },
    {
     "data": {
      "application/vnd.jupyter.widget-view+json": {
       "model_id": "e7c6dbc6ca5f4e068db69ae0eece0a30",
       "version_major": 2,
       "version_minor": 0
      },
      "text/plain": [
       "Batches:   0%|          | 0/1 [00:00<?, ?it/s]"
      ]
     },
     "metadata": {},
     "output_type": "display_data"
    },
    {
     "data": {
      "application/vnd.jupyter.widget-view+json": {
       "model_id": "7e3afe678f464e129828ff8f1459cf53",
       "version_major": 2,
       "version_minor": 0
      },
      "text/plain": [
       "Batches:   0%|          | 0/1 [00:00<?, ?it/s]"
      ]
     },
     "metadata": {},
     "output_type": "display_data"
    },
    {
     "data": {
      "application/vnd.jupyter.widget-view+json": {
       "model_id": "4ac3f3393daf4523a670417dd7bce915",
       "version_major": 2,
       "version_minor": 0
      },
      "text/plain": [
       "Batches:   0%|          | 0/1 [00:00<?, ?it/s]"
      ]
     },
     "metadata": {},
     "output_type": "display_data"
    },
    {
     "data": {
      "application/vnd.jupyter.widget-view+json": {
       "model_id": "0e772ce3576b4566a677d872aedb4493",
       "version_major": 2,
       "version_minor": 0
      },
      "text/plain": [
       "Batches:   0%|          | 0/1 [00:00<?, ?it/s]"
      ]
     },
     "metadata": {},
     "output_type": "display_data"
    },
    {
     "data": {
      "application/vnd.jupyter.widget-view+json": {
       "model_id": "6162d1e41526405e969047ccbde81ca6",
       "version_major": 2,
       "version_minor": 0
      },
      "text/plain": [
       "Batches:   0%|          | 0/1 [00:00<?, ?it/s]"
      ]
     },
     "metadata": {},
     "output_type": "display_data"
    },
    {
     "data": {
      "application/vnd.jupyter.widget-view+json": {
       "model_id": "04b70c887aae421fac086049920a2470",
       "version_major": 2,
       "version_minor": 0
      },
      "text/plain": [
       "Batches:   0%|          | 0/1 [00:00<?, ?it/s]"
      ]
     },
     "metadata": {},
     "output_type": "display_data"
    },
    {
     "data": {
      "application/vnd.jupyter.widget-view+json": {
       "model_id": "5ffefe3e68d94388890c842fdce9cff2",
       "version_major": 2,
       "version_minor": 0
      },
      "text/plain": [
       "Batches:   0%|          | 0/1 [00:00<?, ?it/s]"
      ]
     },
     "metadata": {},
     "output_type": "display_data"
    },
    {
     "data": {
      "application/vnd.jupyter.widget-view+json": {
       "model_id": "106a793387d34e32a9abdf73950bab7d",
       "version_major": 2,
       "version_minor": 0
      },
      "text/plain": [
       "Batches:   0%|          | 0/1 [00:00<?, ?it/s]"
      ]
     },
     "metadata": {},
     "output_type": "display_data"
    },
    {
     "data": {
      "application/vnd.jupyter.widget-view+json": {
       "model_id": "bdfb985a1a7d4920a0cca7f8607105c6",
       "version_major": 2,
       "version_minor": 0
      },
      "text/plain": [
       "Batches:   0%|          | 0/1 [00:00<?, ?it/s]"
      ]
     },
     "metadata": {},
     "output_type": "display_data"
    },
    {
     "data": {
      "application/vnd.jupyter.widget-view+json": {
       "model_id": "6634d1665c034877af3bf1fc1dda138a",
       "version_major": 2,
       "version_minor": 0
      },
      "text/plain": [
       "Batches:   0%|          | 0/1 [00:00<?, ?it/s]"
      ]
     },
     "metadata": {},
     "output_type": "display_data"
    },
    {
     "data": {
      "application/vnd.jupyter.widget-view+json": {
       "model_id": "cb06825a74ac4c5d9b0382ad154cf916",
       "version_major": 2,
       "version_minor": 0
      },
      "text/plain": [
       "Batches:   0%|          | 0/1 [00:00<?, ?it/s]"
      ]
     },
     "metadata": {},
     "output_type": "display_data"
    },
    {
     "data": {
      "application/vnd.jupyter.widget-view+json": {
       "model_id": "4d9d383d3cfe47cda7913839601be6ff",
       "version_major": 2,
       "version_minor": 0
      },
      "text/plain": [
       "Batches:   0%|          | 0/1 [00:00<?, ?it/s]"
      ]
     },
     "metadata": {},
     "output_type": "display_data"
    },
    {
     "data": {
      "application/vnd.jupyter.widget-view+json": {
       "model_id": "207ee4fd821c401d8add69548546f5af",
       "version_major": 2,
       "version_minor": 0
      },
      "text/plain": [
       "Batches:   0%|          | 0/1 [00:00<?, ?it/s]"
      ]
     },
     "metadata": {},
     "output_type": "display_data"
    },
    {
     "data": {
      "application/vnd.jupyter.widget-view+json": {
       "model_id": "db879f5da42b47bab3c8aaffd5088d91",
       "version_major": 2,
       "version_minor": 0
      },
      "text/plain": [
       "Batches:   0%|          | 0/1 [00:00<?, ?it/s]"
      ]
     },
     "metadata": {},
     "output_type": "display_data"
    },
    {
     "data": {
      "application/vnd.jupyter.widget-view+json": {
       "model_id": "afbe0200097c46d69dda4d581a0ab30d",
       "version_major": 2,
       "version_minor": 0
      },
      "text/plain": [
       "Batches:   0%|          | 0/1 [00:00<?, ?it/s]"
      ]
     },
     "metadata": {},
     "output_type": "display_data"
    },
    {
     "data": {
      "application/vnd.jupyter.widget-view+json": {
       "model_id": "0670cb017aa9407ca4ae30a3785e4d7a",
       "version_major": 2,
       "version_minor": 0
      },
      "text/plain": [
       "Batches:   0%|          | 0/1 [00:00<?, ?it/s]"
      ]
     },
     "metadata": {},
     "output_type": "display_data"
    },
    {
     "data": {
      "application/vnd.jupyter.widget-view+json": {
       "model_id": "7372081c07a04534991281f81e478887",
       "version_major": 2,
       "version_minor": 0
      },
      "text/plain": [
       "Batches:   0%|          | 0/1 [00:00<?, ?it/s]"
      ]
     },
     "metadata": {},
     "output_type": "display_data"
    },
    {
     "data": {
      "application/vnd.jupyter.widget-view+json": {
       "model_id": "f8d79f2ee13f49d68571b398593c65f8",
       "version_major": 2,
       "version_minor": 0
      },
      "text/plain": [
       "Batches:   0%|          | 0/1 [00:00<?, ?it/s]"
      ]
     },
     "metadata": {},
     "output_type": "display_data"
    },
    {
     "data": {
      "application/vnd.jupyter.widget-view+json": {
       "model_id": "e4a9c97126654424a98e728067cb524e",
       "version_major": 2,
       "version_minor": 0
      },
      "text/plain": [
       "Batches:   0%|          | 0/1 [00:00<?, ?it/s]"
      ]
     },
     "metadata": {},
     "output_type": "display_data"
    },
    {
     "data": {
      "application/vnd.jupyter.widget-view+json": {
       "model_id": "2edb873ee6bc4c21b444627c5b876907",
       "version_major": 2,
       "version_minor": 0
      },
      "text/plain": [
       "Batches:   0%|          | 0/1 [00:00<?, ?it/s]"
      ]
     },
     "metadata": {},
     "output_type": "display_data"
    },
    {
     "data": {
      "application/vnd.jupyter.widget-view+json": {
       "model_id": "735a9dbd0545454ebdbe63ac8f6dad61",
       "version_major": 2,
       "version_minor": 0
      },
      "text/plain": [
       "Batches:   0%|          | 0/1 [00:00<?, ?it/s]"
      ]
     },
     "metadata": {},
     "output_type": "display_data"
    },
    {
     "data": {
      "application/vnd.jupyter.widget-view+json": {
       "model_id": "e99a9c4614794e208722c1f8a42fece3",
       "version_major": 2,
       "version_minor": 0
      },
      "text/plain": [
       "Batches:   0%|          | 0/1 [00:00<?, ?it/s]"
      ]
     },
     "metadata": {},
     "output_type": "display_data"
    },
    {
     "data": {
      "text/plain": [
       "0.4089080587029457"
      ]
     },
     "execution_count": 20,
     "metadata": {},
     "output_type": "execute_result"
    },
    {
     "ename": "",
     "evalue": "",
     "output_type": "error",
     "traceback": [
      "\u001b[1;31mThe Kernel crashed while executing code in the current cell or a previous cell. \n",
      "\u001b[1;31mPlease review the code in the cell(s) to identify a possible cause of the failure. \n",
      "\u001b[1;31mClick <a href='https://aka.ms/vscodeJupyterKernelCrash'>here</a> for more info. \n",
      "\u001b[1;31mView Jupyter <a href='command:jupyter.viewOutput'>log</a> for further details."
     ]
    }
   ],
   "source": [
    "ev.get_similarity_top_tokens(ctm_es[\"top_tokens\"],ctm_en[\"teacher_top_tokens\"])"
   ]
  },
  {
   "cell_type": "code",
   "execution_count": 16,
   "metadata": {},
   "outputs": [
    {
     "name": "stderr",
     "output_type": "stream",
     "text": [
      "[nltk_data] Downloading package punkt to\n",
      "[nltk_data]     C:\\Users\\juan9\\AppData\\Roaming\\nltk_data...\n",
      "[nltk_data]   Package punkt is already up-to-date!\n"
     ]
    }
   ],
   "source": [
    "teg = TextEmbeddingGenerator()"
   ]
  },
  {
   "cell_type": "code",
   "execution_count": 44,
   "metadata": {},
   "outputs": [
    {
     "data": {
      "application/vnd.jupyter.widget-view+json": {
       "model_id": "4d03ac48adcd402faf4b47053eb04376",
       "version_major": 2,
       "version_minor": 0
      },
      "text/plain": [
       "Batches:   0%|          | 0/1 [00:00<?, ?it/s]"
      ]
     },
     "metadata": {},
     "output_type": "display_data"
    },
    {
     "data": {
      "application/vnd.jupyter.widget-view+json": {
       "model_id": "69110e688c5b4c5099640db0b8c49a20",
       "version_major": 2,
       "version_minor": 0
      },
      "text/plain": [
       "Batches:   0%|          | 0/1 [00:00<?, ?it/s]"
      ]
     },
     "metadata": {},
     "output_type": "display_data"
    },
    {
     "data": {
      "application/vnd.jupyter.widget-view+json": {
       "model_id": "2818e02787fc4daa80e31d9a3a84b85b",
       "version_major": 2,
       "version_minor": 0
      },
      "text/plain": [
       "Batches:   0%|          | 0/1 [00:00<?, ?it/s]"
      ]
     },
     "metadata": {},
     "output_type": "display_data"
    },
    {
     "data": {
      "application/vnd.jupyter.widget-view+json": {
       "model_id": "1625200447094b43bd4f0e4f53010205",
       "version_major": 2,
       "version_minor": 0
      },
      "text/plain": [
       "Batches:   0%|          | 0/1 [00:00<?, ?it/s]"
      ]
     },
     "metadata": {},
     "output_type": "display_data"
    },
    {
     "data": {
      "application/vnd.jupyter.widget-view+json": {
       "model_id": "ce861d05b0b649599819b58c7bd54890",
       "version_major": 2,
       "version_minor": 0
      },
      "text/plain": [
       "Batches:   0%|          | 0/1 [00:00<?, ?it/s]"
      ]
     },
     "metadata": {},
     "output_type": "display_data"
    },
    {
     "data": {
      "application/vnd.jupyter.widget-view+json": {
       "model_id": "a353570d988e4a09a39754c4d7b75c47",
       "version_major": 2,
       "version_minor": 0
      },
      "text/plain": [
       "Batches:   0%|          | 0/1 [00:00<?, ?it/s]"
      ]
     },
     "metadata": {},
     "output_type": "display_data"
    },
    {
     "data": {
      "application/vnd.jupyter.widget-view+json": {
       "model_id": "099b46a7ea5e4106a61bbd8c8e587b95",
       "version_major": 2,
       "version_minor": 0
      },
      "text/plain": [
       "Batches:   0%|          | 0/1 [00:00<?, ?it/s]"
      ]
     },
     "metadata": {},
     "output_type": "display_data"
    },
    {
     "data": {
      "application/vnd.jupyter.widget-view+json": {
       "model_id": "87cc1e4740604f9889de4c7299ac001b",
       "version_major": 2,
       "version_minor": 0
      },
      "text/plain": [
       "Batches:   0%|          | 0/1 [00:00<?, ?it/s]"
      ]
     },
     "metadata": {},
     "output_type": "display_data"
    },
    {
     "data": {
      "application/vnd.jupyter.widget-view+json": {
       "model_id": "718a41c8398849a2b3d74bf93b4fd709",
       "version_major": 2,
       "version_minor": 0
      },
      "text/plain": [
       "Batches:   0%|          | 0/1 [00:00<?, ?it/s]"
      ]
     },
     "metadata": {},
     "output_type": "display_data"
    },
    {
     "data": {
      "application/vnd.jupyter.widget-view+json": {
       "model_id": "67d95064005246b5969760292c7a675a",
       "version_major": 2,
       "version_minor": 0
      },
      "text/plain": [
       "Batches:   0%|          | 0/1 [00:00<?, ?it/s]"
      ]
     },
     "metadata": {},
     "output_type": "display_data"
    },
    {
     "data": {
      "application/vnd.jupyter.widget-view+json": {
       "model_id": "5cafabfb0b14416fa1c5ac50381a3200",
       "version_major": 2,
       "version_minor": 0
      },
      "text/plain": [
       "Batches:   0%|          | 0/1 [00:00<?, ?it/s]"
      ]
     },
     "metadata": {},
     "output_type": "display_data"
    },
    {
     "data": {
      "application/vnd.jupyter.widget-view+json": {
       "model_id": "e7151a39752a423f8a2cab9aa6dc2cdd",
       "version_major": 2,
       "version_minor": 0
      },
      "text/plain": [
       "Batches:   0%|          | 0/1 [00:00<?, ?it/s]"
      ]
     },
     "metadata": {},
     "output_type": "display_data"
    },
    {
     "data": {
      "application/vnd.jupyter.widget-view+json": {
       "model_id": "57f493d1f04b49b7b719ad1dcd7483b5",
       "version_major": 2,
       "version_minor": 0
      },
      "text/plain": [
       "Batches:   0%|          | 0/1 [00:00<?, ?it/s]"
      ]
     },
     "metadata": {},
     "output_type": "display_data"
    },
    {
     "data": {
      "application/vnd.jupyter.widget-view+json": {
       "model_id": "5cf0d5caf5664688b382bab72b6b1636",
       "version_major": 2,
       "version_minor": 0
      },
      "text/plain": [
       "Batches:   0%|          | 0/1 [00:00<?, ?it/s]"
      ]
     },
     "metadata": {},
     "output_type": "display_data"
    },
    {
     "data": {
      "application/vnd.jupyter.widget-view+json": {
       "model_id": "05871f3acff7441195ac646e9c1304b4",
       "version_major": 2,
       "version_minor": 0
      },
      "text/plain": [
       "Batches:   0%|          | 0/1 [00:00<?, ?it/s]"
      ]
     },
     "metadata": {},
     "output_type": "display_data"
    },
    {
     "data": {
      "application/vnd.jupyter.widget-view+json": {
       "model_id": "f9b087307341471884e8ff5c64171987",
       "version_major": 2,
       "version_minor": 0
      },
      "text/plain": [
       "Batches:   0%|          | 0/1 [00:00<?, ?it/s]"
      ]
     },
     "metadata": {},
     "output_type": "display_data"
    },
    {
     "data": {
      "application/vnd.jupyter.widget-view+json": {
       "model_id": "84001122494e4160acabad6954dceba3",
       "version_major": 2,
       "version_minor": 0
      },
      "text/plain": [
       "Batches:   0%|          | 0/1 [00:00<?, ?it/s]"
      ]
     },
     "metadata": {},
     "output_type": "display_data"
    },
    {
     "data": {
      "application/vnd.jupyter.widget-view+json": {
       "model_id": "9499e2302c8e40e08f4add63bb94d45a",
       "version_major": 2,
       "version_minor": 0
      },
      "text/plain": [
       "Batches:   0%|          | 0/1 [00:00<?, ?it/s]"
      ]
     },
     "metadata": {},
     "output_type": "display_data"
    },
    {
     "data": {
      "application/vnd.jupyter.widget-view+json": {
       "model_id": "31d4430361684f7ea5ad50e4033f9317",
       "version_major": 2,
       "version_minor": 0
      },
      "text/plain": [
       "Batches:   0%|          | 0/1 [00:00<?, ?it/s]"
      ]
     },
     "metadata": {},
     "output_type": "display_data"
    },
    {
     "data": {
      "application/vnd.jupyter.widget-view+json": {
       "model_id": "0ccb4b42622f4e2b9e91768e11c0df21",
       "version_major": 2,
       "version_minor": 0
      },
      "text/plain": [
       "Batches:   0%|          | 0/1 [00:00<?, ?it/s]"
      ]
     },
     "metadata": {},
     "output_type": "display_data"
    },
    {
     "data": {
      "text/plain": [
       "20"
      ]
     },
     "execution_count": 44,
     "metadata": {},
     "output_type": "execute_result"
    }
   ],
   "source": [
    "ctm_en_tt = [teg.bert_embeddings_from_list(topic) for topic in  ctm_en[\"teacher_top_tokens\"]]\n",
    "len(ctm_en_tt)"
   ]
  },
  {
   "cell_type": "code",
   "execution_count": 45,
   "metadata": {},
   "outputs": [
    {
     "data": {
      "application/vnd.jupyter.widget-view+json": {
       "model_id": "c0f65b4aedae4ce2998d50057db44f73",
       "version_major": 2,
       "version_minor": 0
      },
      "text/plain": [
       "Batches:   0%|          | 0/1 [00:00<?, ?it/s]"
      ]
     },
     "metadata": {},
     "output_type": "display_data"
    },
    {
     "data": {
      "application/vnd.jupyter.widget-view+json": {
       "model_id": "727a413545bd421686a958f911516217",
       "version_major": 2,
       "version_minor": 0
      },
      "text/plain": [
       "Batches:   0%|          | 0/1 [00:00<?, ?it/s]"
      ]
     },
     "metadata": {},
     "output_type": "display_data"
    },
    {
     "data": {
      "application/vnd.jupyter.widget-view+json": {
       "model_id": "291c7fc617a547f08494af4b181f5ec5",
       "version_major": 2,
       "version_minor": 0
      },
      "text/plain": [
       "Batches:   0%|          | 0/1 [00:00<?, ?it/s]"
      ]
     },
     "metadata": {},
     "output_type": "display_data"
    },
    {
     "data": {
      "application/vnd.jupyter.widget-view+json": {
       "model_id": "12fb36aebd9744cfa922256b834d1599",
       "version_major": 2,
       "version_minor": 0
      },
      "text/plain": [
       "Batches:   0%|          | 0/1 [00:00<?, ?it/s]"
      ]
     },
     "metadata": {},
     "output_type": "display_data"
    },
    {
     "data": {
      "application/vnd.jupyter.widget-view+json": {
       "model_id": "a2ac8857d73242cdb8133ed96f77888e",
       "version_major": 2,
       "version_minor": 0
      },
      "text/plain": [
       "Batches:   0%|          | 0/1 [00:00<?, ?it/s]"
      ]
     },
     "metadata": {},
     "output_type": "display_data"
    },
    {
     "data": {
      "application/vnd.jupyter.widget-view+json": {
       "model_id": "378ebe4f07fc45689bb0989b6fbd4c57",
       "version_major": 2,
       "version_minor": 0
      },
      "text/plain": [
       "Batches:   0%|          | 0/1 [00:00<?, ?it/s]"
      ]
     },
     "metadata": {},
     "output_type": "display_data"
    },
    {
     "data": {
      "application/vnd.jupyter.widget-view+json": {
       "model_id": "177d608f16b74a7abb56249865d5bb47",
       "version_major": 2,
       "version_minor": 0
      },
      "text/plain": [
       "Batches:   0%|          | 0/1 [00:00<?, ?it/s]"
      ]
     },
     "metadata": {},
     "output_type": "display_data"
    },
    {
     "data": {
      "application/vnd.jupyter.widget-view+json": {
       "model_id": "62b253558dc64d809e8c89ad5c25f34e",
       "version_major": 2,
       "version_minor": 0
      },
      "text/plain": [
       "Batches:   0%|          | 0/1 [00:00<?, ?it/s]"
      ]
     },
     "metadata": {},
     "output_type": "display_data"
    },
    {
     "data": {
      "application/vnd.jupyter.widget-view+json": {
       "model_id": "553bbbaaf31d4f1baf1be44c4f1f44a2",
       "version_major": 2,
       "version_minor": 0
      },
      "text/plain": [
       "Batches:   0%|          | 0/1 [00:00<?, ?it/s]"
      ]
     },
     "metadata": {},
     "output_type": "display_data"
    },
    {
     "data": {
      "application/vnd.jupyter.widget-view+json": {
       "model_id": "8f52ce5487934b9d938b574ef2d43c03",
       "version_major": 2,
       "version_minor": 0
      },
      "text/plain": [
       "Batches:   0%|          | 0/1 [00:00<?, ?it/s]"
      ]
     },
     "metadata": {},
     "output_type": "display_data"
    },
    {
     "data": {
      "application/vnd.jupyter.widget-view+json": {
       "model_id": "276c82024c224f7cb236b4ed1150019b",
       "version_major": 2,
       "version_minor": 0
      },
      "text/plain": [
       "Batches:   0%|          | 0/1 [00:00<?, ?it/s]"
      ]
     },
     "metadata": {},
     "output_type": "display_data"
    },
    {
     "data": {
      "application/vnd.jupyter.widget-view+json": {
       "model_id": "a859f1878df84fd7b1b2bfc12ab05fd3",
       "version_major": 2,
       "version_minor": 0
      },
      "text/plain": [
       "Batches:   0%|          | 0/1 [00:00<?, ?it/s]"
      ]
     },
     "metadata": {},
     "output_type": "display_data"
    },
    {
     "data": {
      "application/vnd.jupyter.widget-view+json": {
       "model_id": "1713ccea2a794739a127e72446addf8d",
       "version_major": 2,
       "version_minor": 0
      },
      "text/plain": [
       "Batches:   0%|          | 0/1 [00:00<?, ?it/s]"
      ]
     },
     "metadata": {},
     "output_type": "display_data"
    },
    {
     "data": {
      "application/vnd.jupyter.widget-view+json": {
       "model_id": "757b27671243417eae5c35576fd3fa14",
       "version_major": 2,
       "version_minor": 0
      },
      "text/plain": [
       "Batches:   0%|          | 0/1 [00:00<?, ?it/s]"
      ]
     },
     "metadata": {},
     "output_type": "display_data"
    },
    {
     "data": {
      "application/vnd.jupyter.widget-view+json": {
       "model_id": "582a6f57e6ac4f73b4676656e7366d82",
       "version_major": 2,
       "version_minor": 0
      },
      "text/plain": [
       "Batches:   0%|          | 0/1 [00:00<?, ?it/s]"
      ]
     },
     "metadata": {},
     "output_type": "display_data"
    },
    {
     "data": {
      "application/vnd.jupyter.widget-view+json": {
       "model_id": "1089566e61404974b7fa44b35311ce6e",
       "version_major": 2,
       "version_minor": 0
      },
      "text/plain": [
       "Batches:   0%|          | 0/1 [00:00<?, ?it/s]"
      ]
     },
     "metadata": {},
     "output_type": "display_data"
    },
    {
     "data": {
      "application/vnd.jupyter.widget-view+json": {
       "model_id": "8d7577cacdf34f7397421ad3e511cc1d",
       "version_major": 2,
       "version_minor": 0
      },
      "text/plain": [
       "Batches:   0%|          | 0/1 [00:00<?, ?it/s]"
      ]
     },
     "metadata": {},
     "output_type": "display_data"
    },
    {
     "data": {
      "application/vnd.jupyter.widget-view+json": {
       "model_id": "faef5734af254e8bb7560e09e09c363f",
       "version_major": 2,
       "version_minor": 0
      },
      "text/plain": [
       "Batches:   0%|          | 0/1 [00:00<?, ?it/s]"
      ]
     },
     "metadata": {},
     "output_type": "display_data"
    },
    {
     "data": {
      "application/vnd.jupyter.widget-view+json": {
       "model_id": "87837b7b3d474e66ac31c1d002ca8e27",
       "version_major": 2,
       "version_minor": 0
      },
      "text/plain": [
       "Batches:   0%|          | 0/1 [00:00<?, ?it/s]"
      ]
     },
     "metadata": {},
     "output_type": "display_data"
    },
    {
     "data": {
      "application/vnd.jupyter.widget-view+json": {
       "model_id": "82072a740dfe4659a63f42fe7d66cfef",
       "version_major": 2,
       "version_minor": 0
      },
      "text/plain": [
       "Batches:   0%|          | 0/1 [00:00<?, ?it/s]"
      ]
     },
     "metadata": {},
     "output_type": "display_data"
    },
    {
     "data": {
      "text/plain": [
       "[array([[ 0.13549182,  0.12758932, -0.2142348 , ..., -0.1704205 ,\n",
       "         -0.09524538, -0.0861546 ],\n",
       "        [ 0.16900814,  0.12393704, -0.05425332, ..., -0.21781999,\n",
       "         -0.03428997,  0.01421094],\n",
       "        [ 0.31171086,  0.04741247, -0.26046583, ..., -0.14288305,\n",
       "          0.09362147, -0.02650448],\n",
       "        ...,\n",
       "        [ 0.07629714,  0.2900434 , -0.18353984, ..., -0.4166021 ,\n",
       "         -0.31298527,  0.04039124],\n",
       "        [-0.06390903,  0.16013569, -0.5044366 , ..., -0.24616487,\n",
       "         -0.25088575,  0.16638392],\n",
       "        [ 0.16493517, -0.08656672,  0.14125481, ..., -0.09660402,\n",
       "          0.04072867,  0.07380576]], dtype=float32),\n",
       " array([[ 0.21341224,  0.21823029, -0.25865507, ..., -0.03189528,\n",
       "         -0.26956144,  0.19088669],\n",
       "        [-0.26556346,  0.07776892, -0.10795069, ..., -0.05758433,\n",
       "         -0.13131422,  0.20698743],\n",
       "        [-0.16134895,  0.04472141, -0.2856556 , ..., -0.23809294,\n",
       "          0.14414752,  0.08370686],\n",
       "        ...,\n",
       "        [ 0.07303517,  0.30352366, -0.3800372 , ...,  0.01589543,\n",
       "         -0.33167794,  0.03609167],\n",
       "        [ 0.5379695 ,  0.39853314, -0.23436767, ...,  0.24795032,\n",
       "          0.09269964, -0.01810617],\n",
       "        [-0.01308349,  0.23621356,  0.01648172, ..., -0.09575634,\n",
       "         -0.15929781,  0.09205397]], dtype=float32),\n",
       " array([[-6.0399622e-04,  1.1850879e-01, -8.8477127e-02, ...,\n",
       "          1.3884696e-01, -1.5651590e-01,  4.1464892e-01],\n",
       "        [ 1.2576461e-01,  1.2943923e-01, -7.2398506e-02, ...,\n",
       "         -2.4723227e-01, -1.6977639e-01,  1.1906759e-01],\n",
       "        [ 9.3403161e-02,  2.6752105e-02, -4.7762287e-04, ...,\n",
       "         -5.7319254e-02,  5.4886043e-02,  5.7953600e-02],\n",
       "        ...,\n",
       "        [ 1.0633379e-01,  1.0028265e-01, -1.3233346e-01, ...,\n",
       "         -4.3234948e-02, -3.0467728e-01,  1.0172352e-01],\n",
       "        [ 2.1373977e-04,  4.1752934e-02,  1.7612776e-03, ...,\n",
       "         -5.4475624e-02,  1.2926586e-02,  1.6732810e-01],\n",
       "        [-8.9688104e-04,  2.2419840e-01,  4.0510900e-02, ...,\n",
       "         -1.5796570e-01,  2.4283269e-02, -9.7013162e-03]], dtype=float32),\n",
       " array([[-0.03222896,  0.7044636 ,  0.07180749, ..., -0.285574  ,\n",
       "         -0.7314228 ,  0.0522283 ],\n",
       "        [ 0.21379086, -0.01395674,  0.28297257, ..., -0.23805653,\n",
       "         -0.11158234,  0.16801153],\n",
       "        [ 0.06910791,  0.09694505, -0.08429863, ..., -0.0549329 ,\n",
       "         -0.06919664,  0.14921515],\n",
       "        ...,\n",
       "        [ 0.14396071,  0.38885313, -0.05993495, ..., -0.26519942,\n",
       "         -0.2948336 ,  0.19810304],\n",
       "        [ 0.04858572,  0.08009749, -0.02537438, ...,  0.10097206,\n",
       "         -0.20169097,  0.15195806],\n",
       "        [-0.17044659,  0.21985021,  0.15380338, ..., -0.15220527,\n",
       "         -0.41160977,  0.1748978 ]], dtype=float32),\n",
       " array([[-0.22828078, -0.10504041, -0.0178246 , ...,  0.21367696,\n",
       "         -0.15956461,  0.11515224],\n",
       "        [ 0.37736145,  0.04787114,  0.12125333, ..., -0.23228002,\n",
       "         -0.20493807,  0.40094617],\n",
       "        [ 0.19773541,  0.20902765, -0.11925554, ...,  0.02898096,\n",
       "         -0.47189042,  0.04748483],\n",
       "        ...,\n",
       "        [-0.00547692,  0.1914652 , -0.30156413, ..., -0.2670821 ,\n",
       "          0.03486848,  0.15212487],\n",
       "        [-0.02503686,  0.13491245, -0.11904544, ..., -0.15661734,\n",
       "         -0.1073333 , -0.07196626],\n",
       "        [ 0.48633102, -0.3172194 , -0.23818088, ..., -0.20574875,\n",
       "         -0.50965255,  0.5236171 ]], dtype=float32),\n",
       " array([[-2.2828078e-01, -1.0504041e-01, -1.7824596e-02, ...,\n",
       "          2.1367696e-01, -1.5956461e-01,  1.1515224e-01],\n",
       "        [ 1.9773541e-01,  2.0902765e-01, -1.1925554e-01, ...,\n",
       "          2.8980955e-02, -4.7189042e-01,  4.7484826e-02],\n",
       "        [ 2.4698700e-01, -3.8669690e-01,  3.3585079e-02, ...,\n",
       "         -1.7912976e-01,  1.3816310e-01, -9.2122793e-02],\n",
       "        ...,\n",
       "        [-1.0460017e-01,  3.9869890e-01, -3.3517233e-01, ...,\n",
       "          4.3903630e-02,  7.7581406e-02,  1.4144103e-01],\n",
       "        [-1.9072750e-01,  3.2787347e-01, -4.7637510e-01, ...,\n",
       "         -1.1873135e-01,  2.5007620e-01,  2.3349995e-02],\n",
       "        [ 2.4389476e-05,  1.5013415e-01,  8.9576449e-03, ...,\n",
       "         -8.4696375e-02, -7.2462194e-02,  9.1624092e-03]], dtype=float32),\n",
       " array([[ 0.04779464,  0.509307  , -0.20680486, ..., -0.1890204 ,\n",
       "         -0.12043443,  0.2939075 ],\n",
       "        [ 0.10722639,  0.40483952, -0.18425679, ..., -0.15058626,\n",
       "         -0.14134763,  0.29579225],\n",
       "        [ 0.06465621,  0.2807304 , -0.1721701 , ..., -0.15935707,\n",
       "         -0.0937051 ,  0.29549924],\n",
       "        ...,\n",
       "        [ 0.024755  ,  0.44637668, -0.46371678, ..., -0.420781  ,\n",
       "          0.05477004,  0.3114315 ],\n",
       "        [ 0.22451413,  0.39186054,  0.0356789 , ..., -0.12448406,\n",
       "          0.00257039,  0.41409013],\n",
       "        [ 0.23693258,  0.10175412, -0.1761181 , ..., -0.10464148,\n",
       "          0.07510823,  0.02619531]], dtype=float32),\n",
       " array([[ 4.8414990e-04,  5.9464759e-01, -2.5696003e-01, ...,\n",
       "         -6.9700468e-01, -5.1666897e-02,  1.3479772e-01],\n",
       "        [ 2.1193957e-01,  3.1623867e-01,  6.4020395e-02, ...,\n",
       "         -2.0190644e-01, -2.7733415e-01,  1.2926765e-01],\n",
       "        [ 3.9124438e-01,  9.8133981e-01, -6.0868180e-01, ...,\n",
       "         -1.6024111e-01, -1.2698825e-01,  2.5523135e-01],\n",
       "        ...,\n",
       "        [ 9.1923233e-03,  4.7044426e-01, -1.2838885e-01, ...,\n",
       "         -9.4882756e-02, -3.8279253e-01, -3.1148660e-01],\n",
       "        [ 1.6805172e-01,  3.8978335e-01, -2.4640581e-01, ...,\n",
       "         -1.6692692e-01, -1.9653653e-01, -3.7344781e-01],\n",
       "        [ 8.4368847e-02,  6.1076511e-02,  3.0544138e-02, ...,\n",
       "         -5.8405373e-02,  6.1812159e-02,  8.0814496e-02]], dtype=float32),\n",
       " array([[ 0.2606339 ,  0.186292  , -0.29002815, ..., -0.4873372 ,\n",
       "         -0.36725187, -0.0748243 ],\n",
       "        [ 0.14282638,  0.36612   , -0.49451748, ..., -0.15014891,\n",
       "         -0.14748378, -0.00082965],\n",
       "        [ 0.13279895, -0.00346477,  0.04794109, ..., -0.0419686 ,\n",
       "          0.04747936, -0.03200915],\n",
       "        ...,\n",
       "        [ 0.5404615 , -0.32278883,  0.08761984, ..., -0.16507296,\n",
       "          0.0773721 ,  0.12845099],\n",
       "        [-0.05207709, -0.04175934, -0.23977107, ..., -0.38770828,\n",
       "         -0.25805065,  0.20790005],\n",
       "        [ 0.29837358, -0.07586496, -0.07454275, ...,  0.13751985,\n",
       "         -0.00698306,  0.08150121]], dtype=float32),\n",
       " array([[ 0.1542248 ,  0.10929514, -0.20095223, ..., -0.00421126,\n",
       "         -0.19797312, -0.06785974],\n",
       "        [ 0.32678622,  0.00813413, -0.10743888, ..., -0.13003765,\n",
       "         -0.13020259, -0.04121311],\n",
       "        [ 0.05153823,  0.23078194,  0.09490747, ..., -0.17462134,\n",
       "         -0.09723137,  0.25805974],\n",
       "        ...,\n",
       "        [ 0.04289565,  0.0517094 , -0.19251576, ..., -0.27624205,\n",
       "          0.08648399, -0.18088041],\n",
       "        [-0.01180303, -0.00854204, -0.04231606, ..., -0.04556148,\n",
       "         -0.02152969,  0.30736643],\n",
       "        [ 0.06798836,  0.08080639,  0.03218009, ...,  0.0412628 ,\n",
       "          0.06437337,  0.09135013]], dtype=float32),\n",
       " array([[ 0.03499963,  0.14026044, -0.205701  , ..., -0.00079633,\n",
       "          0.05951899,  0.17388833],\n",
       "        [-0.08222156, -0.012208  , -0.08879935, ...,  0.18532868,\n",
       "         -0.00905797,  0.0277902 ],\n",
       "        [ 0.41278708,  0.09708297, -0.10904191, ...,  0.02571056,\n",
       "         -0.04307448,  0.14371987],\n",
       "        ...,\n",
       "        [ 0.20270817, -0.1150329 , -0.1266153 , ..., -0.2347952 ,\n",
       "         -0.15733044,  0.01208775],\n",
       "        [ 0.0743915 ,  0.11550198, -0.0891729 , ..., -0.05831761,\n",
       "         -0.24008901,  0.20979628],\n",
       "        [ 0.06477798, -0.14252691, -0.06679046, ..., -0.02261998,\n",
       "          0.11383233,  0.00267407]], dtype=float32),\n",
       " array([[ 0.15585722,  0.14046298, -0.02495428, ...,  0.15779851,\n",
       "         -0.01809609,  0.14424689],\n",
       "        [ 0.0506252 ,  0.09925507, -0.03728635, ...,  0.03801027,\n",
       "         -0.07648706,  0.0839011 ],\n",
       "        [-0.04620048, -0.01521953, -0.12647277, ..., -0.09125784,\n",
       "         -0.2306224 ,  0.06405192],\n",
       "        ...,\n",
       "        [ 0.39273238,  0.29422426, -0.02260531, ...,  0.11581798,\n",
       "          0.27677605,  0.03557047],\n",
       "        [-0.19203518,  0.05898459, -0.19517837, ...,  0.13950504,\n",
       "          0.23568785,  0.05552768],\n",
       "        [ 0.16267218,  0.10333646,  0.07058631, ..., -0.00233541,\n",
       "         -0.10485238,  0.03070597]], dtype=float32),\n",
       " array([[ 0.03273484,  0.07510871, -0.16073008, ..., -0.07558242,\n",
       "          0.0068756 , -0.04683867],\n",
       "        [-0.07675386, -0.08901814, -0.20851116, ...,  0.07333098,\n",
       "          0.08258137,  0.01445365],\n",
       "        [ 0.47268334, -0.4179388 , -0.1472034 , ..., -0.36762807,\n",
       "         -0.3336852 , -0.07029014],\n",
       "        ...,\n",
       "        [ 0.10336182,  0.05393361, -0.20364106, ..., -0.1574478 ,\n",
       "         -0.09762609,  0.1550345 ],\n",
       "        [ 0.09383861,  0.06536231, -0.07694551, ..., -0.13951643,\n",
       "         -0.00145139, -0.02824804],\n",
       "        [ 0.44310558,  0.21602494,  0.14897291, ..., -0.27804616,\n",
       "          0.04183439,  0.24500678]], dtype=float32),\n",
       " array([[ 0.2606339 ,  0.186292  , -0.29002815, ..., -0.4873372 ,\n",
       "         -0.36725187, -0.0748243 ],\n",
       "        [ 0.15083192,  0.16283067, -0.07690116, ..., -0.08642321,\n",
       "          0.00540261,  0.05874011],\n",
       "        [ 0.13279895, -0.00346477,  0.04794109, ..., -0.0419686 ,\n",
       "          0.04747936, -0.03200915],\n",
       "        ...,\n",
       "        [ 0.11133739, -0.00240045, -0.05174482, ..., -0.10374898,\n",
       "         -0.1220997 , -0.03552387],\n",
       "        [ 0.00315475,  0.13024443, -0.03726584, ..., -0.4711422 ,\n",
       "         -0.32207033,  0.01866885],\n",
       "        [ 0.08299878,  0.23172313, -0.12011153, ..., -0.01155403,\n",
       "          0.03571194,  0.15360886]], dtype=float32),\n",
       " array([[ 0.63361245,  0.5156613 , -0.25706884, ..., -0.46589616,\n",
       "         -0.5193724 ,  0.02472551],\n",
       "        [-0.05795837,  0.06695955, -0.08250318, ..., -0.21202637,\n",
       "         -0.10715047,  0.1515953 ],\n",
       "        [ 0.25142685,  0.6351421 , -0.2534659 , ..., -0.50427353,\n",
       "         -0.42007855,  0.20812625],\n",
       "        ...,\n",
       "        [ 0.02450443, -0.02417698, -0.10567609, ..., -0.17940521,\n",
       "         -0.02767394,  0.041907  ],\n",
       "        [ 0.13843761, -0.05827449, -0.03635293, ..., -0.1208884 ,\n",
       "         -0.0522324 , -0.01311418],\n",
       "        [ 0.19118495,  0.23600192, -0.11505276, ..., -0.34746233,\n",
       "         -0.35605776,  0.3524899 ]], dtype=float32),\n",
       " array([[ 0.3385614 ,  0.05880243,  0.22966206, ...,  0.05624002,\n",
       "          0.28340983,  0.13192551],\n",
       "        [ 0.16538008,  0.05077199, -0.1655585 , ..., -0.13723744,\n",
       "          0.16396451,  0.37655762],\n",
       "        [ 0.10820528, -0.00776022, -0.10477257, ..., -0.09448007,\n",
       "         -0.11011142,  0.01343848],\n",
       "        ...,\n",
       "        [ 0.00544519, -0.00765997, -0.13885656, ..., -0.18277182,\n",
       "         -0.12234646,  0.00550202],\n",
       "        [ 0.03930512, -0.08626663, -0.41044855, ..., -0.25429025,\n",
       "         -0.23825423, -0.00144114],\n",
       "        [ 0.258938  , -0.04836086,  0.2972229 , ...,  0.16305548,\n",
       "          0.32465982,  0.03681354]], dtype=float32),\n",
       " array([[-3.89463198e-03,  2.48861134e-01, -3.01992685e-01, ...,\n",
       "          5.97801767e-02, -1.85480371e-01,  1.14765793e-01],\n",
       "        [ 1.04653679e-01,  2.20247135e-01, -1.50580123e-01, ...,\n",
       "          2.17871845e-01,  1.62942097e-01,  9.28488970e-02],\n",
       "        [ 1.10248983e-01,  2.80431628e-01, -2.58574158e-01, ...,\n",
       "         -1.53670475e-01, -3.77507895e-01,  3.91969234e-01],\n",
       "        ...,\n",
       "        [-1.48854405e-03, -9.92856175e-02,  5.65146878e-02, ...,\n",
       "         -4.13181894e-02, -4.39404161e-04,  1.55956611e-01],\n",
       "        [ 5.06958246e-01, -1.05400585e-01, -3.26390117e-01, ...,\n",
       "         -3.57442051e-02, -2.65264779e-01,  6.45381808e-02],\n",
       "        [ 2.95883566e-02,  1.62879229e-01, -5.64876236e-02, ...,\n",
       "         -1.68807104e-01, -1.37025014e-01,  2.54919082e-01]], dtype=float32),\n",
       " array([[-0.19031614, -0.12818354,  0.06287482, ..., -0.24812426,\n",
       "          0.06539405,  0.1551809 ],\n",
       "        [ 0.3059353 , -0.16822074,  0.628903  , ..., -0.3716003 ,\n",
       "          0.4719057 ,  0.5018686 ],\n",
       "        [-0.2951342 ,  0.32247636, -0.15566026, ...,  0.15095128,\n",
       "          0.19488616,  0.4496365 ],\n",
       "        ...,\n",
       "        [-0.22327907, -0.09993847, -0.10086777, ...,  0.10760725,\n",
       "         -0.01175547,  0.12753485],\n",
       "        [-0.38419518,  0.665414  ,  0.42608175, ...,  0.10079867,\n",
       "          0.13029072,  0.25995514],\n",
       "        [-0.17776382,  0.41477546,  0.0707413 , ..., -0.07734795,\n",
       "          0.14165129,  0.4327416 ]], dtype=float32),\n",
       " array([[-0.10460017,  0.3986989 , -0.33517233, ...,  0.04390363,\n",
       "          0.07758141,  0.14144103],\n",
       "        [ 0.33897403,  0.15587561, -0.14610209, ..., -0.10912749,\n",
       "         -0.10649976,  0.03450743],\n",
       "        [ 0.0036258 ,  0.32358196, -0.39022946, ...,  0.03058839,\n",
       "          0.05315796,  0.07889301],\n",
       "        ...,\n",
       "        [ 0.06286015,  0.1740489 , -0.2558138 , ...,  0.06800974,\n",
       "         -0.18979447,  0.0804877 ],\n",
       "        [ 0.01965764,  0.0036336 , -0.10679309, ..., -0.10173617,\n",
       "         -0.1913333 ,  0.06272153],\n",
       "        [ 0.09646612,  0.28299737, -0.385277  , ...,  0.1686065 ,\n",
       "         -0.13363612,  0.16300464]], dtype=float32),\n",
       " array([[ 0.09607359,  0.13730423,  0.21403736, ...,  0.21237229,\n",
       "         -0.3736416 ,  0.15448403],\n",
       "        [ 0.10336169,  0.0539336 , -0.2036411 , ..., -0.1574478 ,\n",
       "         -0.09762597,  0.1550345 ],\n",
       "        [-0.07675385, -0.08901817, -0.20851116, ...,  0.07333103,\n",
       "          0.08258142,  0.01445369],\n",
       "        ...,\n",
       "        [ 0.09383861,  0.06536245, -0.07694552, ..., -0.13951644,\n",
       "         -0.00145151, -0.02824805],\n",
       "        [ 0.07423215,  0.01545915, -0.0749146 , ..., -0.1423179 ,\n",
       "          0.02950058, -0.00921951],\n",
       "        [ 0.08023107,  0.07122397,  0.04451426, ..., -0.22022289,\n",
       "         -0.1909632 ,  0.05149947]], dtype=float32)]"
      ]
     },
     "execution_count": 45,
     "metadata": {},
     "output_type": "execute_result"
    }
   ],
   "source": [
    "ctm_es_tt = [teg.bert_embeddings_from_list(topic) for topic in  ctm_en[\"top_tokens\"]]\n",
    "ctm_es_tt"
   ]
  },
  {
   "cell_type": "code",
   "execution_count": 46,
   "metadata": {},
   "outputs": [
    {
     "data": {
      "text/plain": [
       "['victimas',\n",
       " 'muerte',\n",
       " 'violencia',\n",
       " 'anos',\n",
       " 'familia',\n",
       " 'dijo',\n",
       " 'carcel',\n",
       " 'prision',\n",
       " 'habia',\n",
       " 'madre']"
      ]
     },
     "execution_count": 46,
     "metadata": {},
     "output_type": "execute_result"
    }
   ],
   "source": [
    "ctm_en[\"top_tokens\"][0]"
   ]
  },
  {
   "cell_type": "code",
   "execution_count": 47,
   "metadata": {},
   "outputs": [
    {
     "data": {
      "application/vnd.jupyter.widget-view+json": {
       "model_id": "5a36aa69c6584c9689ae64f178f4ecc1",
       "version_major": 2,
       "version_minor": 0
      },
      "text/plain": [
       "Batches:   0%|          | 0/1 [00:00<?, ?it/s]"
      ]
     },
     "metadata": {},
     "output_type": "display_data"
    },
    {
     "data": {
      "application/vnd.jupyter.widget-view+json": {
       "model_id": "2595a26161ce45f79cc2e03bca725a4c",
       "version_major": 2,
       "version_minor": 0
      },
      "text/plain": [
       "Batches:   0%|          | 0/1 [00:00<?, ?it/s]"
      ]
     },
     "metadata": {},
     "output_type": "display_data"
    },
    {
     "data": {
      "application/vnd.jupyter.widget-view+json": {
       "model_id": "a59d9833fe30444fa1cd32d918df7289",
       "version_major": 2,
       "version_minor": 0
      },
      "text/plain": [
       "Batches:   0%|          | 0/1 [00:00<?, ?it/s]"
      ]
     },
     "metadata": {},
     "output_type": "display_data"
    },
    {
     "data": {
      "application/vnd.jupyter.widget-view+json": {
       "model_id": "b98deb5415494f5fa92ceebf841378d7",
       "version_major": 2,
       "version_minor": 0
      },
      "text/plain": [
       "Batches:   0%|          | 0/1 [00:00<?, ?it/s]"
      ]
     },
     "metadata": {},
     "output_type": "display_data"
    },
    {
     "data": {
      "application/vnd.jupyter.widget-view+json": {
       "model_id": "24370c8e194e4ca296779588d57baaf1",
       "version_major": 2,
       "version_minor": 0
      },
      "text/plain": [
       "Batches:   0%|          | 0/1 [00:00<?, ?it/s]"
      ]
     },
     "metadata": {},
     "output_type": "display_data"
    },
    {
     "data": {
      "application/vnd.jupyter.widget-view+json": {
       "model_id": "04ae38a6075a434d8d4fd5c963ce132f",
       "version_major": 2,
       "version_minor": 0
      },
      "text/plain": [
       "Batches:   0%|          | 0/1 [00:00<?, ?it/s]"
      ]
     },
     "metadata": {},
     "output_type": "display_data"
    },
    {
     "data": {
      "application/vnd.jupyter.widget-view+json": {
       "model_id": "534c9689e2c64811a5d81a0599adcadf",
       "version_major": 2,
       "version_minor": 0
      },
      "text/plain": [
       "Batches:   0%|          | 0/1 [00:00<?, ?it/s]"
      ]
     },
     "metadata": {},
     "output_type": "display_data"
    },
    {
     "data": {
      "application/vnd.jupyter.widget-view+json": {
       "model_id": "d4d200f2d477422abdb61bc98ef8f286",
       "version_major": 2,
       "version_minor": 0
      },
      "text/plain": [
       "Batches:   0%|          | 0/1 [00:00<?, ?it/s]"
      ]
     },
     "metadata": {},
     "output_type": "display_data"
    },
    {
     "data": {
      "application/vnd.jupyter.widget-view+json": {
       "model_id": "c40e39f068b34a87a012825b30fd9f21",
       "version_major": 2,
       "version_minor": 0
      },
      "text/plain": [
       "Batches:   0%|          | 0/1 [00:00<?, ?it/s]"
      ]
     },
     "metadata": {},
     "output_type": "display_data"
    },
    {
     "data": {
      "application/vnd.jupyter.widget-view+json": {
       "model_id": "f18af0827d004483961136ea3e9e96e0",
       "version_major": 2,
       "version_minor": 0
      },
      "text/plain": [
       "Batches:   0%|          | 0/1 [00:00<?, ?it/s]"
      ]
     },
     "metadata": {},
     "output_type": "display_data"
    },
    {
     "data": {
      "application/vnd.jupyter.widget-view+json": {
       "model_id": "f618dd5e813d467ba04c6eddd32da0af",
       "version_major": 2,
       "version_minor": 0
      },
      "text/plain": [
       "Batches:   0%|          | 0/1 [00:00<?, ?it/s]"
      ]
     },
     "metadata": {},
     "output_type": "display_data"
    },
    {
     "data": {
      "application/vnd.jupyter.widget-view+json": {
       "model_id": "eceaa11981f34afa875a2db48af96088",
       "version_major": 2,
       "version_minor": 0
      },
      "text/plain": [
       "Batches:   0%|          | 0/1 [00:00<?, ?it/s]"
      ]
     },
     "metadata": {},
     "output_type": "display_data"
    },
    {
     "data": {
      "application/vnd.jupyter.widget-view+json": {
       "model_id": "2a361e20596e4914875e5cc0c5e78ee4",
       "version_major": 2,
       "version_minor": 0
      },
      "text/plain": [
       "Batches:   0%|          | 0/1 [00:00<?, ?it/s]"
      ]
     },
     "metadata": {},
     "output_type": "display_data"
    },
    {
     "data": {
      "application/vnd.jupyter.widget-view+json": {
       "model_id": "df04768c896d4f628ddf771c40c6017c",
       "version_major": 2,
       "version_minor": 0
      },
      "text/plain": [
       "Batches:   0%|          | 0/1 [00:00<?, ?it/s]"
      ]
     },
     "metadata": {},
     "output_type": "display_data"
    },
    {
     "data": {
      "application/vnd.jupyter.widget-view+json": {
       "model_id": "712f44634a214538879e4036f15e593a",
       "version_major": 2,
       "version_minor": 0
      },
      "text/plain": [
       "Batches:   0%|          | 0/1 [00:00<?, ?it/s]"
      ]
     },
     "metadata": {},
     "output_type": "display_data"
    },
    {
     "data": {
      "application/vnd.jupyter.widget-view+json": {
       "model_id": "92ac2d4c22a14a80a233cb0506157317",
       "version_major": 2,
       "version_minor": 0
      },
      "text/plain": [
       "Batches:   0%|          | 0/1 [00:00<?, ?it/s]"
      ]
     },
     "metadata": {},
     "output_type": "display_data"
    },
    {
     "data": {
      "application/vnd.jupyter.widget-view+json": {
       "model_id": "76aa3594b6a241078b0260333c141b33",
       "version_major": 2,
       "version_minor": 0
      },
      "text/plain": [
       "Batches:   0%|          | 0/1 [00:00<?, ?it/s]"
      ]
     },
     "metadata": {},
     "output_type": "display_data"
    },
    {
     "data": {
      "application/vnd.jupyter.widget-view+json": {
       "model_id": "94b486c8c28a48c7a1643e4490afe3e7",
       "version_major": 2,
       "version_minor": 0
      },
      "text/plain": [
       "Batches:   0%|          | 0/1 [00:00<?, ?it/s]"
      ]
     },
     "metadata": {},
     "output_type": "display_data"
    },
    {
     "data": {
      "application/vnd.jupyter.widget-view+json": {
       "model_id": "ae4d8545d2234ba68bf8fcc4ffa43ac1",
       "version_major": 2,
       "version_minor": 0
      },
      "text/plain": [
       "Batches:   0%|          | 0/1 [00:00<?, ?it/s]"
      ]
     },
     "metadata": {},
     "output_type": "display_data"
    },
    {
     "data": {
      "application/vnd.jupyter.widget-view+json": {
       "model_id": "5d6e0e83e7bc4c81a60db5b3c999d4d8",
       "version_major": 2,
       "version_minor": 0
      },
      "text/plain": [
       "Batches:   0%|          | 0/1 [00:00<?, ?it/s]"
      ]
     },
     "metadata": {},
     "output_type": "display_data"
    },
    {
     "data": {
      "text/plain": [
       "[array([[ 0.13002804,  0.42563954, -0.14958605, ..., -0.0585849 ,\n",
       "         -0.11588492, -0.04450653],\n",
       "        [ 0.01157256,  0.46252355, -0.19963613, ..., -0.00736995,\n",
       "         -0.2559485 , -0.16089877],\n",
       "        [ 0.2359493 ,  0.27050492, -0.17870827, ...,  0.01956317,\n",
       "         -0.16353597, -0.0658498 ],\n",
       "        ...,\n",
       "        [-0.26966748, -0.08961271,  0.00098032, ...,  0.41010445,\n",
       "          0.09678333,  0.47717658],\n",
       "        [ 0.04476497,  0.3401986 , -0.25858805, ..., -0.00299962,\n",
       "         -0.36935058, -0.02254464],\n",
       "        [ 0.17503935, -0.13525139,  0.23522477, ...,  0.30606604,\n",
       "         -0.01114935, -0.35121307]], dtype=float32),\n",
       " array([[-0.02539056,  0.14042553, -0.02580502, ..., -0.31748393,\n",
       "         -0.01196427,  0.27763635],\n",
       "        [ 0.03126359,  0.1235887 , -0.0507437 , ..., -0.09362745,\n",
       "         -0.07994404,  0.1345269 ],\n",
       "        [ 0.18728973,  0.10884575,  0.0433085 , ..., -0.03211649,\n",
       "          0.10653403, -0.01074302],\n",
       "        ...,\n",
       "        [-0.00768687,  0.07930595, -0.268937  , ..., -0.1434402 ,\n",
       "          0.18653457,  0.12247811],\n",
       "        [ 0.02027086,  0.11771309,  0.08198215, ..., -0.01595772,\n",
       "          0.04418408,  0.15585056],\n",
       "        [ 0.00352551,  0.1002752 , -0.0939584 , ..., -0.13050379,\n",
       "         -0.09845848,  0.0356895 ]], dtype=float32),\n",
       " array([[ 0.3441782 ,  0.05105284, -0.08460511, ..., -0.0156437 ,\n",
       "         -0.1213645 ,  0.08001895],\n",
       "        [ 0.1436543 ,  0.07959058, -0.08688205, ..., -0.12860046,\n",
       "         -0.05957381,  0.1833872 ],\n",
       "        [-0.15623543, -0.35219598, -0.08412077, ...,  0.45837715,\n",
       "          0.06867079, -0.06080949],\n",
       "        ...,\n",
       "        [ 0.13478115, -0.09501716, -0.00725536, ..., -0.12867023,\n",
       "         -0.02255801, -0.03030565],\n",
       "        [ 0.0086518 ,  0.0945689 ,  0.01414602, ..., -0.13380605,\n",
       "         -0.06471673,  0.1672428 ],\n",
       "        [ 0.27991173,  0.42025083, -0.23067337, ..., -0.3556717 ,\n",
       "         -0.09942582,  0.12440908]], dtype=float32),\n",
       " array([[ 0.05214432,  0.05105978, -0.25787145, ..., -0.12052426,\n",
       "         -0.00801551,  0.13631901],\n",
       "        [-0.08273315,  0.15926075, -0.354527  , ..., -0.4882911 ,\n",
       "         -0.04820609,  0.02286986],\n",
       "        [-0.05774825,  0.03393535,  0.05209906, ...,  0.00745865,\n",
       "          0.23023155,  0.39639527],\n",
       "        ...,\n",
       "        [ 0.23523843,  0.03150366, -0.07536969, ..., -0.05942732,\n",
       "         -0.03317231,  0.19117312],\n",
       "        [ 0.00129676,  0.08428822, -0.1458038 , ..., -0.22386317,\n",
       "          0.01215096,  0.09649684],\n",
       "        [ 0.06105136,  0.1994288 , -0.05685848, ..., -0.15181391,\n",
       "         -0.02760179,  0.16103098]], dtype=float32),\n",
       " array([[-0.18639068,  0.11217721, -0.09832017, ...,  0.35792956,\n",
       "          0.00549516,  0.17570432],\n",
       "        [-0.20818006,  0.36625636, -0.19160053, ..., -0.11964742,\n",
       "          0.01278784,  0.10520161],\n",
       "        [-0.2796847 ,  0.2271353 ,  0.16263865, ..., -0.2456263 ,\n",
       "         -0.16563416,  0.08484128],\n",
       "        ...,\n",
       "        [ 0.21911192, -0.02887912,  0.10426617, ..., -0.09557601,\n",
       "          0.06048943,  0.00436039],\n",
       "        [ 0.08912262,  0.13693315, -0.0093569 , ..., -0.14718167,\n",
       "          0.12784585,  0.20302704],\n",
       "        [-0.17218654,  0.20302507, -0.24491991, ..., -0.1354123 ,\n",
       "         -0.05719645,  0.20685667]], dtype=float32),\n",
       " array([[ 0.38463408,  0.35779092, -0.35043767, ...,  0.16088094,\n",
       "         -0.03398119,  0.37007463],\n",
       "        [ 0.16790135, -0.48412883, -0.2490052 , ..., -0.01512894,\n",
       "         -0.13898937,  0.15060557],\n",
       "        [-0.08472694,  0.03977661, -0.01526109, ...,  0.33280578,\n",
       "         -0.24621575,  0.4232626 ],\n",
       "        ...,\n",
       "        [-0.13803916, -0.3102388 , -0.01661368, ...,  0.22265786,\n",
       "          0.02436192,  0.41579148],\n",
       "        [-0.03930249,  0.24827531, -0.01454211, ...,  0.26425982,\n",
       "         -0.2092405 ,  0.21697333],\n",
       "        [ 0.21450835,  0.22127004, -0.56684375, ..., -0.23317206,\n",
       "          0.09049681,  0.22477779]], dtype=float32),\n",
       " array([[ 0.16491221,  0.07713962, -0.06796183, ...,  0.01116939,\n",
       "         -0.04064133,  0.13086435],\n",
       "        [ 0.05472339,  0.10848723,  0.00194128, ..., -0.02098092,\n",
       "         -0.08155663,  0.3085638 ],\n",
       "        [-0.102097  ,  0.2978145 , -0.05488804, ...,  0.0498118 ,\n",
       "         -0.10524917,  0.24181111],\n",
       "        ...,\n",
       "        [ 0.44203788,  0.0416912 ,  0.06944963, ...,  0.34454948,\n",
       "          0.09764363,  0.02479746],\n",
       "        [-0.07844153,  0.19038215, -0.14012176, ..., -0.18174008,\n",
       "         -0.02777036,  0.22076908],\n",
       "        [-0.0392555 ,  0.16476825,  0.12546581, ...,  0.07749362,\n",
       "         -0.00488409,  0.33207327]], dtype=float32),\n",
       " array([[ 0.12798707,  0.09794263, -0.02155373, ..., -0.00957951,\n",
       "          0.08092535,  0.09070322],\n",
       "        [ 0.00282317,  0.22984202, -0.01488673, ...,  0.03271254,\n",
       "         -0.14469866,  0.16915248],\n",
       "        [-0.03206859, -0.02708843,  0.01861801, ..., -0.18274646,\n",
       "         -0.04120984,  0.2344985 ],\n",
       "        ...,\n",
       "        [-0.03576437,  0.24915415,  0.03750173, ..., -0.04866567,\n",
       "         -0.22734088,  0.11841933],\n",
       "        [-0.06547137, -0.09454026, -0.13305013, ..., -0.35918713,\n",
       "         -0.02825809,  0.15255077],\n",
       "        [ 0.56550175, -0.06896437,  0.03210273, ..., -0.10939687,\n",
       "         -0.29915553,  0.25023633]], dtype=float32),\n",
       " array([[ 0.2192462 , -0.00858824,  0.04392515, ...,  0.14347719,\n",
       "         -0.02116253,  0.03552635],\n",
       "        [ 0.16601488,  0.11592172, -0.0706132 , ...,  0.03814484,\n",
       "         -0.09991752,  0.1325345 ],\n",
       "        [ 0.24788204,  0.08252392,  0.00708487, ...,  0.2445083 ,\n",
       "         -0.06160571,  0.05862554],\n",
       "        ...,\n",
       "        [ 0.39102566,  0.28768754,  0.03666397, ...,  0.09036272,\n",
       "         -0.22075433,  0.2327827 ],\n",
       "        [ 0.29394764, -0.0174844 , -0.070631  , ...,  0.0607546 ,\n",
       "         -0.23521328,  0.24418747],\n",
       "        [ 0.00404949, -0.18105787, -0.02476004, ...,  0.09718674,\n",
       "         -0.00727622,  0.3673123 ]], dtype=float32),\n",
       " array([[-0.05383908,  0.36974275,  0.13580897, ..., -0.02525163,\n",
       "         -0.01572108,  0.06378484],\n",
       "        [ 0.16961138,  0.11823502,  0.04564645, ..., -0.05951924,\n",
       "         -0.18962881,  0.23120525],\n",
       "        [ 0.10918096, -0.07536405,  0.07469296, ..., -0.05317048,\n",
       "          0.04971244,  0.14730833],\n",
       "        ...,\n",
       "        [ 0.0212769 ,  0.07994063, -0.05779632, ...,  0.0057281 ,\n",
       "         -0.03149382,  0.15823197],\n",
       "        [ 0.06679308,  0.08118122, -0.05418354, ..., -0.14928637,\n",
       "          0.07204007,  0.15813135],\n",
       "        [ 0.22682355, -0.13070874,  0.30887735, ..., -0.24647646,\n",
       "         -0.21940713,  0.14782268]], dtype=float32),\n",
       " array([[ 0.086031  ,  0.10681044, -0.05886448, ..., -0.09788127,\n",
       "         -0.03990252,  0.19244568],\n",
       "        [ 0.05911032,  0.15510572, -0.07131699, ..., -0.08927844,\n",
       "          0.02729815,  0.1544496 ],\n",
       "        [-0.03317488,  0.4768207 , -0.25181738, ..., -0.00799774,\n",
       "          0.18393111,  0.42619288],\n",
       "        ...,\n",
       "        [ 0.221597  ,  0.10671376, -0.08481023, ..., -0.04249995,\n",
       "         -0.21096572,  0.19966961],\n",
       "        [-0.0511489 ,  0.2196364 , -0.22693478, ..., -0.19182031,\n",
       "          0.13332902,  0.38186345],\n",
       "        [-0.00836868,  0.47275034, -0.4452572 , ..., -0.2038552 ,\n",
       "          0.03418648,  0.25854507]], dtype=float32),\n",
       " array([[ 0.10530624,  0.00690134, -0.15947194, ..., -0.01930887,\n",
       "         -0.24855202,  0.08699755],\n",
       "        [ 0.13953643,  0.12971246, -0.02282611, ...,  0.04478494,\n",
       "          0.10723402,  0.4109985 ],\n",
       "        [ 0.16174525,  0.09265578, -0.02648398, ..., -0.12193749,\n",
       "         -0.05045665,  0.08306009],\n",
       "        ...,\n",
       "        [ 0.08365782,  0.09869179, -0.05673188, ..., -0.09724485,\n",
       "         -0.11136024,  0.14148411],\n",
       "        [ 0.05524237, -0.10446225,  0.05151584, ..., -0.08392685,\n",
       "         -0.2839662 ,  0.25403205],\n",
       "        [ 0.06366954,  0.09802806, -0.14618969, ..., -0.22929893,\n",
       "         -0.13974865,  0.2641921 ]], dtype=float32),\n",
       " array([[ 0.00815483,  0.2168089 ,  0.0649998 , ..., -0.08213477,\n",
       "          0.05632911,  0.12116746],\n",
       "        [-0.03790582,  0.25169298, -0.06289899, ..., -0.188182  ,\n",
       "         -0.00874029,  0.12152554],\n",
       "        [ 0.29869896,  0.1785059 , -0.20020768, ..., -0.11030118,\n",
       "         -0.46105257,  0.37600747],\n",
       "        ...,\n",
       "        [-0.03488145,  0.02991568,  0.00293958, ..., -0.02001551,\n",
       "          0.07155487,  0.19130927],\n",
       "        [ 0.3946767 , -0.14668581, -0.03778815, ..., -0.17710763,\n",
       "         -0.46705413,  0.25395492],\n",
       "        [-0.16548486, -0.06861097, -0.10899829, ...,  0.15836161,\n",
       "          0.06385789,  0.15741304]], dtype=float32),\n",
       " array([[ 0.03202402,  0.29576358, -0.13770276, ..., -0.20946145,\n",
       "         -0.03879467,  0.10781834],\n",
       "        [ 0.11839952,  0.30041957, -0.20738563, ..., -0.2631578 ,\n",
       "         -0.0050421 ,  0.1750232 ],\n",
       "        [-0.19437541,  0.24906206, -0.03069609, ..., -0.15751927,\n",
       "         -0.02667578,  0.23720744],\n",
       "        ...,\n",
       "        [ 0.13985837,  0.13274544, -0.06665446, ..., -0.33253738,\n",
       "         -0.09468818, -0.250649  ],\n",
       "        [-0.05425764,  0.1904432 , -0.02220523, ..., -0.31136078,\n",
       "         -0.36527452,  0.34115604],\n",
       "        [-0.08347336, -0.15149549, -0.24341004, ..., -0.22688901,\n",
       "         -0.2506647 ,  0.27669343]], dtype=float32),\n",
       " array([[ 0.04071959,  0.03167957, -0.05159646, ..., -0.11590471,\n",
       "         -0.05006374,  0.18868963],\n",
       "        [-0.07062197,  0.05580727,  0.08947672, ..., -0.2560804 ,\n",
       "          0.14904885,  0.29593083],\n",
       "        [ 0.08981561,  0.10724774, -0.04448709, ..., -0.0987746 ,\n",
       "         -0.12208788, -0.12205552],\n",
       "        ...,\n",
       "        [ 0.11330565,  0.04428494, -0.18594304, ..., -0.11040229,\n",
       "         -0.11013196,  0.27428156],\n",
       "        [ 0.11166207,  0.19900568, -0.13023391, ..., -0.07681981,\n",
       "         -0.03217548,  0.08090317],\n",
       "        [-0.01557449,  0.2513579 , -0.33387637, ..., -0.18721317,\n",
       "          0.06493802,  0.28633964]], dtype=float32),\n",
       " array([[-0.23647884,  0.21934208, -0.29859114, ..., -0.40002772,\n",
       "         -0.5005154 ,  0.40790436],\n",
       "        [-0.1356472 ,  0.0518465 , -0.07119902, ...,  0.01902902,\n",
       "         -0.3461213 ,  0.42469314],\n",
       "        [-0.02865111,  0.15826137, -0.20704293, ..., -0.29967004,\n",
       "          0.15068096,  0.10750715],\n",
       "        ...,\n",
       "        [ 0.04148934,  0.12729537, -0.01610062, ..., -0.01308595,\n",
       "          0.17507172,  0.05306153],\n",
       "        [ 0.05752645,  0.10385782, -0.04557065, ..., -0.13456075,\n",
       "          0.003841  ,  0.19086935],\n",
       "        [-0.10688486,  0.11713953,  0.11269595, ..., -0.08506998,\n",
       "         -0.0345246 ,  0.28479633]], dtype=float32),\n",
       " array([[-5.13096638e-02, -1.82829797e-04, -3.30642313e-01, ...,\n",
       "         -3.95455360e-01,  3.70620117e-02, -3.98253649e-02],\n",
       "        [ 1.05078341e-02, -2.33517647e-01, -1.01035789e-01, ...,\n",
       "         -2.88786054e-01, -1.20346822e-01,  3.10059674e-02],\n",
       "        [ 1.65380076e-01,  5.07719927e-02, -1.65558502e-01, ...,\n",
       "         -1.37237445e-01,  1.63964510e-01,  3.76557618e-01],\n",
       "        ...,\n",
       "        [ 1.53076826e-02,  8.90384316e-02, -1.28652334e-01, ...,\n",
       "         -1.69731185e-01,  3.34433094e-02,  3.41353789e-02],\n",
       "        [-1.76044144e-02,  1.91741556e-01, -2.89001286e-01, ...,\n",
       "         -1.02597445e-01, -8.06845278e-02,  9.50390846e-02],\n",
       "        [ 6.25886858e-01, -1.70191601e-01, -6.57138377e-02, ...,\n",
       "         -5.82585514e-01, -4.90595043e-01,  5.78803159e-02]], dtype=float32),\n",
       " array([[ 0.12916009,  0.11293025, -0.05132671, ..., -0.09875583,\n",
       "         -0.01580687,  0.01415897],\n",
       "        [ 0.03691825,  0.01500126, -0.02758228, ..., -0.06264835,\n",
       "          0.01212206,  0.16903524],\n",
       "        [-0.01907385,  0.04061873, -0.04640142, ..., -0.10687785,\n",
       "          0.04247571,  0.00916025],\n",
       "        ...,\n",
       "        [ 0.03205174,  0.14106196, -0.06681407, ..., -0.0620848 ,\n",
       "         -0.08480931,  0.05560185],\n",
       "        [ 0.2496309 ,  0.07697269, -0.12984893, ..., -0.29527414,\n",
       "         -0.08810665,  0.01671074],\n",
       "        [-0.08811873,  0.08040926,  0.10971247, ..., -0.10412626,\n",
       "          0.2891091 , -0.00765206]], dtype=float32),\n",
       " array([[ 0.28457308,  0.13422488, -0.25209373, ..., -0.01494845,\n",
       "         -0.52954555,  0.18530624],\n",
       "        [ 0.20260485,  0.1194981 , -0.14350057, ..., -0.10278972,\n",
       "         -0.36646906,  0.20543656],\n",
       "        [ 0.18320565, -0.13695607, -0.07648776, ..., -0.03988257,\n",
       "         -0.28364116,  0.12874876],\n",
       "        ...,\n",
       "        [-0.01382034,  0.12061103, -0.07665168, ..., -0.03955304,\n",
       "         -0.02620365,  0.19246343],\n",
       "        [ 0.09139178,  0.17601687, -0.09445994, ..., -0.08252913,\n",
       "          0.01859619,  0.07332462],\n",
       "        [ 0.03764809,  0.15826254, -0.06589378, ..., -0.03658359,\n",
       "         -0.0602033 ,  0.17535627]], dtype=float32),\n",
       " array([[ 0.11302161,  0.18757299, -0.576404  , ..., -0.15314963,\n",
       "         -0.14606343, -0.11721066],\n",
       "        [-0.03802717,  0.02756469, -0.25941658, ...,  0.07047775,\n",
       "         -0.10074123,  0.30604482],\n",
       "        [-0.17722087,  0.03481865, -0.47735834, ..., -0.30227086,\n",
       "         -0.05659976,  0.00949689],\n",
       "        ...,\n",
       "        [ 0.01149541,  0.14959286, -0.06381152, ..., -0.1013096 ,\n",
       "          0.05872633,  0.02725208],\n",
       "        [-0.01225119,  0.19190177, -0.04062531, ..., -0.2771361 ,\n",
       "          0.04739789,  0.0686026 ],\n",
       "        [ 0.1457783 ,  0.843816  , -0.06131742, ..., -0.18957846,\n",
       "         -0.32012948,  0.03766792]], dtype=float32)]"
      ]
     },
     "execution_count": 47,
     "metadata": {},
     "output_type": "execute_result"
    }
   ],
   "source": [
    "ctm_de_tt = [teg.bert_embeddings_from_list(topic) for topic in  ctm_de[\"top_tokens\"]]\n",
    "ctm_de_tt"
   ]
  },
  {
   "cell_type": "code",
   "execution_count": 55,
   "metadata": {},
   "outputs": [
    {
     "data": {
      "text/plain": [
       "0.43020751029253007"
      ]
     },
     "execution_count": 55,
     "metadata": {},
     "output_type": "execute_result"
    }
   ],
   "source": [
    "sum([cosine_similarity(ctm_en_tt[i],ctm_es_tt[i]).mean() for i in range(len(ctm_en_tt))]) / len(ctm_en_tt)"
   ]
  },
  {
   "cell_type": "code",
   "execution_count": 56,
   "metadata": {},
   "outputs": [
    {
     "data": {
      "text/plain": [
       "0.3572262957692146"
      ]
     },
     "execution_count": 56,
     "metadata": {},
     "output_type": "execute_result"
    }
   ],
   "source": [
    "sum([cosine_similarity(ctm_en_tt[i],ctm_de_tt[i]).mean() for i in range(len(ctm_en_tt))]) / len(ctm_en_tt)"
   ]
  },
  {
   "cell_type": "code",
   "execution_count": null,
   "metadata": {},
   "outputs": [],
   "source": []
  }
 ],
 "metadata": {
  "kernelspec": {
   "display_name": "base",
   "language": "python",
   "name": "python3"
  },
  "language_info": {
   "codemirror_mode": {
    "name": "ipython",
    "version": 3
   },
   "file_extension": ".py",
   "mimetype": "text/x-python",
   "name": "python",
   "nbconvert_exporter": "python",
   "pygments_lexer": "ipython3",
   "version": "3.8.5"
  }
 },
 "nbformat": 4,
 "nbformat_minor": 2
}
